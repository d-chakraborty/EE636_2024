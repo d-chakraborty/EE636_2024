{
 "cells": [
  {
   "cell_type": "code",
   "execution_count": 1,
   "id": "2f42a25d",
   "metadata": {},
   "outputs": [],
   "source": [
    "using Random\n",
    "using LinearAlgebra\n",
    "rng = MersenneTwister(2018)\n",
    "import LinearAlgebra.dot\n",
    "import LinearAlgebra.norm\n",
    "import LinearAlgebra.triu\n",
    "import LinearAlgebra.diag\n",
    "using Printf"
   ]
  },
  {
   "cell_type": "code",
   "execution_count": 2,
   "id": "474ec6f2",
   "metadata": {},
   "outputs": [
    {
     "data": {
      "text/plain": [
       "4×4 Matrix{Float64}:\n",
       "  2.0  -4.0  5.0  -1.0\n",
       "  4.0   2.0  1.0  -3.0\n",
       " -3.0   1.0  2.0  -6.0\n",
       "  3.0  -6.0  5.0   2.0"
      ]
     },
     "execution_count": 2,
     "metadata": {},
     "output_type": "execute_result"
    }
   ],
   "source": [
    "A = [2 -4 5 -1;4 2 1 -3;-3 1 2 -6;3 -6 5 2]\n",
    "# A = [2 -1 4; 3 4 -2; 1 4 2; -4 -1 3]\n",
    "A = float(A)\n",
    "A0 = copy(A)\n",
    "B0 = copy(A)\n",
    "C0 = copy(A)"
   ]
  },
  {
   "cell_type": "code",
   "execution_count": 3,
   "id": "86fa8a46",
   "metadata": {},
   "outputs": [
    {
     "data": {
      "text/plain": [
       "house (generic function with 1 method)"
      ]
     },
     "execution_count": 3,
     "metadata": {},
     "output_type": "execute_result"
    }
   ],
   "source": [
    "function house(x)\n",
    "    \"\"\"Computes the Householder transformation for input vector x\"\"\"\n",
    "    sigma = dot(x[2:end],x[2:end])\n",
    "    v = copy(x)\n",
    "\n",
    "    if sigma == 0\n",
    "        beta = 0\n",
    "        return beta, v\n",
    "    end\n",
    "\n",
    "    sq = sqrt(x[1]^2 + sigma)\n",
    "    if x[1] > 0\n",
    "        v[1] += sq\n",
    "    else\n",
    "        v[1] -= sq\n",
    "    end\n",
    "\n",
    "    beta = 2.0 / (v[1]^2 + sigma)\n",
    "\n",
    "    return beta, v\n",
    "end\n"
   ]
  },
  {
   "cell_type": "code",
   "execution_count": 4,
   "id": "839d8b92",
   "metadata": {},
   "outputs": [
    {
     "data": {
      "text/plain": [
       "\"R\""
      ]
     },
     "metadata": {},
     "output_type": "display_data"
    },
    {
     "data": {
      "text/plain": [
       "4×4 Matrix{Float64}:\n",
       " -6.16441   3.40665  -3.73109  -1.62221\n",
       "  0.0      -6.73756   4.94088   2.14821\n",
       "  0.0       0.0      -4.08248   6.53197\n",
       "  0.0       0.0       0.0      -0.294884"
      ]
     },
     "metadata": {},
     "output_type": "display_data"
    },
    {
     "data": {
      "text/plain": [
       "\"Q\""
      ]
     },
     "metadata": {},
     "output_type": "display_data"
    },
    {
     "data": {
      "text/plain": [
       "4×4 Matrix{Float64}:\n",
       " -0.324443   0.429642   -0.408248     -0.73721\n",
       " -0.648886  -0.624933   -0.408248      0.147442\n",
       "  0.486664   0.0976458  -0.816497      0.294884\n",
       " -0.486664   0.644462    1.45035e-17   0.589768"
      ]
     },
     "metadata": {},
     "output_type": "display_data"
    }
   ],
   "source": [
    "#Householder transformation\n",
    "    m = size(A,1)\n",
    "    n = size(A,2)\n",
    "    vA = zeros(n)\n",
    "    E = Matrix{Float64}(I, m, m)\n",
    "    kend = (m > n ? n : m-1)\n",
    "    #display(kend)\n",
    "   Q = copy(E)\n",
    "    for k=1:kend\n",
    "        beta, v = house(A[k:end,k])\n",
    "    G = Matrix{Float64}(I, m-k+1, m-k+1) - beta*v*v'\n",
    "\n",
    "    P = copy(E)\n",
    "    P = float(P)\n",
    "    P[k:end, k:end] = G\n",
    " \n",
    "    Q = Q*P\n",
    "    \n",
    "    #v = v/v(1)\n",
    "        for j=k:n\n",
    "            # vA = beta * v^T * A\n",
    "            vA[j] = 0.0\n",
    "            for i=k:m\n",
    "                vA[j] += v[i-k+1] * A[i,j]\n",
    "            end\n",
    "            vA[j] *= beta\n",
    "        end\n",
    "        # A - beta v (v^T A)\n",
    "        for j=k:n, i=k:m\n",
    "            A[i,j] -= v[i-k+1] * vA[j]\n",
    "        end\n",
    "    v = v/v[1]\n",
    "        A[k+1:end,k] = v[2:end]\n",
    "        # Saving v in the lower triangular part of A.\n",
    "        # This was not done here but one can always\n",
    "        # divide v by v[1] such that v[1] = 1 is always true.\n",
    "        # In that case, v[1] does not need to be stored.\n",
    "    end\n",
    "    R = triu(A)\n",
    "    display(\"R\")\n",
    "    display(R)\n",
    "    display(\"Q\")\n",
    "    display(Q)"
   ]
  },
  {
   "cell_type": "code",
   "execution_count": 5,
   "id": "95108cc1",
   "metadata": {},
   "outputs": [
    {
     "data": {
      "text/plain": [
       "4×3 Matrix{Float64}:\n",
       " -6.16441  -3.73109  -1.62221\n",
       "  0.0       4.94088   2.14821\n",
       "  0.0      -4.08248   6.53197\n",
       "  0.0       0.0      -0.294884"
      ]
     },
     "execution_count": 5,
     "metadata": {},
     "output_type": "execute_result"
    }
   ],
   "source": [
    "H = R[:,[1,3,4]]  #deleting second column of R"
   ]
  },
  {
   "cell_type": "code",
   "execution_count": 6,
   "id": "27370f78",
   "metadata": {},
   "outputs": [
    {
     "data": {
      "text/plain": [
       "givens (generic function with 1 method)"
      ]
     },
     "execution_count": 6,
     "metadata": {},
     "output_type": "execute_result"
    }
   ],
   "source": [
    "function givens(a, b)\n",
    "    if b == 0\n",
    "        c = 1\n",
    "        s = 0\n",
    "    else\n",
    "        if abs(b) > abs(a)\n",
    "            tau = -a/b\n",
    "            s = 1.0/sqrt(1.0+tau*tau)\n",
    "            c = s*tau\n",
    "        else\n",
    "            tau = -b/a\n",
    "            c = 1.0/sqrt(1.0+tau*tau)\n",
    "            s = c*tau\n",
    "        end\n",
    "    end\n",
    "    return (c, s)\n",
    "end"
   ]
  },
  {
   "cell_type": "code",
   "execution_count": 7,
   "id": "71041064",
   "metadata": {},
   "outputs": [
    {
     "data": {
      "text/plain": [
       "\"G\""
      ]
     },
     "metadata": {},
     "output_type": "display_data"
    },
    {
     "data": {
      "text/plain": [
       "4×4 Matrix{Float64}:\n",
       " 1.0  0.0         0.0         0.0\n",
       " 0.0  0.770894   -0.636964    0.0\n",
       " 0.0  0.63629     0.770078   -0.0459996\n",
       " 0.0  0.0293001   0.0354608   0.998941"
      ]
     },
     "metadata": {},
     "output_type": "display_data"
    },
    {
     "data": {
      "text/plain": [
       "\"H\""
      ]
     },
     "metadata": {},
     "output_type": "display_data"
    },
    {
     "data": {
      "text/plain": [
       "4×3 Matrix{Float64}:\n",
       " -6.16441  -3.73109      -1.62221\n",
       "  0.0       6.40929      -2.50459\n",
       "  0.0      -4.44089e-16   6.41057\n",
       "  0.0       0.0          -5.55112e-17"
      ]
     },
     "metadata": {},
     "output_type": "display_data"
    }
   ],
   "source": [
    "# function givens_QR(A)\n",
    "    n = size(H,1)\n",
    "    m = size(H,2)\n",
    "    G = Matrix(1.0I, n, n)\n",
    "    for k=1:m\n",
    "        c, s = givens(H[k,k], H[k+1,k])\n",
    "        T = Matrix(1.0I, n, n) # Identity matrix of Float64 type\n",
    "        T[k,k] = T[k+1, k+1] = c; T[k,k+1]= -s\n",
    "        T[k+1,k] = s; \n",
    "        G = T*G\n",
    "#         display(\"T\")\n",
    "#         display(T)\n",
    "        # Apply the Givens rotation to row k and k+1\n",
    "        for j=k:m\n",
    "            H[k,j], H[k+1,j] =( c * H[k,j] - s * H[k+1,j], s * H[k,j] + c * H[k+1,j] )\n",
    "        end\n",
    "    end\n",
    "        display(\"G\")\n",
    "        display(G)\n",
    "        display(\"H\")\n",
    "        display(H)"
   ]
  },
  {
   "cell_type": "code",
   "execution_count": 1,
   "id": "fa8ba713",
   "metadata": {},
   "outputs": [
    {
     "ename": "LoadError",
     "evalue": "UndefVarError: `G` not defined",
     "output_type": "error",
     "traceback": [
      "UndefVarError: `G` not defined",
      ""
     ]
    }
   ],
   "source": [
    "G #Givens rotator"
   ]
  },
  {
   "cell_type": "code",
   "execution_count": 9,
   "id": "e51146b3",
   "metadata": {},
   "outputs": [
    {
     "data": {
      "text/plain": [
       "4×3 Matrix{Float64}:\n",
       " -6.16441  -3.73109      -1.62221\n",
       "  0.0       6.40929      -2.50459\n",
       "  0.0      -4.44089e-16   6.41057\n",
       "  0.0       0.0          -5.55112e-17"
      ]
     },
     "execution_count": 9,
     "metadata": {},
     "output_type": "execute_result"
    }
   ],
   "source": [
    "R1 = H #Upper triangular matrix R1"
   ]
  },
  {
   "cell_type": "code",
   "execution_count": 10,
   "id": "92bbe8d5",
   "metadata": {},
   "outputs": [
    {
     "data": {
      "text/plain": [
       "4×4 Matrix{Float64}:\n",
       " -0.324443   0.591247  -0.0070951  -0.738318\n",
       " -0.648886  -0.221718  -0.718804    0.114498\n",
       "  0.486664   0.595353  -0.580199    0.268479\n",
       " -0.486664   0.496812   0.382936    0.608026"
      ]
     },
     "execution_count": 10,
     "metadata": {},
     "output_type": "execute_result"
    }
   ],
   "source": [
    "Q1 = Q*G' #orthogonal matrix Q1"
   ]
  },
  {
   "cell_type": "code",
   "execution_count": 11,
   "id": "48c2492d",
   "metadata": {},
   "outputs": [
    {
     "data": {
      "text/plain": [
       "4×3 Matrix{Float64}:\n",
       "  2.0  5.0  -1.0\n",
       "  4.0  1.0  -3.0\n",
       " -3.0  2.0  -6.0\n",
       "  3.0  5.0   2.0"
      ]
     },
     "execution_count": 11,
     "metadata": {},
     "output_type": "execute_result"
    }
   ],
   "source": [
    "A1 = Q1*R1 #second column deleted"
   ]
  },
  {
   "cell_type": "code",
   "execution_count": 12,
   "id": "30315c76",
   "metadata": {},
   "outputs": [
    {
     "data": {
      "text/plain": [
       "4×4 Matrix{Float64}:\n",
       "  2.0  -4.0  5.0  -1.0\n",
       "  4.0   2.0  1.0  -3.0\n",
       " -3.0   1.0  2.0  -6.0\n",
       "  3.0  -6.0  5.0   2.0"
      ]
     },
     "execution_count": 12,
     "metadata": {},
     "output_type": "execute_result"
    }
   ],
   "source": [
    "A0 #given matrix"
   ]
  },
  {
   "cell_type": "code",
   "execution_count": null,
   "id": "0b3196d0",
   "metadata": {},
   "outputs": [],
   "source": []
  }
 ],
 "metadata": {
  "@webio": {
   "lastCommId": null,
   "lastKernelId": null
  },
  "kernelspec": {
   "display_name": "Julia 1.10.0",
   "language": "julia",
   "name": "julia-1.10"
  },
  "language_info": {
   "file_extension": ".jl",
   "mimetype": "application/julia",
   "name": "julia",
   "version": "1.10.0"
  }
 },
 "nbformat": 4,
 "nbformat_minor": 5
}
