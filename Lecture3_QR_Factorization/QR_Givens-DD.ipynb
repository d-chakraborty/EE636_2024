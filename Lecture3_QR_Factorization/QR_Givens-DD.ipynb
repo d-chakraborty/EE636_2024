{
 "cells": [
  {
   "cell_type": "code",
   "execution_count": 1,
   "metadata": {},
   "outputs": [],
   "source": [
    "using Random\n",
    "using LinearAlgebra\n",
    "rng = MersenneTwister(2018)\n",
    "import LinearAlgebra.dot\n",
    "import LinearAlgebra.norm\n",
    "import LinearAlgebra.triu\n",
    ";"
   ]
  },
  {
   "cell_type": "code",
   "execution_count": 2,
   "metadata": {},
   "outputs": [
    {
     "data": {
      "text/plain": [
       "4×4 Matrix{Float64}:\n",
       " 1.0  4.0  2.0  3.0\n",
       " 3.0  4.0  1.0  7.0\n",
       " 0.0  2.0  3.0  4.0\n",
       " 0.0  0.0  1.0  3.0"
      ]
     },
     "execution_count": 2,
     "metadata": {},
     "output_type": "execute_result"
    }
   ],
   "source": [
    "# n = 5\n",
    "# A = triu(rand(rng,n,n),-1)\n",
    "A = [1 4 2 3;3 4 1 7;0 2 3 4;0 0 1 3]\n",
    "A = float(A)\n",
    "n = size(A,1)\n",
    "\n",
    "# A is a matrix with non-zero entries only above the first sub-diagonal.\n",
    "# Such a matrix is also called an upper Hessenberg matrix.\n",
    "A"
   ]
  },
  {
   "cell_type": "code",
   "execution_count": 3,
   "metadata": {},
   "outputs": [
    {
     "data": {
      "text/plain": [
       "givens (generic function with 1 method)"
      ]
     },
     "execution_count": 3,
     "metadata": {},
     "output_type": "execute_result"
    }
   ],
   "source": [
    "function givens(a, b)\n",
    "    if b == 0\n",
    "        c = 1\n",
    "        s = 0\n",
    "    else\n",
    "        if abs(b) > abs(a)\n",
    "            tau = -a/b\n",
    "            s = 1.0/sqrt(1.0+tau*tau)\n",
    "            c = s*tau\n",
    "        else\n",
    "            tau = -b/a\n",
    "            c = 1.0/sqrt(1.0+tau*tau)\n",
    "            s = c*tau\n",
    "        end\n",
    "    end\n",
    "    return (c, s)\n",
    "end"
   ]
  },
  {
   "cell_type": "code",
   "execution_count": 4,
   "metadata": {},
   "outputs": [
    {
     "data": {
      "text/plain": [
       "\"A\""
      ]
     },
     "metadata": {},
     "output_type": "display_data"
    },
    {
     "data": {
      "text/plain": [
       "4×4 Matrix{Float64}:\n",
       " -3.16228      -5.05964  -1.58114  -7.58947\n",
       "  1.11022e-16   2.52982   1.58114   0.632456\n",
       "  0.0           2.0       3.0       4.0\n",
       "  0.0           0.0       1.0       3.0"
      ]
     },
     "metadata": {},
     "output_type": "display_data"
    },
    {
     "data": {
      "text/plain": [
       "\"A\""
      ]
     },
     "metadata": {},
     "output_type": "display_data"
    },
    {
     "data": {
      "text/plain": [
       "4×4 Matrix{Float64}:\n",
       " -3.16228      -5.05964  -1.58114  -7.58947\n",
       "  1.11022e-16   3.2249    3.10087   2.97683\n",
       "  0.0           0.0       1.37281   2.74563\n",
       "  0.0           0.0       1.0       3.0"
      ]
     },
     "metadata": {},
     "output_type": "display_data"
    },
    {
     "data": {
      "text/plain": [
       "\"A\""
      ]
     },
     "metadata": {},
     "output_type": "display_data"
    },
    {
     "data": {
      "text/plain": [
       "4×4 Matrix{Float64}:\n",
       " -3.16228      -5.05964  -1.58114  -7.58947\n",
       "  1.11022e-16   3.2249    3.10087   2.97683\n",
       "  0.0           0.0       1.69842   3.98562\n",
       "  0.0           0.0       0.0       0.80829"
      ]
     },
     "metadata": {},
     "output_type": "display_data"
    },
    {
     "data": {
      "text/plain": [
       "4×4 Matrix{Float64}:\n",
       " -3.16228      -5.05964  -1.58114  -7.58947\n",
       "  1.11022e-16   3.2249    3.10087   2.97683\n",
       "  0.0           0.0       1.69842   3.98562\n",
       "  0.0           0.0       0.0       0.80829"
      ]
     },
     "execution_count": 4,
     "metadata": {},
     "output_type": "execute_result"
    }
   ],
   "source": [
    "for k=1:n-1\n",
    "    c, s = givens(A[k,k], A[k+1,k])\n",
    "    # Apply the Givens rotation to row k and k+1\n",
    "    for j=k:n\n",
    "        A[k,j], A[k+1,j] =\n",
    "            ( c * A[k,j] - s * A[k+1,j],\n",
    "              s * A[k,j] + c * A[k+1,j] )\n",
    "    end\n",
    "    display(\"A\")\n",
    "    display(A)\n",
    "end\n",
    "# A is now upper triangular\n",
    "A"
   ]
  },
  {
   "cell_type": "code",
   "execution_count": null,
   "metadata": {},
   "outputs": [],
   "source": []
  }
 ],
 "metadata": {
  "@webio": {
   "lastCommId": null,
   "lastKernelId": null
  },
  "kernelspec": {
   "display_name": "Julia 1.10.0",
   "language": "julia",
   "name": "julia-1.10"
  },
  "language_info": {
   "file_extension": ".jl",
   "mimetype": "application/julia",
   "name": "julia",
   "version": "1.10.0"
  }
 },
 "nbformat": 4,
 "nbformat_minor": 1
}
