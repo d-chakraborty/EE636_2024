{
 "cells": [
  {
   "cell_type": "code",
   "execution_count": 1,
   "id": "bf93b3e2",
   "metadata": {},
   "outputs": [
    {
     "data": {
      "text/plain": [
       "4×3 Matrix{Float64}:\n",
       " 1.0  -1.0   4.0\n",
       " 1.0   4.0  -2.0\n",
       " 1.0   4.0   2.0\n",
       " 1.0  -1.0   0.0"
      ]
     },
     "execution_count": 1,
     "metadata": {},
     "output_type": "execute_result"
    }
   ],
   "source": [
    "using Random\n",
    "using LinearAlgebra\n",
    "rng = MersenneTwister(2018)\n",
    "import LinearAlgebra.dot\n",
    "import LinearAlgebra.norm\n",
    "import LinearAlgebra.cond\n",
    "import LinearAlgebra.triu\n",
    "import LinearAlgebra.qr\n",
    "import LinearAlgebra.UniformScaling;\n",
    "# A = [2 -2 18; 2 1 0; 1 2 0]\n",
    "A = [1 -1 4; 1 4 -2; 1 4 2; 1 -1 0]\n",
    "A = float(A)\n",
    "A0 = copy(A)\n",
    "#n = 4\n",
    "#x = rand(rng, n)"
   ]
  },
  {
   "cell_type": "code",
   "execution_count": 2,
   "id": "29c78db2",
   "metadata": {},
   "outputs": [
    {
     "data": {
      "text/plain": [
       "house (generic function with 1 method)"
      ]
     },
     "execution_count": 2,
     "metadata": {},
     "output_type": "execute_result"
    }
   ],
   "source": [
    "function house(x)\n",
    "    \"\"\"Computes the Householder transformation for input vector x\"\"\"\n",
    "    sigma = dot(x[2:end],x[2:end])\n",
    "    v = copy(x)\n",
    "\n",
    "    if sigma == 0\n",
    "        beta = 0\n",
    "        return beta, v\n",
    "    end\n",
    "\n",
    "    sq = sqrt(x[1]^2 + sigma)\n",
    "    if x[1] > 0\n",
    "        v[1] += sq\n",
    "    else\n",
    "        v[1] -= sq\n",
    "    end\n",
    "\n",
    "    beta = 2.0 / (v[1]^2 + sigma)\n",
    "\n",
    "    return beta, v\n",
    "end\n"
   ]
  },
  {
   "cell_type": "code",
   "execution_count": 3,
   "id": "4fb26c23",
   "metadata": {
    "scrolled": false
   },
   "outputs": [
    {
     "data": {
      "text/plain": [
       "\"A_initial\""
      ]
     },
     "metadata": {},
     "output_type": "display_data"
    },
    {
     "data": {
      "text/plain": [
       "4×3 Matrix{Float64}:\n",
       " 1.0  -1.0   4.0\n",
       " 1.0   4.0  -2.0\n",
       " 1.0   4.0   2.0\n",
       " 1.0  -1.0   0.0"
      ]
     },
     "metadata": {},
     "output_type": "display_data"
    },
    {
     "data": {
      "text/plain": [
       "\"k\""
      ]
     },
     "metadata": {},
     "output_type": "display_data"
    },
    {
     "data": {
      "text/plain": [
       "1"
      ]
     },
     "metadata": {},
     "output_type": "display_data"
    },
    {
     "data": {
      "text/plain": [
       "\"beta\""
      ]
     },
     "metadata": {},
     "output_type": "display_data"
    },
    {
     "data": {
      "text/plain": [
       "0.16666666666666666"
      ]
     },
     "metadata": {},
     "output_type": "display_data"
    },
    {
     "data": {
      "text/plain": [
       "\"v\""
      ]
     },
     "metadata": {},
     "output_type": "display_data"
    },
    {
     "data": {
      "text/plain": [
       "4-element Vector{Float64}:\n",
       " 3.0\n",
       " 1.0\n",
       " 1.0\n",
       " 1.0"
      ]
     },
     "metadata": {},
     "output_type": "display_data"
    },
    {
     "data": {
      "text/plain": [
       "\"P\""
      ]
     },
     "metadata": {},
     "output_type": "display_data"
    },
    {
     "data": {
      "text/plain": [
       "4×4 Matrix{Float64}:\n",
       " -0.5  -0.5       -0.5       -0.5\n",
       " -0.5   0.833333  -0.166667  -0.166667\n",
       " -0.5  -0.166667   0.833333  -0.166667\n",
       " -0.5  -0.166667  -0.166667   0.833333"
      ]
     },
     "metadata": {},
     "output_type": "display_data"
    },
    {
     "data": {
      "text/plain": [
       "\"A\""
      ]
     },
     "metadata": {},
     "output_type": "display_data"
    },
    {
     "data": {
      "text/plain": [
       "4×3 Matrix{Float64}:\n",
       " -2.0  -3.0      -2.0\n",
       "  0.0   3.33333  -4.0\n",
       "  0.0   3.33333   0.0\n",
       "  0.0  -1.66667  -2.0"
      ]
     },
     "metadata": {},
     "output_type": "display_data"
    },
    {
     "data": {
      "text/plain": [
       "\"normalized v\""
      ]
     },
     "metadata": {},
     "output_type": "display_data"
    },
    {
     "data": {
      "text/plain": [
       "4-element Vector{Float64}:\n",
       " 1.0\n",
       " 0.3333333333333333\n",
       " 0.3333333333333333\n",
       " 0.3333333333333333"
      ]
     },
     "metadata": {},
     "output_type": "display_data"
    },
    {
     "data": {
      "text/plain": [
       "\"modified A\""
      ]
     },
     "metadata": {},
     "output_type": "display_data"
    },
    {
     "data": {
      "text/plain": [
       "4×3 Matrix{Float64}:\n",
       " -2.0       -3.0      -2.0\n",
       "  0.333333   3.33333  -4.0\n",
       "  0.333333   3.33333   0.0\n",
       "  0.333333  -1.66667  -2.0"
      ]
     },
     "metadata": {},
     "output_type": "display_data"
    },
    {
     "data": {
      "text/plain": [
       "\"k\""
      ]
     },
     "metadata": {},
     "output_type": "display_data"
    },
    {
     "data": {
      "text/plain": [
       "2"
      ]
     },
     "metadata": {},
     "output_type": "display_data"
    },
    {
     "data": {
      "text/plain": [
       "\"beta\""
      ]
     },
     "metadata": {},
     "output_type": "display_data"
    },
    {
     "data": {
      "text/plain": [
       "0.023999999999999997"
      ]
     },
     "metadata": {},
     "output_type": "display_data"
    },
    {
     "data": {
      "text/plain": [
       "\"v\""
      ]
     },
     "metadata": {},
     "output_type": "display_data"
    },
    {
     "data": {
      "text/plain": [
       "3-element Vector{Float64}:\n",
       "  8.333333333333334\n",
       "  3.3333333333333335\n",
       " -1.6666666666666665"
      ]
     },
     "metadata": {},
     "output_type": "display_data"
    },
    {
     "data": {
      "text/plain": [
       "\"P\""
      ]
     },
     "metadata": {},
     "output_type": "display_data"
    },
    {
     "data": {
      "text/plain": [
       "4×4 Matrix{Float64}:\n",
       " 1.0   0.0        0.0       0.0\n",
       " 0.0  -0.666667  -0.666667  0.333333\n",
       " 0.0  -0.666667   0.733333  0.133333\n",
       " 0.0   0.333333   0.133333  0.933333"
      ]
     },
     "metadata": {},
     "output_type": "display_data"
    },
    {
     "data": {
      "text/plain": [
       "\"A\""
      ]
     },
     "metadata": {},
     "output_type": "display_data"
    },
    {
     "data": {
      "text/plain": [
       "4×3 Matrix{Float64}:\n",
       " -2.0       -3.0  -2.0\n",
       "  0.333333  -5.0   2.0\n",
       "  0.333333   0.0   2.4\n",
       "  0.333333   0.0  -3.2"
      ]
     },
     "metadata": {},
     "output_type": "display_data"
    },
    {
     "data": {
      "text/plain": [
       "\"normalized v\""
      ]
     },
     "metadata": {},
     "output_type": "display_data"
    },
    {
     "data": {
      "text/plain": [
       "3-element Vector{Float64}:\n",
       "  1.0\n",
       "  0.39999999999999997\n",
       " -0.19999999999999996"
      ]
     },
     "metadata": {},
     "output_type": "display_data"
    },
    {
     "data": {
      "text/plain": [
       "\"modified A\""
      ]
     },
     "metadata": {},
     "output_type": "display_data"
    },
    {
     "data": {
      "text/plain": [
       "4×3 Matrix{Float64}:\n",
       " -2.0       -3.0  -2.0\n",
       "  0.333333  -5.0   2.0\n",
       "  0.333333   0.4   2.4\n",
       "  0.333333  -0.2  -3.2"
      ]
     },
     "metadata": {},
     "output_type": "display_data"
    },
    {
     "data": {
      "text/plain": [
       "\"k\""
      ]
     },
     "metadata": {},
     "output_type": "display_data"
    },
    {
     "data": {
      "text/plain": [
       "3"
      ]
     },
     "metadata": {},
     "output_type": "display_data"
    },
    {
     "data": {
      "text/plain": [
       "\"beta\""
      ]
     },
     "metadata": {},
     "output_type": "display_data"
    },
    {
     "data": {
      "text/plain": [
       "0.03906249999999999"
      ]
     },
     "metadata": {},
     "output_type": "display_data"
    },
    {
     "data": {
      "text/plain": [
       "\"v\""
      ]
     },
     "metadata": {},
     "output_type": "display_data"
    },
    {
     "data": {
      "text/plain": [
       "2-element Vector{Float64}:\n",
       "  6.4\n",
       " -3.2"
      ]
     },
     "metadata": {},
     "output_type": "display_data"
    },
    {
     "data": {
      "text/plain": [
       "\"P\""
      ]
     },
     "metadata": {},
     "output_type": "display_data"
    },
    {
     "data": {
      "text/plain": [
       "4×4 Matrix{Float64}:\n",
       " 1.0  0.0   0.0  0.0\n",
       " 0.0  1.0   0.0  0.0\n",
       " 0.0  0.0  -0.6  0.8\n",
       " 0.0  0.0   0.8  0.6"
      ]
     },
     "metadata": {},
     "output_type": "display_data"
    },
    {
     "data": {
      "text/plain": [
       "\"A\""
      ]
     },
     "metadata": {},
     "output_type": "display_data"
    },
    {
     "data": {
      "text/plain": [
       "4×3 Matrix{Float64}:\n",
       " -2.0       -3.0  -2.0\n",
       "  0.333333  -5.0   2.0\n",
       "  0.333333   0.4  -4.0\n",
       "  0.333333  -0.2  -4.44089e-16"
      ]
     },
     "metadata": {},
     "output_type": "display_data"
    },
    {
     "data": {
      "text/plain": [
       "\"normalized v\""
      ]
     },
     "metadata": {},
     "output_type": "display_data"
    },
    {
     "data": {
      "text/plain": [
       "2-element Vector{Float64}:\n",
       "  1.0\n",
       " -0.5"
      ]
     },
     "metadata": {},
     "output_type": "display_data"
    },
    {
     "data": {
      "text/plain": [
       "\"modified A\""
      ]
     },
     "metadata": {},
     "output_type": "display_data"
    },
    {
     "data": {
      "text/plain": [
       "4×3 Matrix{Float64}:\n",
       " -2.0       -3.0  -2.0\n",
       "  0.333333  -5.0   2.0\n",
       "  0.333333   0.4  -4.0\n",
       "  0.333333  -0.2  -0.5"
      ]
     },
     "metadata": {},
     "output_type": "display_data"
    },
    {
     "data": {
      "text/plain": [
       "\"Q\""
      ]
     },
     "metadata": {},
     "output_type": "display_data"
    },
    {
     "data": {
      "text/plain": [
       "4×4 Matrix{Float64}:\n",
       " -0.5   0.5  -0.5  -0.5\n",
       " -0.5  -0.5   0.5  -0.5\n",
       " -0.5  -0.5  -0.5   0.5\n",
       " -0.5   0.5   0.5   0.5"
      ]
     },
     "metadata": {},
     "output_type": "display_data"
    }
   ],
   "source": [
    "#function geqrf!(A)\n",
    "    m = size(A,1)\n",
    "    n = size(A,2)\n",
    "    vA = zeros(n)\n",
    "    E = Matrix{Float64}(I, m, m)\n",
    "    kend = (m > n ? n : m-1)\n",
    "    #display(kend)\n",
    "   Q = copy(E)\n",
    "display(\"A_initial\")\n",
    "display(A)\n",
    "    for k=1:kend\n",
    "        beta, v = house(A[k:end,k])\n",
    "     display(\"k\")\n",
    "    display(k)\n",
    "   # new_row = zeros(k-1)\n",
    "    #v = vcat(new_row, v)\n",
    "    display(\"beta\")\n",
    "    display(beta)\n",
    "    display(\"v\")\n",
    "    display(v)\n",
    "    #v = v/v[1,1]\n",
    "    #display(\"modified v\")\n",
    "    #display(v)\n",
    "    G = Matrix{Float64}(I, m-k+1, m-k+1) - beta*v*v'\n",
    "\n",
    "    P = copy(E)\n",
    "    P = float(P)\n",
    "    P[k:end, k:end] = G\n",
    "    display(\"P\")\n",
    "    display(P)\n",
    "    \n",
    "    Q = Q*P\n",
    "    \n",
    "    #v = v/v(1)\n",
    "        for j=k:n\n",
    "            # vA = beta * v^T * A\n",
    "            vA[j] = 0.0\n",
    "            for i=k:m\n",
    "                vA[j] += v[i-k+1] * A[i,j]\n",
    "            end\n",
    "            vA[j] *= beta\n",
    "        end\n",
    "        # A - beta v (v^T A)\n",
    "        for j=k:n, i=k:m\n",
    "            A[i,j] -= v[i-k+1] * vA[j]\n",
    "        end\n",
    "    display(\"A\")\n",
    "    display(A)\n",
    "    \n",
    "       display(\"normalized v\")\n",
    "    v = v/v[1]\n",
    "    display(v)\n",
    "        A[k+1:end,k] = v[2:end]\n",
    "    display(\"modified A\")\n",
    "    display(A)\n",
    "        # Saving v in the lower triangular part of A.\n",
    "        # This was not done here but one can always\n",
    "        # divide v by v[1] such that v[1] = 1 is always true.\n",
    "        # In that case, v[1] does not need to be stored.\n",
    "    end\n",
    "    display(\"Q\")\n",
    "    display(Q)\n",
    "    # Lower triangular part of A: sequence of v vectors\n",
    "    # Upper triangular part: factor R\n",
    "#end"
   ]
  },
  {
   "cell_type": "code",
   "execution_count": 5,
   "id": "d9613d72",
   "metadata": {},
   "outputs": [
    {
     "data": {
      "text/plain": [
       "4×3 Matrix{Float64}:\n",
       " -2.0  -3.0  -2.0\n",
       "  0.0  -5.0   2.0\n",
       "  0.0   0.0  -4.0\n",
       "  0.0   0.0   0.0"
      ]
     },
     "execution_count": 5,
     "metadata": {},
     "output_type": "execute_result"
    }
   ],
   "source": [
    "R = triu(A)"
   ]
  },
  {
   "cell_type": "code",
   "execution_count": 6,
   "id": "98b47d4a",
   "metadata": {},
   "outputs": [
    {
     "data": {
      "text/plain": [
       "4×3 Matrix{Float64}:\n",
       " 1.0  -1.0   4.0\n",
       " 1.0   4.0  -2.0\n",
       " 1.0   4.0   2.0\n",
       " 1.0  -1.0   2.22045e-16"
      ]
     },
     "execution_count": 6,
     "metadata": {},
     "output_type": "execute_result"
    }
   ],
   "source": [
    "Q*R"
   ]
  },
  {
   "cell_type": "code",
   "execution_count": 7,
   "id": "006609f0",
   "metadata": {},
   "outputs": [
    {
     "data": {
      "text/plain": [
       "4×3 Matrix{Float64}:\n",
       " 1.0  -1.0   4.0\n",
       " 1.0   4.0  -2.0\n",
       " 1.0   4.0   2.0\n",
       " 1.0  -1.0   0.0"
      ]
     },
     "execution_count": 7,
     "metadata": {},
     "output_type": "execute_result"
    }
   ],
   "source": [
    "A0"
   ]
  },
  {
   "cell_type": "code",
   "execution_count": null,
   "id": "20976b91",
   "metadata": {},
   "outputs": [],
   "source": []
  }
 ],
 "metadata": {
  "@webio": {
   "lastCommId": null,
   "lastKernelId": null
  },
  "kernelspec": {
   "display_name": "Julia 1.10.0",
   "language": "julia",
   "name": "julia-1.10"
  },
  "language_info": {
   "file_extension": ".jl",
   "mimetype": "application/julia",
   "name": "julia",
   "version": "1.10.0"
  }
 },
 "nbformat": 4,
 "nbformat_minor": 5
}
