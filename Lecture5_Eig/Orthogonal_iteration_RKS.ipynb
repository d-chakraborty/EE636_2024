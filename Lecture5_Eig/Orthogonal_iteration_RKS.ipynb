{
 "cells": [
  {
   "cell_type": "code",
   "execution_count": 1,
   "id": "93aeaa68",
   "metadata": {},
   "outputs": [],
   "source": [
    "using Printf\n",
    "using Random\n",
    "using LinearAlgebra\n",
    "rng = MersenneTwister(18);"
   ]
  },
  {
   "cell_type": "code",
   "execution_count": 2,
   "id": "6694c8ac",
   "metadata": {},
   "outputs": [
    {
     "data": {
      "text/plain": [
       "pretty_print (generic function with 1 method)"
      ]
     },
     "execution_count": 2,
     "metadata": {},
     "output_type": "execute_result"
    }
   ],
   "source": [
    "function pretty_print(v)\n",
    "    @printf \"[\"\n",
    "    for i=1:length(v)\n",
    "        @printf \"%8.5f\" v[i]\n",
    "        if i < length(v)\n",
    "            @printf \"  \"\n",
    "        end\n",
    "    end\n",
    "    @printf \"]\\n\"\n",
    "end    "
   ]
  },
  {
   "cell_type": "code",
   "execution_count": 3,
   "id": "e40ac063",
   "metadata": {},
   "outputs": [
    {
     "data": {
      "text/plain": [
       "\"diagonal matrix\""
      ]
     },
     "metadata": {},
     "output_type": "display_data"
    },
    {
     "data": {
      "text/plain": [
       "4×4 Matrix{Float32}:\n",
       " 1.0  0.0       0.0       0.0\n",
       " 0.0  0.333333  0.0       0.0\n",
       " 0.0  0.0       0.111111  0.0\n",
       " 0.0  0.0       0.0       0.037037"
      ]
     },
     "metadata": {},
     "output_type": "display_data"
    },
    {
     "data": {
      "text/plain": [
       "4×4 Matrix{Float64}:\n",
       " 0.541977  0.203832  0.197409  0.154696\n",
       " 0.203832  0.428252  0.225456  0.288801\n",
       " 0.197409  0.225456  0.250478  0.14067\n",
       " 0.154696  0.288801  0.14067   0.260774"
      ]
     },
     "execution_count": 3,
     "metadata": {},
     "output_type": "execute_result"
    }
   ],
   "source": [
    "# Size of matrix\n",
    "n = 4\n",
    "X = rand(rng, n, n)    \n",
    "X = qr(X)                     #QR factorization\n",
    "X = X.Q                       #extract Q matrix\n",
    "Λ = diagm(0 => Float32[3.0^(-i) for i=0:n-1])          #diagonal matrix\n",
    "display(\"diagonal matrix\")\n",
    "display(Λ)\n",
    "A = X * Λ / X"
   ]
  },
  {
   "cell_type": "code",
   "execution_count": 4,
   "id": "166e6d31",
   "metadata": {},
   "outputs": [
    {
     "name": "stdout",
     "output_type": "stream",
     "text": [
      "\n",
      "Iteration 1\n"
     ]
    },
    {
     "data": {
      "text/plain": [
       "\"Upper traingular check\""
      ]
     },
     "metadata": {},
     "output_type": "display_data"
    },
    {
     "data": {
      "text/plain": [
       "4×4 Matrix{Float64}:\n",
       " 0.999723     0.00639907   0.0128109   0.00640794\n",
       " 0.00639907   0.325716    -0.0332042   0.0239915\n",
       " 0.0128109   -0.0332042    0.1088     -0.0262128\n",
       " 0.00640794   0.0239915   -0.0262128   0.0472428"
      ]
     },
     "metadata": {},
     "output_type": "display_data"
    },
    {
     "name": "stdout",
     "output_type": "stream",
     "text": [
      "\n",
      "Iteration 2\n"
     ]
    },
    {
     "data": {
      "text/plain": [
       "\"Upper traingular check\""
      ]
     },
     "metadata": {},
     "output_type": "display_data"
    },
    {
     "data": {
      "text/plain": [
       "4×4 Matrix{Float64}:\n",
       "  0.999994     0.00170326  -0.00116266  0.000249934\n",
       "  0.00170326   0.332507     0.0132728   0.00284413\n",
       " -0.00116266   0.0132728    0.110994    0.00835025\n",
       "  0.000249934  0.00284413   0.00835025  0.0379862"
      ]
     },
     "metadata": {},
     "output_type": "display_data"
    },
    {
     "data": {
      "text/plain": [
       "\"Upper traingular check\""
      ]
     },
     "metadata": {},
     "output_type": "display_data"
    },
    {
     "name": "stdout",
     "output_type": "stream",
     "text": [
      "\n",
      "Iteration 3\n"
     ]
    },
    {
     "data": {
      "text/plain": [
       "4×4 Matrix{Float64}:\n",
       "  1.0          0.000547036  -0.000125928  9.30847e-6\n",
       "  0.000547036  0.333242      0.00450939   0.000318241\n",
       " -0.000125928  0.00450939    0.1111       0.0027589\n",
       "  9.30847e-6   0.000318241   0.0027589    0.0371399"
      ]
     },
     "metadata": {},
     "output_type": "display_data"
    },
    {
     "data": {
      "text/plain": [
       "\"Upper traingular check\""
      ]
     },
     "metadata": {},
     "output_type": "display_data"
    },
    {
     "name": "stdout",
     "output_type": "stream",
     "text": [
      "\n",
      "Iteration 4\n"
     ]
    },
    {
     "data": {
      "text/plain": [
       "4×4 Matrix{Float64}:\n",
       "  1.0          0.000181558  -1.39518e-5   3.44971e-7\n",
       "  0.000181558  0.333323      0.0015063    3.53877e-5\n",
       " -1.39518e-5   0.0015063     0.11111      0.000918681\n",
       "  3.44971e-7   3.53877e-5    0.000918681  0.0370484"
      ]
     },
     "metadata": {},
     "output_type": "display_data"
    },
    {
     "data": {
      "text/plain": [
       "\"Upper traingular check\""
      ]
     },
     "metadata": {},
     "output_type": "display_data"
    },
    {
     "name": "stdout",
     "output_type": "stream",
     "text": [
      "\n",
      "Iteration 5\n"
     ]
    },
    {
     "data": {
      "text/plain": [
       "4×4 Matrix{Float64}:\n",
       "  1.0         6.04901e-5   -1.5497e-6    1.27776e-8\n",
       "  6.04901e-5  0.333332      0.000502216  3.9323e-6\n",
       " -1.5497e-6   0.000502216   0.111111     0.000306192\n",
       "  1.27776e-8  3.9323e-6     0.000306192  0.0370383"
      ]
     },
     "metadata": {},
     "output_type": "display_data"
    },
    {
     "data": {
      "text/plain": [
       "\"Upper traingular check\""
      ]
     },
     "metadata": {},
     "output_type": "display_data"
    },
    {
     "name": "stdout",
     "output_type": "stream",
     "text": [
      "\n",
      "Iteration 6\n"
     ]
    },
    {
     "data": {
      "text/plain": [
       "4×4 Matrix{Float64}:\n",
       "  1.0          2.01623e-5  -1.72183e-7   4.73247e-10\n",
       "  2.01623e-5   0.333333     0.00016741   4.36927e-7\n",
       " -1.72183e-7   0.00016741   0.111111     0.000102063\n",
       "  4.73247e-10  4.36927e-7   0.000102063  0.0370372"
      ]
     },
     "metadata": {},
     "output_type": "display_data"
    },
    {
     "name": "stdout",
     "output_type": "stream",
     "text": [
      "\n",
      "Iteration 7\n"
     ]
    },
    {
     "data": {
      "text/plain": [
       "\"Upper traingular check\""
      ]
     },
     "metadata": {},
     "output_type": "display_data"
    },
    {
     "data": {
      "text/plain": [
       "4×4 Matrix{Float64}:\n",
       "  1.0          6.72072e-6  -1.91314e-8  1.75275e-11\n",
       "  6.72072e-6   0.333333     5.58034e-5  4.85474e-8\n",
       " -1.91314e-8   5.58034e-5   0.111111    3.40208e-5\n",
       "  1.75276e-11  4.85474e-8   3.40208e-5  0.0370371"
      ]
     },
     "metadata": {},
     "output_type": "display_data"
    },
    {
     "name": "stdout",
     "output_type": "stream",
     "text": [
      "\n",
      "Iteration 8\n"
     ]
    },
    {
     "data": {
      "text/plain": [
       "\"Upper traingular check\""
      ]
     },
     "metadata": {},
     "output_type": "display_data"
    },
    {
     "data": {
      "text/plain": [
       "4×4 Matrix{Float64}:\n",
       "  1.0          2.24024e-6  -2.12571e-9  6.49147e-13\n",
       "  2.24024e-6   0.333333     1.86011e-5  5.39416e-9\n",
       " -2.12571e-9   1.86011e-5   0.111111    1.13403e-5\n",
       "  6.49214e-13  5.39416e-9   1.13403e-5  0.037037"
      ]
     },
     "metadata": {},
     "output_type": "display_data"
    },
    {
     "data": {
      "text/plain": [
       "\"Upper traingular check\""
      ]
     },
     "metadata": {},
     "output_type": "display_data"
    },
    {
     "name": "stdout",
     "output_type": "stream",
     "text": [
      "\n",
      "Iteration 9\n"
     ]
    },
    {
     "data": {
      "text/plain": [
       "4×4 Matrix{Float64}:\n",
       "  1.0          7.46746e-7   -2.3619e-10  2.39808e-14\n",
       "  7.46746e-7   0.333333      6.20038e-6  5.99351e-10\n",
       " -2.3619e-10   6.20038e-6    0.111111    3.78009e-6\n",
       "  2.40966e-14  5.99351e-10   3.78009e-6  0.037037"
      ]
     },
     "metadata": {},
     "output_type": "display_data"
    },
    {
     "name": "stdout",
     "output_type": "stream",
     "text": [
      "\n",
      "Iteration 10\n"
     ]
    },
    {
     "data": {
      "text/plain": [
       "\"Upper traingular check\""
      ]
     },
     "metadata": {},
     "output_type": "display_data"
    },
    {
     "data": {
      "text/plain": [
       "4×4 Matrix{Float64}:\n",
       "  1.0          2.48915e-7   -2.62433e-11  1.11022e-15\n",
       "  2.48915e-7   0.333333      2.06679e-6   6.65946e-11\n",
       " -2.62433e-11  2.06679e-6    0.111111     1.26003e-6\n",
       "  9.74047e-16  6.65946e-11   1.26003e-6   0.037037"
      ]
     },
     "metadata": {},
     "output_type": "display_data"
    },
    {
     "data": {
      "text/plain": [
       "\"orthogonality_check\""
      ]
     },
     "metadata": {},
     "output_type": "display_data"
    },
    {
     "data": {
      "text/plain": [
       "2.7755575615628914e-16"
      ]
     },
     "metadata": {},
     "output_type": "display_data"
    },
    {
     "data": {
      "text/plain": [
       "\"final_upper_triangular\""
      ]
     },
     "metadata": {},
     "output_type": "display_data"
    },
    {
     "data": {
      "text/plain": [
       "4×4 Matrix{Float64}:\n",
       "  1.0          2.48915e-7   -2.62433e-11  1.11022e-15\n",
       "  2.48915e-7   0.333333      2.06679e-6   6.65946e-11\n",
       " -2.62433e-11  2.06679e-6    0.111111     1.26003e-6\n",
       "  9.74047e-16  6.65946e-11   1.26003e-6   0.037037"
      ]
     },
     "metadata": {},
     "output_type": "display_data"
    }
   ],
   "source": [
    "r = 2\n",
    "Qk = rand(rng, n, r)\n",
    "for k=1:10\n",
    "    Qk = A * Qk\n",
    "    F = qr(Qk); \n",
    "    Qk = F.Q\n",
    "    \n",
    "     # This step is optional; it makes the solution unique\n",
    "    for j=1:2\n",
    "        if Qk[1,j] * X[1,j] < 0\n",
    "            Qk[:,j] = -Qk[:,j]\n",
    "            # This avoids sign differences\n",
    "        end\n",
    "    end\n",
    "    println(\"\\nIteration \",k)\n",
    "    upper_triangular_check =  Qk'*A*Qk\n",
    "    display(\"Upper traingular check\")\n",
    "    display(upper_triangular_check)\n",
    "    \n",
    "    \n",
    "    #pretty_print(Qk[:,1])\n",
    "    #pretty_print(X[:,1])\n",
    "    ##pretty_print(Qk[:,2])\n",
    "    #pretty_print(X[:,2])\n",
    "end\n",
    "\n",
    " orthogonality_check = dot(Qk[:,1],Qk[:,2])\n",
    "display(\"orthogonality_check\")\n",
    "display(orthogonality_check)\n",
    "final_upper_triangular =  Qk'*A*Qk\n",
    "display(\"final_upper_triangular\")\n",
    "display(final_upper_triangular)"
   ]
  },
  {
   "cell_type": "code",
   "execution_count": 5,
   "id": "8a430f9d",
   "metadata": {},
   "outputs": [
    {
     "data": {
      "text/plain": [
       "30×2 Matrix{Float64}:\n",
       " 0.0993932    1.50369\n",
       " 0.0263208    1.12647\n",
       " 0.00849237   0.687808\n",
       " 0.00282022   0.273876\n",
       " 0.000939682  0.0936421\n",
       " 0.000313213  0.0313054\n",
       " 0.000104404  0.0104386\n",
       " 3.48012e-5   0.00347964\n",
       " 1.16004e-5   0.00115989\n",
       " 3.8668e-6    0.000386629\n",
       " 1.28893e-6   0.000128876\n",
       " 4.29645e-7   4.29587e-5\n",
       " 1.43215e-7   1.43196e-5\n",
       " ⋮            \n",
       " 1.96454e-10  1.96428e-8\n",
       " 6.54846e-11  6.54759e-9\n",
       " 2.18282e-11  2.18253e-9\n",
       " 7.27607e-12  7.2751e-10\n",
       " 2.42535e-12  2.42503e-10\n",
       " 8.08357e-13  8.08343e-11\n",
       " 2.69437e-13  2.69446e-11\n",
       " 8.97403e-14  8.98139e-12\n",
       " 2.99351e-14  2.99373e-12\n",
       " 9.89345e-15  9.97854e-13\n",
       " 3.20285e-15  3.32524e-13\n",
       " 1.10047e-15  1.10897e-13"
      ]
     },
     "execution_count": 5,
     "metadata": {},
     "output_type": "execute_result"
    }
   ],
   "source": [
    "Qk = rand(rng, n, r)\n",
    "niter = 30\n",
    "err = zeros(niter,2)\n",
    "\n",
    "for k=1:niter\n",
    "    Qk = A * Qk\n",
    "    F = qr(Qk)\n",
    "    Qk = Matrix(F.Q); Rk = F.R\n",
    "    for j=1:2\n",
    "        if Qk[1,j] * X[1,j] < 0\n",
    "            Qk[:,j] = -Qk[:,j]\n",
    "        end\n",
    "        err[k,j] = norm(Qk[:,j] - X[:,j])\n",
    "    end\n",
    "end\n",
    "err"
   ]
  },
  {
   "cell_type": "code",
   "execution_count": null,
   "id": "3d9fcc7d",
   "metadata": {},
   "outputs": [],
   "source": []
  }
 ],
 "metadata": {
  "kernelspec": {
   "display_name": "Julia 1.10.0",
   "language": "julia",
   "name": "julia-1.10"
  },
  "language_info": {
   "file_extension": ".jl",
   "mimetype": "application/julia",
   "name": "julia",
   "version": "1.10.0"
  }
 },
 "nbformat": 4,
 "nbformat_minor": 5
}
