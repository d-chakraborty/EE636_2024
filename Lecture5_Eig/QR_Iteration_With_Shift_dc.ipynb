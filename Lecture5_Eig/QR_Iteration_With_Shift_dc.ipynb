{
 "cells": [
  {
   "cell_type": "code",
   "execution_count": 1,
   "metadata": {},
   "outputs": [],
   "source": [
    "using Printf\n",
    "using Random\n",
    "using LinearAlgebra\n",
    "rng = MersenneTwister(18);"
   ]
  },
  {
   "cell_type": "code",
   "execution_count": 2,
   "metadata": {},
   "outputs": [
    {
     "data": {
      "text/plain": [
       "gees_testsuite (generic function with 1 method)"
      ]
     },
     "execution_count": 2,
     "metadata": {},
     "output_type": "execute_result"
    }
   ],
   "source": [
    "include(\"gees_dc.jl\")"
   ]
  },
  {
   "cell_type": "code",
   "execution_count": 3,
   "metadata": {},
   "outputs": [
    {
     "data": {
      "text/plain": [
       "10×10 Matrix{Float64}:\n",
       " 1.0  0.0  0.0   0.0    0.0     0.0      0.0       0.0         0.0  0.0\n",
       " 0.0  0.5  0.0   0.0    0.0     0.0      0.0       0.0         0.0  0.0\n",
       " 0.0  0.0  0.25  0.0    0.0     0.0      0.0       0.0         0.0  0.0\n",
       " 0.0  0.0  0.0   0.125  0.0     0.0      0.0       0.0         0.0  0.0\n",
       " 0.0  0.0  0.0   0.0    0.0625  0.0      0.0       0.0         0.0  0.0\n",
       " 0.0  0.0  0.0   0.0    0.0     0.03125  0.0       0.0         0.0  0.0\n",
       " 0.0  0.0  0.0   0.0    0.0     0.0      0.015625  0.0         0.0  0.0\n",
       " 0.0  0.0  0.0   0.0    0.0     0.0      0.0       0.0078125   0.0  0.0\n",
       " 0.0  0.0  0.0   0.0    0.0     0.0      0.0       0.0         0.0  1.0\n",
       " 0.0  0.0  0.0   0.0    0.0     0.0      0.0       0.0        -1.0  0.0"
      ]
     },
     "metadata": {},
     "output_type": "display_data"
    },
    {
     "name": "stdout",
     "output_type": "stream",
     "text": [
      "Matrix A\n",
      "  6.4e-01  1.8e+00  7.8e-01 -4.6e+00  8.2e-01  1.7e+00 -1.0e+00  2.0e+00 -9.2e-01 -2.5e-01\n",
      "  5.0e-01  2.0e+00 -6.8e-01 -1.5e+00 -1.3e-01  1.4e+00 -1.8e+00  1.8e+00 -9.6e-01  8.0e-01\n",
      "  3.7e-01  1.5e+00 -7.1e-03 -2.6e+00  3.1e-01  1.4e+00 -1.1e+00  1.6e+00 -7.7e-01  2.9e-01\n",
      "  4.5e-01  1.3e+00 -3.5e-01 -2.1e+00  3.9e-01  1.3e+00 -1.2e+00  1.4e+00 -6.8e-01  3.8e-01\n",
      "  3.1e-01  2.6e+00 -1.9e-01 -3.9e+00  4.5e-01  2.4e+00 -1.8e+00  2.7e+00 -1.4e+00  5.5e-01\n",
      "  1.1e-01  1.2e+00 -5.2e-01 -1.6e+00  1.6e-01  1.4e+00 -1.0e+00  1.4e+00 -6.8e-01  5.0e-01\n",
      "  7.5e-02  1.3e+00 -5.4e-01 -8.9e-01 -2.3e-01  1.1e+00 -1.0e+00  1.2e+00 -6.4e-01  7.3e-01\n",
      "  1.2e-01  6.1e-01 -3.4e-01 -5.7e-01  1.0e-02  6.0e-01 -6.1e-01  6.9e-01 -3.1e-01  3.8e-01\n",
      "  4.1e-01  1.8e-03  1.3e-01 -2.1e+00  8.9e-01  6.7e-01 -7.7e-02  5.0e-01  7.1e-04 -2.6e-01\n",
      "  9.3e-02  7.7e-01  4.9e-01 -2.8e+00  5.7e-01  1.1e+00 -2.3e-01  1.1e+00 -4.4e-01 -1.0e-01\n"
     ]
    },
    {
     "data": {
      "text/plain": [
       "10-element Vector{ComplexF64}:\n",
       "   0.007812499999999143 + 0.0im\n",
       "   0.015625000000000513 + 0.0im\n",
       "    0.03124999999999937 + 0.0im\n",
       "    0.06250000000000006 + 0.0im\n",
       "    0.12499999999999928 + 0.0im\n",
       "    0.24999999999999986 + 0.0im\n",
       "     0.5000000000000008 + 0.0im\n",
       " -7.389922007661198e-16 - 1.0im\n",
       " -7.389922007661198e-16 + 1.0im\n",
       "     1.0000000000000007 + 0.0im"
      ]
     },
     "execution_count": 3,
     "metadata": {},
     "output_type": "execute_result"
    }
   ],
   "source": [
    "n = 10\n",
    "Λ = diagm(0 => Float32[2.0^(-i) for i=0:n-3])\n",
    "A = zeros(n,n)\n",
    "A[1:n-2,1:n-2] = Λ\n",
    "A[n-1:n,n-1:n] = [0 1; -1 0]\n",
    "display(A)\n",
    "X = rand(rng, n, n)\n",
    "#display(Λ)\n",
    "# Λ = diagm(Float32[2.0^(-i) for i=0:n-1])\n",
    "# A = Λ\n",
    "# X, = qr(rand(rng, n, n))\n",
    "\n",
    "A = X * A / X\n",
    "\n",
    "println(\"Matrix A\")\n",
    "pretty_print(A)\n",
    "Λ = eigenvalue_sorted(A)"
   ]
  },
  {
   "cell_type": "code",
   "execution_count": 4,
   "metadata": {},
   "outputs": [
    {
     "name": "stdout",
     "output_type": "stream",
     "text": [
      "  6.4e-01  7.0e-01  2.1e-01  2.0e+00  9.3e-01 -2.0e+00 -1.0e+00 -1.0e+00 -3.8e+00  2.9e+00\n",
      " -9.5e-01 -8.0e-01 -1.6e-01 -2.7e+00 -7.3e-01  3.0e+00  1.0e+00 -1.5e+00  5.8e+00 -5.3e+00\n",
      " -5.6e-17 -6.5e-01  3.5e-01 -1.4e+00 -2.8e-01  1.4e+00  6.4e-01  1.4e+00  2.3e+00 -1.3e+00\n",
      " -1.1e-16  0.0e+00  7.0e-01  1.0e+00  3.6e-01 -1.2e+00 -8.5e-01  1.8e+00 -2.3e+00  2.9e+00\n",
      " -5.6e-17  0.0e+00  5.6e-17 -1.8e-01  1.4e-01  3.6e-01  1.2e-01 -1.1e+00  7.0e-01 -9.7e-01\n",
      " -2.8e-17  0.0e+00  6.9e-18  0.0e+00  2.1e-01  2.4e-01 -6.5e-02 -8.9e-01  3.1e-01 -5.5e-01\n",
      " -1.4e-17  0.0e+00  2.8e-17  0.0e+00  3.5e-18  1.2e-01  2.8e-01 -3.2e-01  2.7e-01 -3.6e-01\n",
      " -2.8e-17  0.0e+00 -1.4e-17  0.0e+00 -1.7e-18  0.0e+00  1.1e-02  2.1e-02  2.2e-02 -4.1e-02\n",
      " -1.1e-16  0.0e+00 -1.1e-16  0.0e+00  6.9e-18  0.0e+00 -8.7e-19  7.0e-03  1.2e-02  1.7e-02\n",
      " -1.4e-17  0.0e+00  1.7e-18  0.0e+00 -1.4e-17  0.0e+00  1.7e-18  0.0e+00 -1.7e-02  6.6e-02\n"
     ]
    },
    {
     "data": {
      "text/plain": [
       "10-element Vector{ComplexF64}:\n",
       "  0.007812499999998361 + 0.0im\n",
       "   0.01562500000000069 + 0.0im\n",
       "  0.031249999999997176 + 0.0im\n",
       "   0.06250000000000008 + 0.0im\n",
       "   0.12500000000000078 + 0.0im\n",
       "   0.24999999999999964 + 0.0im\n",
       "     0.500000000000001 + 0.0im\n",
       " 6.938893903907228e-16 - 1.0000000000000002im\n",
       " 6.938893903907228e-16 + 1.0000000000000002im\n",
       "     1.000000000000003 + 0.0im"
      ]
     },
     "execution_count": 4,
     "metadata": {},
     "output_type": "execute_result"
    }
   ],
   "source": [
    "# Applying Householder reflections to make matrix A upper Hessenberg\n",
    "gehrd!(A)\n",
    "A0 = copy(A)\n",
    "#A[10,9]=0\n",
    "pretty_print(A)\n",
    "D0=eigenvalue_sorted(A0)"
   ]
  },
  {
   "cell_type": "code",
   "execution_count": 5,
   "metadata": {},
   "outputs": [
    {
     "name": "stdout",
     "output_type": "stream",
     "text": [
      "Norm for lower part of matrix = 2.2231041417055534e-16\n"
     ]
    }
   ],
   "source": [
    "# Checking that A is upper Hessenberg now\n",
    "println(\"Norm for lower part of matrix = \",norm(tril(A,-2)))"
   ]
  },
  {
   "cell_type": "code",
   "execution_count": 6,
   "metadata": {
    "scrolled": false
   },
   "outputs": [
    {
     "name": "stdout",
     "output_type": "stream",
     "text": [
      "q=10\n",
      "  6.4e-01  7.0e-01  2.1e-01  2.0e+00  9.3e-01 -2.0e+00 -1.0e+00 -1.0e+00 -3.8e+00  2.9e+00\n",
      " -9.5e-01 -8.0e-01 -1.6e-01 -2.7e+00 -7.3e-01  3.0e+00  1.0e+00 -1.5e+00  5.8e+00 -5.3e+00\n",
      " -5.6e-17 -6.5e-01  3.5e-01 -1.4e+00 -2.8e-01  1.4e+00  6.4e-01  1.4e+00  2.3e+00 -1.3e+00\n",
      " -1.1e-16  0.0e+00  7.0e-01  1.0e+00  3.6e-01 -1.2e+00 -8.5e-01  1.8e+00 -2.3e+00  2.9e+00\n",
      " -5.6e-17  0.0e+00  5.6e-17 -1.8e-01  1.4e-01  3.6e-01  1.2e-01 -1.1e+00  7.0e-01 -9.7e-01\n",
      " -2.8e-17  0.0e+00  6.9e-18  0.0e+00  2.1e-01  2.4e-01 -6.5e-02 -8.9e-01  3.1e-01 -5.5e-01\n",
      " -1.4e-17  0.0e+00  2.8e-17  0.0e+00  3.5e-18  1.2e-01  2.8e-01 -3.2e-01  2.7e-01 -3.6e-01\n",
      " -2.8e-17  0.0e+00 -1.4e-17  0.0e+00 -1.7e-18  0.0e+00  1.1e-02  2.1e-02  2.2e-02 -4.1e-02\n",
      " -1.1e-16  0.0e+00 -1.1e-16  0.0e+00  6.9e-18  0.0e+00 -8.7e-19  7.0e-03  1.2e-02  1.7e-02\n",
      " -1.4e-17  0.0e+00  1.7e-18  0.0e+00 -1.4e-17  0.0e+00  1.7e-18  0.0e+00 -1.7e-02  6.6e-02\n",
      "q=10\n",
      "  3.7e-02  2.9e+00 -1.3e+00  5.3e-01 -2.1e+00 -2.3e+00 -9.7e-01 -2.2e+00 -4.2e+00 -4.7e+00\n",
      " -6.2e-01  1.4e+00  8.1e-02  2.4e-01 -1.3e+00 -1.3e+00  5.0e-01  8.9e-01 -3.2e+00 -3.4e+00\n",
      "  2.8e-17  2.3e+00 -4.3e-01  1.7e-02 -1.5e+00 -2.3e+00  7.1e-01 -1.1e-01 -4.5e+00 -4.7e+00\n",
      "  1.1e-16  2.2e-16  4.3e-02  4.7e-01 -1.1e-01 -3.8e-01  1.4e+00  1.4e+00 -1.1e+00 -9.2e-01\n",
      " -5.6e-17 -2.8e-17  0.0e+00 -4.8e-02  2.8e-01  8.3e-02 -1.8e-01 -2.3e-01  3.8e-01  3.6e-01\n",
      " -2.8e-17  0.0e+00  0.0e+00  0.0e+00 -9.7e-02  1.1e-01 -1.1e-01  3.5e-02 -3.1e-02 -1.3e-02\n",
      " -1.4e-17  0.0e+00  2.8e-17  0.0e+00 -1.7e-18  9.4e-03 -5.5e-03 -1.4e-02  1.2e-02  2.0e-02\n",
      " -2.8e-17  0.0e+00 -1.4e-17  0.0e+00 -1.7e-18  0.0e+00  5.2e-03  3.4e-02  2.7e-03  1.4e-02\n",
      " -1.1e-16  0.0e+00 -1.1e-16  0.0e+00  6.9e-18  0.0e+00 -4.3e-19 -2.1e-03  7.5e-03 -3.3e-02\n",
      " -1.4e-17  0.0e+00  1.7e-18  0.0e+00 -1.4e-17  0.0e+00 -2.2e-19  0.0e+00  1.3e-02  7.1e-02\n",
      "q=10\n",
      "  5.7e-01  2.4e+00  3.3e+00  7.4e-01 -6.0e-01 -4.5e+00  8.4e-01  8.8e-03 -8.6e+00  5.3e+00\n",
      " -2.7e-01  3.0e-02  1.3e-01  3.0e-01 -2.8e-01  9.4e-02 -6.1e-01 -1.1e+00  4.7e-01 -3.9e-01\n",
      " -5.6e-17 -7.6e-01  3.9e-01 -8.6e-02 -1.3e-01 -2.7e-01  3.0e-01  2.4e+00 -9.6e-01  1.2e+00\n",
      " -3.5e-18  0.0e+00  2.6e-02  5.1e-01  1.0e-01 -2.3e-01  6.7e-01  1.7e+00 -8.3e-01  7.6e-01\n",
      " -5.6e-17  0.0e+00  0.0e+00 -1.2e-02  2.5e-01  1.2e-01  7.9e-02 -4.2e-02  2.3e-01 -1.4e-01\n",
      " -2.8e-17  0.0e+00  0.0e+00 -1.7e-18 -9.5e-03  1.2e-01 -1.1e-01 -7.5e-02  1.2e-01 -1.0e-01\n",
      " -1.4e-17  0.0e+00  2.8e-17 -5.4e-20  1.1e-19  9.0e-04  1.1e-02 -2.4e-02  2.6e-03 -1.1e-02\n",
      " -2.8e-17  0.0e+00 -1.4e-17  0.0e+00  1.4e-20  0.0e+00 -3.6e-03  2.7e-02  1.7e-02 -2.5e-02\n",
      " -1.1e-16  0.0e+00 -1.1e-16  0.0e+00  6.9e-18  0.0e+00  2.2e-19 -3.2e-05  9.5e-03  1.1e-02\n",
      " -1.4e-17  0.0e+00  1.7e-18  0.0e+00 -1.4e-17  0.0e+00 -5.4e-20 -1.7e-21 -2.9e-02  6.9e-02\n",
      "q=10\n",
      " -1.6e-01  3.2e+00 -1.3e+00  7.0e-01 -2.8e-01 -3.5e+00 -4.1e-01 -1.5e+00 -7.3e+00 -1.1e+00\n",
      " -5.9e-01  1.4e+00  1.9e-01  2.9e-01 -3.1e-01 -1.8e+00  1.2e+00  1.3e+00 -4.4e+00 -1.2e+00\n",
      "  0.0e+00  1.8e+00 -2.7e-01  2.9e-02  7.9e-02 -2.2e+00  1.6e+00  7.3e-01 -5.3e+00 -1.2e+00\n",
      "  0.0e+00  0.0e+00  2.5e-03  5.0e-01  1.3e-01 -1.8e-01  1.4e+00  1.1e+00 -9.5e-01 -3.9e-01\n",
      " -5.6e-17  0.0e+00 -2.7e-20 -2.6e-03  2.5e-01  1.2e-01  1.1e-01 -3.1e-02  2.2e-01  3.3e-02\n",
      " -2.8e-17  0.0e+00  2.1e-22 -2.7e-20 -1.4e-03  1.2e-01 -1.3e-01 -1.4e-02  1.6e-01  5.8e-02\n",
      " -1.4e-17  0.0e+00  2.8e-17 -1.1e-22  0.0e+00  4.0e-05  4.3e-03 -1.0e-02  1.6e-02  1.6e-02\n",
      " -2.8e-17  0.0e+00 -1.4e-17  0.0e+00  0.0e+00  1.0e-20  9.0e-03  3.5e-02  1.9e-02  1.1e-02\n",
      " -1.1e-16  0.0e+00 -1.1e-16  0.0e+00  6.9e-18  6.6e-24  0.0e+00 -1.5e-08  2.3e-02  6.3e-03\n",
      " -1.4e-17  0.0e+00  1.7e-18  0.0e+00 -1.4e-17  0.0e+00  0.0e+00 -8.3e-25  4.6e-02  5.5e-02\n",
      "q=10\n",
      "  4.3e-01  2.2e+00  3.5e+00  6.7e-01 -2.4e-01 -4.5e+00  8.8e-01  5.1e-03 -1.0e+01 -1.6e+00\n",
      " -2.7e-01  9.9e-02  1.7e-01  3.3e-01 -2.7e-01  7.6e-03 -5.5e-01 -1.2e+00  5.2e-01 -3.2e-02\n",
      " -5.6e-17 -7.0e-01  4.7e-01 -3.6e-02 -1.4e-01 -4.2e-01  2.0e-01  2.4e+00 -1.8e+00  2.1e-01\n",
      " -2.2e-19  0.0e+00  1.3e-03  5.0e-01  1.3e-01 -1.8e-01  5.8e-01  1.6e+00 -1.0e+00  4.2e-02\n",
      " -5.6e-17  0.0e+00  1.7e-21 -5.5e-04  2.5e-01  1.2e-01  1.2e-01  4.7e-02  2.1e-01  4.4e-02\n",
      " -2.8e-17  0.0e+00 -3.3e-24  0.0e+00 -2.1e-04  1.2e-01 -9.8e-02 -7.9e-02  1.7e-01  2.0e-04\n",
      " -1.4e-17  0.0e+00  2.8e-17  0.0e+00  0.0e+00  3.9e-06  1.4e-02 -2.4e-02  6.1e-03 -5.9e-03\n",
      " -2.8e-17  0.0e+00 -1.4e-17  0.0e+00  0.0e+00  0.0e+00 -4.3e-03  2.6e-02  2.9e-02 -7.9e-03\n",
      " -1.1e-16  0.0e+00 -1.1e-16  0.0e+00  6.9e-18  0.0e+00  1.7e-24 -1.6e-14  4.3e-02 -1.1e-02\n",
      " -1.4e-17  0.0e+00  1.7e-18  0.0e+00 -1.4e-17  0.0e+00 -1.7e-24  7.9e-31 -5.0e-02  3.5e-02\n",
      "q=10\n",
      " -3.0e-01  3.6e+00 -1.1e+00  6.9e-01 -2.2e-01 -3.8e+00 -3.4e-01 -1.3e+00 -2.1e+00  7.9e+00\n",
      " -5.4e-01  1.3e+00  3.8e-01  2.8e-01 -2.9e-01 -1.6e+00  1.2e+00  1.2e+00 -1.5e+00  3.9e+00\n",
      " -1.1e-16  1.4e+00  1.9e-02 -5.7e-02  1.2e-01 -1.8e+00  1.8e+00  8.1e-01 -1.5e+00  4.4e+00\n",
      " -1.1e-19  2.2e-19  1.5e-04  5.0e-01  1.4e-01 -1.8e-01  1.5e+00  9.1e-01 -4.7e-01  9.0e-01\n",
      " -5.6e-17 -1.1e-22  0.0e+00 -1.1e-04  2.5e-01  1.2e-01  1.2e-01 -3.5e-02  4.8e-02 -2.1e-01\n",
      " -2.8e-17  0.0e+00  0.0e+00  0.0e+00 -3.2e-05  1.2e-01 -1.3e-01  1.0e-03  7.3e-02 -1.6e-01\n",
      " -1.4e-17  0.0e+00  2.8e-17  0.0e+00  4.1e-25  1.5e-07  4.6e-03 -6.7e-03  1.9e-02 -1.7e-02\n",
      " -2.8e-17  0.0e+00 -1.4e-17  0.0e+00 -3.9e-26 -1.3e-23  1.3e-02  3.4e-02  1.0e-02 -1.6e-02\n",
      " -1.1e-16  0.0e+00 -1.1e-16  0.0e+00  6.9e-18 -6.0e-36  0.0e+00  0.0e+00  6.0e-02 -4.3e-02\n",
      " -1.4e-17  0.0e+00  1.7e-18  0.0e+00 -1.4e-17  0.0e+00  0.0e+00  0.0e+00 -2.8e-03  1.8e-02\n",
      "2x2 deflation\n",
      "q=8\n",
      "  3.3e-01  2.1e+00  3.5e+00  6.7e-01 -2.3e-01 -4.5e+00  8.4e-01  2.8e-01\n",
      " -2.7e-01  1.4e-01  2.1e-01  3.4e-01 -2.7e-01 -4.7e-02 -9.0e-01  1.1e+00\n",
      " -5.6e-17 -6.7e-01  5.3e-01 -1.1e-02 -1.5e-01 -5.2e-01  8.8e-01 -2.2e+00\n",
      " -6.8e-21  5.4e-20  7.1e-05  5.0e-01  1.4e-01 -1.8e-01  1.0e+00 -1.4e+00\n",
      " -5.6e-17 -6.6e-24  0.0e+00 -2.6e-05  2.5e-01  1.2e-01  1.3e-01 -1.5e-02\n",
      " -2.8e-17  0.0e+00  0.0e+00  0.0e+00 -6.7e-06  1.2e-01 -1.2e-01  4.7e-02\n",
      " -1.4e-17  0.0e+00  2.8e-17  0.0e+00  0.0e+00 -7.1e-14  6.8e-03  1.8e-02\n",
      " -2.8e-17  0.0e+00 -1.4e-17  0.0e+00  0.0e+00  0.0e+00 -1.4e-03  3.2e-02\n",
      "q=8\n",
      " -3.6e-01  3.7e+00 -9.2e-01  6.9e-01 -2.2e-01 -3.9e+00  3.0e-01 -1.3e+00\n",
      " -5.2e-01  1.2e+00  4.5e-01  2.9e-01 -3.0e-01 -1.6e+00  5.9e-01  1.5e+00\n",
      "  5.6e-17  1.3e+00  1.4e-01 -8.6e-02  1.2e-01 -1.6e+00  1.3e+00  1.6e+00\n",
      "  3.4e-21  0.0e+00  8.7e-06  5.0e-01  1.4e-01 -1.8e-01  9.9e-01  1.4e+00\n",
      " -5.6e-17  0.0e+00  0.0e+00 -6.0e-06  2.5e-01  1.2e-01  1.3e-01  1.9e-02\n",
      " -2.8e-17  0.0e+00  0.0e+00  5.2e-26 -1.4e-06  1.2e-01 -1.2e-01 -5.0e-02\n",
      " -1.4e-17  0.0e+00  2.8e-17 -1.2e-38  0.0e+00  0.0e+00  7.3e-03 -1.9e-02\n",
      " -2.8e-17  0.0e+00 -1.4e-17  0.0e+00  0.0e+00  9.0e-44  6.8e-04  3.2e-02\n",
      "2x2 deflation\n",
      "q=6\n",
      " -6.6e-02  2.1e+00  3.5e+00  6.4e-01 -2.0e-01  4.4e+00\n",
      " -3.0e-01  2.8e-01  4.4e-01  3.9e-01 -2.8e-01  3.6e-01\n",
      "  0.0e+00 -5.2e-01  7.9e-01  4.2e-02 -1.7e-01  8.5e-01\n",
      "  0.0e+00  0.0e+00  2.0e-06  5.0e-01  1.4e-01  1.8e-01\n",
      " -5.6e-17  0.0e+00 -1.3e-26 -2.6e-11  2.5e-01 -1.2e-01\n",
      " -2.8e-17  0.0e+00  4.9e-32  0.0e+00  2.3e-11  1.2e-01\n",
      "q=6\n",
      " -1.0e+00  3.5e+00  8.6e-01  5.7e-01 -1.2e-01 -4.0e+00\n",
      " -6.8e-01  1.3e+00  9.2e-01  4.6e-01 -3.6e-01 -1.8e+00\n",
      "  5.6e-17  3.4e-01  7.7e-01 -1.4e-01  3.8e-02 -1.0e+00\n",
      "  1.1e-22  0.0e+00  2.1e-07  5.0e-01  1.4e-01 -1.8e-01\n",
      " -5.6e-17  0.0e+00  0.0e+00  0.0e+00  2.5e-01  1.2e-01\n",
      " -2.8e-17  0.0e+00  0.0e+00  0.0e+00  2.4e-06  1.3e-01\n",
      "2x2 deflation\n",
      "q=4\n",
      "  3.3e-01  3.5e-01 -5.9e-01  3.9e-01\n",
      " -3.1e+00 -3.8e-01  2.5e+00 -6.4e-01\n",
      "  0.0e+00 -3.1e-02  1.1e+00  1.3e-02\n",
      "  0.0e+00  0.0e+00  0.0e+00  5.0e-01\n",
      "1x1 deflation\n",
      "q=3\n",
      "  1.2e+00  2.7e+00  2.3e+00\n",
      " -9.3e-01 -1.2e+00 -8.1e-01\n",
      " -1.7e-18 -1.3e-04  1.0e+00\n",
      "q=3\n",
      " -5.2e-01  3.2e+00 -2.3e+00\n",
      " -4.0e-01  5.2e-01 -7.6e-01\n",
      "  0.0e+00 -1.7e-12  1.0e+00\n",
      "q=3\n",
      "  1.2e+00  2.7e+00  2.3e+00\n",
      " -9.3e-01 -1.2e+00 -8.1e-01\n",
      "  0.0e+00  0.0e+00  1.0e+00\n",
      "1x1 deflation\n",
      "2x2 deflation\n"
     ]
    },
    {
     "data": {
      "text/plain": [
       "10-element Vector{ComplexF64}:\n",
       " 8.881784197001252e-16 - 1.0000000000000007im\n",
       " 8.881784197001252e-16 + 1.0000000000000007im\n",
       "    1.0000000000000024 + 0.0im\n",
       "    0.5000000000000016 + 0.0im\n",
       "     0.125000000000001 + 0.0im\n",
       "   0.24999999999999978 + 0.0im\n",
       "  0.007812499999997892 + 0.0im\n",
       "  0.031249999999996794 + 0.0im\n",
       "   0.01562500000000125 + 0.0im\n",
       "   0.06250000000000004 + 0.0im"
      ]
     },
     "execution_count": 6,
     "metadata": {},
     "output_type": "execute_result"
    }
   ],
   "source": [
    "n = size(A,1)\n",
    "    if n==1\n",
    "        return fill(A[1,1],1)\n",
    "    end\n",
    "    D = zeros(Complex{Float64},n)\n",
    "\n",
    "    # Tolerance for deflation\n",
    "    tol = eps(Float64)\n",
    "\n",
    "    q = n # Size of the matrix we are currently working with\n",
    "    iter = 1 # Counter to detect convergence failure\n",
    "    iter_per_evalue = 0 # Used to trigger an exceptional shift\n",
    "\n",
    "    # Zero out small entries\n",
    "    reduce_eps!(A, tol)\n",
    "\n",
    "    while q > 0\n",
    "        println(\"q=\",q)\n",
    "        pretty_print(A)\n",
    "        if iter > 10*n\n",
    "            println(\"Failure to converge\")\n",
    "            println(\"Size of matrix = \",n)\n",
    "            println(\"Eigenvalues found:\")\n",
    "            println(D)\n",
    "            D1 = eigenvalue_sorted(A)\n",
    "            println(\"Remaining eigenvalues at point of failure:\")\n",
    "            println(D1)\n",
    "            return D # The eigenvalues we were able to calculate up to the failure\n",
    "        end\n",
    "\n",
    "        deflation = true # Were we able to deflate the matrix?\n",
    "\n",
    "        while deflation\n",
    "            deflation = false\n",
    "            # Test for convergence\n",
    "            # Test deflation for the last 2x2 block\n",
    "            if q <= 2 || A[q-1,q-2] == 0\n",
    "                if q >= 2\n",
    "                    # The last 2x2 block has converged\n",
    "                    deflation = true # Deflating now\n",
    "                    println(\"2x2 deflation\")\n",
    "                    # Compute the eigenvalues\n",
    "                    a = A[q-1,q-1]; b = A[q-1,q]; c = A[q,q-1]; d = A[q,q]\n",
    "                    # Last 2x2 block\n",
    "                    htr = (a+d)/2         # Half-trace\n",
    "                    dis = (a-d)^2/4 + b*c # Discriminant\n",
    "                    if dis > 0 # Pair of real eigenvalues\n",
    "                        D[q-1] = htr - sqrt(dis)\n",
    "                        D[q]   = htr + sqrt(dis)\n",
    "                    else # Complex conjugate eigenvalues\n",
    "                        D[q-1] = htr - sqrt(-dis)*im\n",
    "                        D[q]   = htr + sqrt(-dis)*im\n",
    "                    end\n",
    "                    # Reduce the size of the matrix\n",
    "                    q -= 2\n",
    "                    if q>=1\n",
    "                        A = A[1:q,1:q]\n",
    "                    end\n",
    "                end\n",
    "            end\n",
    "\n",
    "            if q==0\n",
    "                return D\n",
    "            end\n",
    "\n",
    "            # Testing deflation for the last 1x1 block\n",
    "            if q <= 1 || A[q,q-1] == 0\n",
    "                deflation = true\n",
    "                println(\"1x1 deflation\")\n",
    "                D[q] = A[q,q]\n",
    "                q -= 1\n",
    "                if q>=1\n",
    "                    A = A[1:q,1:q]\n",
    "                end\n",
    "            end\n",
    "\n",
    "            if q==0\n",
    "                return D\n",
    "            end\n",
    "\n",
    "            if deflation\n",
    "                iter_per_evalue = 0 # Reset the counter\n",
    "            end\n",
    "        end\n",
    "\n",
    "        # If q <= 2 we will compute the eigenvalues at the next iteration\n",
    "        if q >= 3\n",
    "            # Searching for the smallest unreduced sub-block\n",
    "            p = q\n",
    "            while p > 1 && A[p,p-1] != 0\n",
    "                p -= 1\n",
    "            end\n",
    "\n",
    "            # If the unreduced sub-block has size 2 or less, we move on\n",
    "            # to the next iteration.\n",
    "            if q-p+1 >= 3\n",
    "                B = A[p:q,p:q] # Extract sub-block\n",
    "                exceptional_shift = ((iter_per_evalue%5) == 0 &&\n",
    "                                      iter_per_evalue>0)\n",
    "                # Francis QR step\n",
    "                gees_single_step!(B, exceptional_shift)\n",
    "                # Reduce matrix\n",
    "                reduce_eps!(B, tol)\n",
    "                A[p:q,p:q] = B # Copy the resulting matrix back\n",
    "                iter += 1 # Increment iteration counter\n",
    "                iter_per_evalue += 1\n",
    "                # Increment counter for exceptional_shift\n",
    "            end\n",
    "        end\n",
    "    end"
   ]
  },
  {
   "cell_type": "code",
   "execution_count": 7,
   "metadata": {},
   "outputs": [
    {
     "data": {
      "text/plain": [
       "10-element Vector{ComplexF64}:\n",
       "  0.007812499999997892 + 0.0im\n",
       "   0.01562500000000125 + 0.0im\n",
       "  0.031249999999996794 + 0.0im\n",
       "   0.06250000000000004 + 0.0im\n",
       "     0.125000000000001 + 0.0im\n",
       "   0.24999999999999978 + 0.0im\n",
       "    0.5000000000000016 + 0.0im\n",
       " 8.881784197001252e-16 - 1.0000000000000007im\n",
       " 8.881784197001252e-16 + 1.0000000000000007im\n",
       "    1.0000000000000024 + 0.0im"
      ]
     },
     "metadata": {},
     "output_type": "display_data"
    },
    {
     "name": "stdout",
     "output_type": "stream",
     "text": [
      "norm(D0 - D2) = 1.4032615570571384e-15\n",
      "norm(D1 - D2) = 1.7646435657016817e-15\n"
     ]
    },
    {
     "data": {
      "text/plain": [
       "1.7646435657016817e-15"
      ]
     },
     "execution_count": 7,
     "metadata": {},
     "output_type": "execute_result"
    }
   ],
   "source": [
    "D2 = gees!(A0)\n",
    "D2 = eigenvalue_sorted(diagm(0 => D2)) \n",
    "#we use the previous line to just sort the eigenvalues, dont really use the inbuilt eigen\n",
    "display(D2)\n",
    "\n",
    "D1 = eigenvalue_sorted(A0)\n",
    "#pretty_print(A)\n",
    "@show norm(D0 - D2)\n",
    "@show norm(D1 - D2)\n",
    "\n",
    "#@assert norm(D0 - D2) < 1e-7\n",
    "#@assert norm(D1 - D2) < 1e-7\n"
   ]
  }
 ],
 "metadata": {
  "@webio": {
   "lastCommId": "b015a435cd064b36871cbefb5c9dc71d",
   "lastKernelId": "819a0e58-8e15-4c48-b631-8ee38f3858ac"
  },
  "anaconda-cloud": {},
  "kernelspec": {
   "display_name": "Julia 1.10.0",
   "language": "julia",
   "name": "julia-1.10"
  },
  "language_info": {
   "file_extension": ".jl",
   "mimetype": "application/julia",
   "name": "julia",
   "version": "1.10.0"
  }
 },
 "nbformat": 4,
 "nbformat_minor": 4
}
