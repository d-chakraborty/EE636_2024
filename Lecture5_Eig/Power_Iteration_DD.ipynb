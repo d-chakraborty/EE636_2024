{
 "cells": [
  {
   "cell_type": "code",
   "execution_count": 1,
   "id": "5bc95837",
   "metadata": {},
   "outputs": [],
   "source": [
    "using Printf\n",
    "using Random\n",
    "using LinearAlgebra\n",
    "rng = MersenneTwister(18);"
   ]
  },
  {
   "cell_type": "code",
   "execution_count": 2,
   "id": "0a261d52",
   "metadata": {},
   "outputs": [
    {
     "data": {
      "text/plain": [
       "3×3 Matrix{Float64}:\n",
       "  1.0   1.0  1.0\n",
       " -1.0   9.0  2.0\n",
       "  0.0  -1.0  2.0"
      ]
     },
     "metadata": {},
     "output_type": "display_data"
    }
   ],
   "source": [
    "A = [1 1 1;-1 9 2;0 -1 2]\n",
    "A = float(A)\n",
    "n = size(A,1)\n",
    "display(A)"
   ]
  },
  {
   "cell_type": "code",
   "execution_count": 3,
   "id": "23a4b787",
   "metadata": {},
   "outputs": [
    {
     "data": {
      "text/plain": [
       "3×3 Matrix{Float64}:\n",
       " 0.0  0.0  1.0\n",
       " 0.0  1.0  0.0\n",
       " 1.0  0.0  0.0"
      ]
     },
     "execution_count": 3,
     "metadata": {},
     "output_type": "execute_result"
    }
   ],
   "source": [
    "Id = Matrix{Float64}(I, n, n)\n",
    "P = zeros(n,n)\n",
    "function anti_diagonal(Id)\n",
    "    c = size(Id, 2)\n",
    "    for i = 1:c\n",
    "        P[:,i] = Id[:,c+1-i]\n",
    "    end\n",
    "    return P\n",
    "end\n",
    "P = anti_diagonal(Id)"
   ]
  },
  {
   "cell_type": "code",
   "execution_count": 4,
   "id": "725fa8d6",
   "metadata": {},
   "outputs": [
    {
     "data": {
      "text/plain": [
       "\"Eigenvalues of A\""
      ]
     },
     "metadata": {},
     "output_type": "display_data"
    },
    {
     "data": {
      "text/plain": [
       "3-element Vector{Float64}:\n",
       " 8.584428340330486\n",
       " 2.1948819130472557\n",
       " 1.2206897466222526"
      ]
     },
     "metadata": {},
     "output_type": "display_data"
    },
    {
     "data": {
      "text/plain": [
       "\"Eigenvectors of A\""
      ]
     },
     "metadata": {},
     "output_type": "display_data"
    },
    {
     "data": {
      "text/plain": [
       "3×3 Matrix{Float64}:\n",
       "  0.109887   0.551634  -0.987861\n",
       "  0.982676  -0.159547  -0.0954854\n",
       " -0.149242   0.818685  -0.122525"
      ]
     },
     "execution_count": 4,
     "metadata": {},
     "output_type": "execute_result"
    }
   ],
   "source": [
    "λ = P*eigvals(A)\n",
    "display(\"Eigenvalues of A\")\n",
    "display(λ)\n",
    "X = eigvecs(A)\n",
    "display(\"Eigenvectors of A\")\n",
    "X = X*P"
   ]
  },
  {
   "cell_type": "code",
   "execution_count": 5,
   "id": "4a0b30b2",
   "metadata": {},
   "outputs": [
    {
     "data": {
      "text/plain": [
       "3×3 Matrix{Float64}:\n",
       " 8.58443      -1.77636e-15  6.10623e-16\n",
       " 1.38778e-15   2.19488      3.33067e-16\n",
       " 4.30211e-15  -6.66134e-16  1.22069"
      ]
     },
     "execution_count": 5,
     "metadata": {},
     "output_type": "execute_result"
    }
   ],
   "source": [
    "Λ = inv(X)*A*X"
   ]
  },
  {
   "cell_type": "code",
   "execution_count": 8,
   "id": "65bc9395",
   "metadata": {
    "scrolled": false
   },
   "outputs": [
    {
     "data": {
      "text/plain": [
       "1"
      ]
     },
     "metadata": {},
     "output_type": "display_data"
    },
    {
     "data": {
      "text/plain": [
       "\"qk\""
      ]
     },
     "metadata": {},
     "output_type": "display_data"
    },
    {
     "data": {
      "text/plain": [
       "3-element Vector{Float64}:\n",
       " 0.2860387767736777\n",
       " 0.9534625892455922\n",
       " 0.09534625892455922"
      ]
     },
     "metadata": {},
     "output_type": "display_data"
    },
    {
     "data": {
      "text/plain": [
       "2"
      ]
     },
     "metadata": {},
     "output_type": "display_data"
    },
    {
     "data": {
      "text/plain": [
       "\"qk\""
      ]
     },
     "metadata": {},
     "output_type": "display_data"
    },
    {
     "data": {
      "text/plain": [
       "3-element Vector{Float64}:\n",
       "  0.1547835629215539\n",
       "  0.9839812214298782\n",
       " -0.08844775024088793"
      ]
     },
     "metadata": {},
     "output_type": "display_data"
    },
    {
     "data": {
      "text/plain": [
       "3"
      ]
     },
     "metadata": {},
     "output_type": "display_data"
    },
    {
     "data": {
      "text/plain": [
       "\"qk\""
      ]
     },
     "metadata": {},
     "output_type": "display_data"
    },
    {
     "data": {
      "text/plain": [
       "3-element Vector{Float64}:\n",
       "  0.12118973673787305\n",
       "  0.9835503897357908\n",
       " -0.13394655113133336"
      ]
     },
     "metadata": {},
     "output_type": "display_data"
    },
    {
     "data": {
      "text/plain": [
       "4"
      ]
     },
     "metadata": {},
     "output_type": "display_data"
    },
    {
     "data": {
      "text/plain": [
       "\"qk\""
      ]
     },
     "metadata": {},
     "output_type": "display_data"
    },
    {
     "data": {
      "text/plain": [
       "3-element Vector{Float64}:\n",
       "  0.11275442924786909\n",
       "  0.9829341440609244\n",
       " -0.14535097909613612"
      ]
     },
     "metadata": {},
     "output_type": "display_data"
    },
    {
     "data": {
      "text/plain": [
       "5"
      ]
     },
     "metadata": {},
     "output_type": "display_data"
    },
    {
     "data": {
      "text/plain": [
       "\"qk\""
      ]
     },
     "metadata": {},
     "output_type": "display_data"
    },
    {
     "data": {
      "text/plain": [
       "3-element Vector{Float64}:\n",
       "  0.11061756667035008\n",
       "  0.9827441224784158\n",
       " -0.14824892471130796"
      ]
     },
     "metadata": {},
     "output_type": "display_data"
    },
    {
     "data": {
      "text/plain": [
       "6"
      ]
     },
     "metadata": {},
     "output_type": "display_data"
    },
    {
     "data": {
      "text/plain": [
       "\"qk\""
      ]
     },
     "metadata": {},
     "output_type": "display_data"
    },
    {
     "data": {
      "text/plain": [
       "3-element Vector{Float64}:\n",
       "  0.11007372205695083\n",
       "  0.9826933423270501\n",
       " -0.1489884916985881"
      ]
     },
     "metadata": {},
     "output_type": "display_data"
    },
    {
     "data": {
      "text/plain": [
       "7"
      ]
     },
     "metadata": {},
     "output_type": "display_data"
    },
    {
     "data": {
      "text/plain": [
       "\"qk\""
      ]
     },
     "metadata": {},
     "output_type": "display_data"
    },
    {
     "data": {
      "text/plain": [
       "3-element Vector{Float64}:\n",
       "  0.10993500458080924\n",
       "  0.9826802011409213\n",
       " -0.1491774683169551"
      ]
     },
     "metadata": {},
     "output_type": "display_data"
    },
    {
     "data": {
      "text/plain": [
       "8"
      ]
     },
     "metadata": {},
     "output_type": "display_data"
    },
    {
     "data": {
      "text/plain": [
       "\"qk\""
      ]
     },
     "metadata": {},
     "output_type": "display_data"
    },
    {
     "data": {
      "text/plain": [
       "3-element Vector{Float64}:\n",
       "  0.10989958291373603\n",
       "  0.9826768287747922\n",
       " -0.1492257747994783"
      ]
     },
     "metadata": {},
     "output_type": "display_data"
    },
    {
     "data": {
      "text/plain": [
       "9"
      ]
     },
     "metadata": {},
     "output_type": "display_data"
    },
    {
     "data": {
      "text/plain": [
       "\"qk\""
      ]
     },
     "metadata": {},
     "output_type": "display_data"
    },
    {
     "data": {
      "text/plain": [
       "3-element Vector{Float64}:\n",
       "  0.10989053265633637\n",
       "  0.9826759654102002\n",
       " -0.149238124611769"
      ]
     },
     "metadata": {},
     "output_type": "display_data"
    },
    {
     "data": {
      "text/plain": [
       "10"
      ]
     },
     "metadata": {},
     "output_type": "display_data"
    },
    {
     "data": {
      "text/plain": [
       "\"qk\""
      ]
     },
     "metadata": {},
     "output_type": "display_data"
    },
    {
     "data": {
      "text/plain": [
       "3-element Vector{Float64}:\n",
       "  0.10988821957614278\n",
       "  0.982675744548012\n",
       " -0.1492412820750211"
      ]
     },
     "metadata": {},
     "output_type": "display_data"
    },
    {
     "data": {
      "text/plain": [
       "\"x1\""
      ]
     },
     "metadata": {},
     "output_type": "display_data"
    },
    {
     "data": {
      "text/plain": [
       "3-element Vector{Float64}:\n",
       "  0.109887425207742\n",
       "  0.9826756686582475\n",
       " -0.14924236666670512"
      ]
     },
     "metadata": {},
     "output_type": "display_data"
    },
    {
     "name": "stdout",
     "output_type": "stream",
     "text": [
      "error=7.526281001091206e-6"
     ]
    }
   ],
   "source": [
    "x1 = X[:,1]\n",
    "x1 /= norm(x1)\n",
    "\n",
    "qk  = [1;1;1] #starting vector\n",
    "qk /= norm(qk)\n",
    "\n",
    "niter = 10\n",
    "err = zeros(niter)\n",
    "\n",
    "for k=1:niter\n",
    "    display(k)\n",
    "    zk = A * qk          # Power iteration: multiply by A\n",
    "    eval = dot(zk,qk)    # E-value approximation\n",
    "    qk = zk/norm(zk)     # Normalize e-vector\n",
    "    if (qk[1]*x1[1] < 0)\n",
    "        qk = -qk\n",
    "    end\n",
    "#     λ1= qk*zk\n",
    "#     display(λ1)\n",
    "    display(\"qk\")\n",
    "    display(qk)\n",
    "    err = abs(Λ[1,1] - eval)\n",
    "end\n",
    "display(\"x1\")\n",
    "display(x1)\n",
    "print(\"error=\", err)"
   ]
  },
  {
   "cell_type": "code",
   "execution_count": null,
   "id": "8eff85ea",
   "metadata": {},
   "outputs": [],
   "source": []
  }
 ],
 "metadata": {
  "@webio": {
   "lastCommId": null,
   "lastKernelId": null
  },
  "kernelspec": {
   "display_name": "Julia 1.10.0",
   "language": "julia",
   "name": "julia-1.10"
  },
  "language_info": {
   "file_extension": ".jl",
   "mimetype": "application/julia",
   "name": "julia",
   "version": "1.10.0"
  }
 },
 "nbformat": 4,
 "nbformat_minor": 5
}
