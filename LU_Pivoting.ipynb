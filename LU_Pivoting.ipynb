{
 "cells": [
  {
   "cell_type": "code",
   "execution_count": 1,
   "metadata": {},
   "outputs": [
    {
     "data": {
      "text/plain": [
       "false"
      ]
     },
     "execution_count": 1,
     "metadata": {},
     "output_type": "execute_result"
    }
   ],
   "source": [
    "using LinearAlgebra\n",
    "using Random\n",
    "rng = MersenneTwister()\n",
    "Random.seed!(rng, 2018)\n",
    "output = false"
   ]
  },
  {
   "cell_type": "code",
   "execution_count": 2,
   "metadata": {},
   "outputs": [
    {
     "data": {
      "text/plain": [
       "6×6 Array{Float64,2}:\n",
       "  0.0   1.0   0.0   2.0    2.0   3.0\n",
       " -1.0  -3.0   1.0   4.0    3.0  -4.0\n",
       " -2.0  -1.0  -2.0   7.0    8.0   3.0\n",
       " -2.0   0.0  -7.0   3.0    2.0  -5.0\n",
       "  2.0   1.0   3.0  -7.0  -12.0   4.0\n",
       " -1.0   0.0  -4.0   0.0   -1.0  -2.0"
      ]
     },
     "execution_count": 2,
     "metadata": {},
     "output_type": "execute_result"
    }
   ],
   "source": [
    "# Size of the matrix\n",
    "n = 64;\n",
    "\n",
    "# Random initialization of matrix A\n",
    "L = zeros(Float64,n,n)\n",
    "U = zeros(Float64,n,n)\n",
    "P = randperm(rng,n) # Randow row permutation\n",
    "for i=1:n\n",
    "    L[P[i],i] = 3 # Largest entry in the column\n",
    "    L[P[i+1:n],i] = rand(rng, -2:2, n-i)\n",
    "    U[i,i] = rand(rng, 1:2)\n",
    "    U[i,i+1:n] = rand(rng, -2:2, n-i)\n",
    "end\n",
    "A = L * U\n",
    "A0 = copy(A);\n",
    "A0[1:6,1:6]"
   ]
  },
  {
   "cell_type": "code",
   "execution_count": 3,
   "metadata": {},
   "outputs": [
    {
     "data": {
      "text/plain": [
       "1×64 Adjoint{Float64,Array{Float64,1}}:\n",
       " 405.0  441.0  235.0  265.0  90.0  …  538.0  -332.0  681.0  356.0  -286.0"
      ]
     },
     "execution_count": 3,
     "metadata": {},
     "output_type": "execute_result"
    }
   ],
   "source": [
    "# Initializing the right-hand side\n",
    "xe = rand(rng, 0:9, n) # This will be our solution\n",
    "b = A * xe\n",
    "b'"
   ]
  },
  {
   "cell_type": "code",
   "execution_count": 4,
   "metadata": {},
   "outputs": [
    {
     "data": {
      "text/plain": [
       "getrs (generic function with 3 methods)"
      ]
     },
     "execution_count": 4,
     "metadata": {},
     "output_type": "execute_result"
    }
   ],
   "source": [
    "include(\"../src/getrf.jl\")"
   ]
  },
  {
   "cell_type": "code",
   "execution_count": 5,
   "metadata": {},
   "outputs": [
    {
     "name": "stderr",
     "output_type": "stream",
     "text": [
      "┌ Info: getrf!: permutation is correct\n",
      "└ @ Main In[5]:5\n",
      "┌ Info: getrf!: solution is correct\n",
      "└ @ Main In[5]:11\n"
     ]
    }
   ],
   "source": [
    "A = copy(A0)\n",
    "P0 = copy(P) # Save the reference permutation we initialized above\n",
    "P = getrf!(A) \n",
    "if P == P0\n",
    "    @info \"getrf!: permutation is correct\"\n",
    "end\n",
    "\n",
    "# Solve\n",
    "x = getrs(A, P, b)\n",
    "if x == xe # No roundoff error should occur for this example\n",
    "    @info \"getrf!: solution is correct\"\n",
    "end"
   ]
  },
  {
   "cell_type": "code",
   "execution_count": 6,
   "metadata": {},
   "outputs": [
    {
     "data": {
      "text/plain": [
       "flip_last_bit (generic function with 1 method)"
      ]
     },
     "execution_count": 6,
     "metadata": {},
     "output_type": "execute_result"
    }
   ],
   "source": [
    "function flip_last_bit(A)\n",
    "    B = Matrix{Float64}(undef,size(A))\n",
    "    for j=1:size(A,2)\n",
    "        for i=1:size(A,1)\n",
    "            last_bit_flpd = xor( Int64( significand(A[i,j]) / eps(Float64) ), 1)\n",
    "            B[i,j] = (2.0^exponent(A[i,j])) * (Float64(last_bit_flpd) * eps(Float64))\n",
    "        end\n",
    "    end\n",
    "    return B\n",
    "end"
   ]
  },
  {
   "cell_type": "code",
   "execution_count": 7,
   "metadata": {},
   "outputs": [
    {
     "data": {
      "text/plain": [
       "\"TEST PASSED\""
      ]
     },
     "execution_count": 7,
     "metadata": {},
     "output_type": "execute_result"
    }
   ],
   "source": [
    "# Test flip_last_bit()\n",
    "ntrial = 128\n",
    "x = (1<<20) * ( randn(ntrial,ntrial) .- 0.5 )\n",
    "# This test will fail if you modify flip_last_bit()\n",
    "# You can still run the rest of the script safely\n",
    "abs.(x - flip_last_bit(x)) == eps(Float64) * (2.0.^exponent.(x)) ? \"TEST PASSED\" : \"TEST FAILED\""
   ]
  },
  {
   "cell_type": "code",
   "execution_count": 8,
   "metadata": {},
   "outputs": [],
   "source": [
    "# Test the accuracy of the solver\n",
    "# Random orthonormal matrix Q\n",
    "X = rand(rng, n,n)\n",
    "Q,R = qr(X)\n",
    "b = randn(rng, n)\n",
    "ntrial = 64\n",
    "e = Matrix{Float64}(undef,2,ntrial)\n",
    "for k=1:ntrial\n",
    "    # Diagonal\n",
    "    d = fill(1.0,n); d[n-k+1:end] = (1.0/2.0).^(1:k)\n",
    "    A = Q * diagm(0 => d) * transpose(Q)\n",
    "    # Make a small change\n",
    "    B = flip_last_bit(A)    \n",
    "    xe = A\\b\n",
    "    xf = B\\b\n",
    "    P = getrf!(A)\n",
    "    x = getrs(A, P, b)\n",
    "    e[1,k] = norm(x-xe) / norm(xe)\n",
    "    e[2,k] = norm(xf-xe) / norm(xe)\n",
    "end"
   ]
  },
  {
   "cell_type": "code",
   "execution_count": 9,
   "metadata": {},
   "outputs": [
    {
     "data": {
      "text/html": [
       "<script>\n",
       "// Immediately-invoked-function-expression to avoid global variables.\n",
       "(function() {\n",
       "    var warning_div = document.getElementById(\"webio-warning-7804897157132126119\");\n",
       "    var hide = function () {\n",
       "        var script = document.getElementById(\"webio-setup-15424460388401030686\");\n",
       "        var parent = script && script.parentElement;\n",
       "        var grandparent = parent && parent.parentElement;\n",
       "        if (grandparent) {\n",
       "            grandparent.style.display = \"none\";\n",
       "        }\n",
       "        warning_div.style.display = \"none\";\n",
       "    };\n",
       "    if (typeof Jupyter !== \"undefined\") {\n",
       "        console.log(\"WebIO detected Jupyter notebook environment.\");\n",
       "        // Jupyter notebook.\n",
       "        var extensions = (\n",
       "            Jupyter\n",
       "            && Jupyter.notebook.config.data\n",
       "            && Jupyter.notebook.config.data.load_extensions\n",
       "        );\n",
       "        if (extensions && extensions[\"webio-jupyter-notebook\"]) {\n",
       "            // Extension already loaded.\n",
       "            console.log(\"Jupyter WebIO nbextension detected; not loading ad-hoc.\");\n",
       "            hide();\n",
       "            return;\n",
       "        }\n",
       "    } else if (window.location.pathname.includes(\"/lab\")) {\n",
       "        // Guessing JupyterLa\n",
       "        console.log(\"Jupyter Lab detected; make sure the @webio/jupyter-lab-provider labextension is installed.\");\n",
       "        hide();\n",
       "        return;\n",
       "    }\n",
       "})();\n",
       "\n",
       "</script>\n",
       "<p\n",
       "    id=\"webio-warning-7804897157132126119\"\n",
       "    class=\"output_text output_stderr\"\n",
       "    style=\"padding: 1em; font-weight: bold;\"\n",
       ">\n",
       "    Unable to load WebIO. Please make sure WebIO works for your Jupyter client.\n",
       "    For troubleshooting, please see <a href=\"https://juliagizmos.github.io/WebIO.jl/latest/providers/ijulia/\">\n",
       "    the WebIO/IJulia documentation</a>.\n",
       "    <!-- TODO: link to installation docs. -->\n",
       "</p>\n"
      ],
      "text/plain": [
       "HTML{String}(\"<script>\\n// Immediately-invoked-function-expression to avoid global variables.\\n(function() {\\n    var warning_div = document.getElementById(\\\"webio-warning-7804897157132126119\\\");\\n    var hide = function () {\\n        var script = document.getElementById(\\\"webio-setup-15424460388401030686\\\");\\n        var parent = script && script.parentElement;\\n        var grandparent = parent && parent.parentElement;\\n        if (grandparent) {\\n            grandparent.style.display = \\\"none\\\";\\n        }\\n        warning_div.style.display = \\\"none\\\";\\n    };\\n    if (typeof Jupyter !== \\\"undefined\\\") {\\n        console.log(\\\"WebIO detected Jupyter notebook environment.\\\");\\n        // Jupyter notebook.\\n        var extensions = (\\n            Jupyter\\n            && Jupyter.notebook.config.data\\n            && Jupyter.notebook.config.data.load_extensions\\n        );\\n        if (extensions && extensions[\\\"webio-jupyter-notebook\\\"]) {\\n            // Extension already loaded.\\n            console.log(\\\"Jupyter WebIO nbextension detected; not loading ad-hoc.\\\");\\n            hide();\\n            return;\\n        }\\n    } else if (window.location.pathname.includes(\\\"/lab\\\")) {\\n        // Guessing JupyterLa\\n        console.log(\\\"Jupyter Lab detected; make sure the @webio/jupyter-lab-provider labextension is installed.\\\");\\n        hide();\\n        return;\\n    }\\n})();\\n\\n</script>\\n<p\\n    id=\\\"webio-warning-7804897157132126119\\\"\\n    class=\\\"output_text output_stderr\\\"\\n    style=\\\"padding: 1em; font-weight: bold;\\\"\\n>\\n    Unable to load WebIO. Please make sure WebIO works for your Jupyter client.\\n    For troubleshooting, please see <a href=\\\"https://juliagizmos.github.io/WebIO.jl/latest/providers/ijulia/\\\">\\n    the WebIO/IJulia documentation</a>.\\n    <!-- TODO: link to installation docs. -->\\n</p>\\n\")"
      ]
     },
     "metadata": {},
     "output_type": "display_data"
    },
    {
     "data": {
      "text/plain": [
       "plotToPDF (generic function with 1 method)"
      ]
     },
     "execution_count": 9,
     "metadata": {},
     "output_type": "execute_result"
    }
   ],
   "source": [
    "include(\"../load_plot_pkg.jl\")"
   ]
  },
  {
   "cell_type": "code",
   "execution_count": 10,
   "metadata": {},
   "outputs": [
    {
     "data": {
      "application/vnd.plotly.v1+json": {
       "data": [
        {
         "marker": {
          "color": "#E24A33",
          "line": {
           "color": "#348ABD",
           "width": 0.5
          },
          "size": 10
         },
         "name": "Pivoted LU",
         "type": "scatter",
         "x": [
          1,
          2,
          3,
          4,
          5,
          6,
          7,
          8,
          9,
          10,
          11,
          12,
          13,
          14,
          15,
          16,
          17,
          18,
          19,
          20,
          21,
          22,
          23,
          24,
          25,
          26,
          27,
          28,
          29,
          30,
          31,
          32,
          33,
          34,
          35,
          36,
          37,
          38,
          39,
          40,
          41,
          42,
          43,
          44,
          45,
          46,
          47,
          48,
          49,
          50,
          51,
          52,
          53,
          54,
          55,
          56,
          57,
          58,
          59,
          60,
          61,
          62,
          63,
          64
         ],
         "y": [
          1.6308464073332385e-16,
          2.2290860476396834e-16,
          2.7596684363927805e-16,
          3.6612449677180556e-16,
          1.1585015213152166e-15,
          2.5242103028159845e-15,
          1.1165752379977704e-15,
          8.6591332665757e-15,
          3.328399046246317e-14,
          5.350399131842787e-14,
          7.019523168994511e-14,
          2.0123598158492958e-13,
          6.748623245669039e-14,
          6.334084071210737e-13,
          6.918358834318195e-13,
          3.6016178485560776e-12,
          1.1826251060286137e-12,
          3.4374193598189753e-12,
          1.5705191316159975e-11,
          3.872365226616377e-11,
          4.339615233291713e-11,
          1.3539164199922182e-10,
          1.4506976923259214e-10,
          3.471148052360221e-10,
          8.757162632416971e-10,
          7.841185638058429e-10,
          4.4012647770585155e-09,
          6.674588961333338e-09,
          1.1188185646439705e-08,
          7.268073659719895e-08,
          2.447024307416608e-08,
          2.4931857677168055e-08,
          1.0392796001605579e-07,
          3.331325005916008e-07,
          1.6263343885882428e-06,
          1.0981622429587358e-06,
          2.2154472296983796e-06,
          7.042975999746181e-06,
          1.2636712628617928e-05,
          2.6159826185391766e-05,
          5.88139483515364e-05,
          7.00388542511499e-05,
          0.0002505403640299289,
          0.0002936739524513159,
          0.0008869497627753086,
          0.0011538947838114252,
          0.0016854900314547928,
          0.0016520463424371228,
          0.0022114983097998287,
          0.030101381115995918,
          0.033388005691029614,
          0.07320244385970487,
          0.0656253447397489,
          0.10378377465156113,
          0.15510216113340247,
          26.701961622633398,
          0.6808909467761759,
          0.9845646876121715,
          0.7013218992079518,
          0.9981351174675389,
          3.1051462341681515,
          1.8242164288947846,
          3.6440927215817167,
          3.6440927215817167
         ]
        },
        {
         "marker": {
          "color": "#348ABD",
          "line": {
           "color": "#348ABD",
           "width": 0.5
          },
          "size": 10
         },
         "name": "Perturbed Input using \\",
         "type": "scatter",
         "x": [
          1,
          2,
          3,
          4,
          5,
          6,
          7,
          8,
          9,
          10,
          11,
          12,
          13,
          14,
          15,
          16,
          17,
          18,
          19,
          20,
          21,
          22,
          23,
          24,
          25,
          26,
          27,
          28,
          29,
          30,
          31,
          32,
          33,
          34,
          35,
          36,
          37,
          38,
          39,
          40,
          41,
          42,
          43,
          44,
          45,
          46,
          47,
          48,
          49,
          50,
          51,
          52,
          53,
          54,
          55,
          56,
          57,
          58,
          59,
          60,
          61,
          62,
          63,
          64
         ],
         "y": [
          1.567743217661972e-16,
          2.2954445548235883e-16,
          2.3770267963012265e-16,
          1.2074858958655283e-15,
          2.9569333112912303e-15,
          1.9330455811597487e-15,
          8.483447385232801e-15,
          7.904246906718625e-15,
          1.7151412358651426e-14,
          5.6563967617890395e-15,
          9.935130963825147e-14,
          5.457320583088294e-14,
          1.5968046224171863e-13,
          2.1740686794242973e-13,
          8.765104906703445e-13,
          2.633491733930976e-12,
          2.0967023117117044e-12,
          6.975212654239094e-12,
          2.9977873101381714e-11,
          9.84314806193031e-12,
          3.050337715357928e-11,
          2.0971454109524049e-10,
          1.2088527623917555e-10,
          1.848432149014071e-10,
          4.969135472799552e-10,
          2.7265890862011087e-10,
          1.989447646874491e-09,
          7.1221845036020946e-09,
          1.073026449382702e-08,
          2.088732715124757e-08,
          5.7697137824144474e-08,
          8.100002213459286e-08,
          4.267713485599006e-08,
          5.320656840350253e-07,
          9.210755854468256e-07,
          3.2512287453888884e-06,
          1.1661238438850337e-06,
          4.354371013906911e-06,
          1.5395723003923296e-05,
          1.0613807199007187e-05,
          4.858359945007033e-05,
          0.00011803277061386991,
          9.109955001262722e-05,
          0.0004968920610934548,
          0.00033516789472532094,
          0.0002656932585522314,
          0.005378511816532997,
          0.0023392695471538077,
          0.007129956426817411,
          0.01588031001239588,
          0.009598497619790943,
          0.030575853501809906,
          0.07195133124251442,
          0.1409610849013294,
          0.5225360846869289,
          5.564273513636185,
          0.58743996899084,
          0.996210489889855,
          0.7282169139052798,
          1.4073869304225823,
          0.8309991938519581,
          0.932502699040159,
          0.9859845461556817,
          0.9859845461556817
         ]
        }
       ],
       "frames": [],
       "layout": {
        "font": {
         "size": 16
        },
        "height": 350,
        "margin": {
         "b": 50,
         "l": 50,
         "r": 50,
         "t": 60
        },
        "titlefont": {
         "size": 18
        },
        "width": 580,
        "xaxis": {
         "gridcolor": "#E5E5E5",
         "linecolor": "black",
         "linewidth": 1,
         "mirror": true,
         "showgrid": true,
         "ticks": "inside",
         "title": "Matrix index",
         "titlefont": {
          "color": "#555555",
          "size": 18
         },
         "zeroline": false
        },
        "yaxis": {
         "gridcolor": "#E5E5E5",
         "linecolor": "black",
         "linewidth": 1,
         "mirror": true,
         "showgrid": true,
         "ticks": "inside",
         "title": "Error",
         "titlefont": {
          "color": "#555555",
          "size": 18
         },
         "type": "log",
         "zeroline": false
        }
       }
      },
      "application/vnd.webio.node+json": {
       "children": [
        {
         "children": [],
         "instanceArgs": {
          "namespace": "html",
          "tag": "div"
         },
         "nodeType": "DOM",
         "props": {
          "id": "plot-74b6f575-8c64-42e3-a9c9-871806462b47"
         },
         "type": "node"
        }
       ],
       "instanceArgs": {
        "handlers": {
         "__get_gd_contents": [
          "(function (prop){prop==\"data\" ? (WebIO.setval({\"name\":\"__gd_contents\",\"scope\":\"5278077778357384560\",\"id\":\"760861565095859068\",\"type\":\"observable\"},this.plotElem.data)) : undefined; return prop==\"layout\" ? (WebIO.setval({\"name\":\"__gd_contents\",\"scope\":\"5278077778357384560\",\"id\":\"760861565095859068\",\"type\":\"observable\"},this.plotElem.layout)) : undefined})"
         ],
         "_commands": [
          "(function (args){var fn=args.shift(); var elem=this.plotElem; var Plotly=this.Plotly; args.unshift(elem); return Plotly[fn].apply(this,args)})"
         ],
         "_downloadImage": [
          "(function (options){return this.Plotly.downloadImage(this.plotElem,options)})"
         ],
         "_toImage": [
          "(function (options){return this.Plotly.toImage(this.plotElem,options).then((function (data){return WebIO.setval({\"name\":\"image\",\"scope\":\"5278077778357384560\",\"id\":\"15416808286876596106\",\"type\":\"observable\"},data)}))})"
         ]
        },
        "id": "5278077778357384560",
        "imports": {
         "data": [
          {
           "name": "Plotly",
           "type": "js",
           "url": "/assetserver/57533c5d787f8bc76a9e58ed0a1abce5f1b0c14d-plotly-latest.min.js"
          },
          {
           "name": null,
           "type": "js",
           "url": "/assetserver/58a7932c57029f7dbaa4105104076ff149fc7585-plotly_webio.bundle.js"
          }
         ],
         "type": "async_block"
        },
        "mount_callbacks": [
         "function () {\n    var handler = ((function (Plotly,PlotlyWebIO){PlotlyWebIO.init(WebIO); var gd=this.dom.querySelector(\"#plot-74b6f575-8c64-42e3-a9c9-871806462b47\"); this.plotElem=gd; this.Plotly=Plotly; (window.Blink!==undefined) ? (gd.style.width=\"100%\", gd.style.height=\"100vh\", gd.style.marginLeft=\"0%\", gd.style.marginTop=\"0vh\") : undefined; window.onresize=(function (){return Plotly.Plots.resize(gd)}); Plotly.newPlot(gd,[{\"marker\":{\"color\":\"#E24A33\",\"line\":{\"color\":\"#348ABD\",\"width\":0.5},\"size\":10},\"y\":[1.6308464073332385e-16,2.2290860476396834e-16,2.7596684363927805e-16,3.6612449677180556e-16,1.1585015213152166e-15,2.5242103028159845e-15,1.1165752379977704e-15,8.6591332665757e-15,3.328399046246317e-14,5.350399131842787e-14,7.019523168994511e-14,2.0123598158492958e-13,6.748623245669039e-14,6.334084071210737e-13,6.918358834318195e-13,3.6016178485560776e-12,1.1826251060286137e-12,3.4374193598189753e-12,1.5705191316159975e-11,3.872365226616377e-11,4.339615233291713e-11,1.3539164199922182e-10,1.4506976923259214e-10,3.471148052360221e-10,8.757162632416971e-10,7.841185638058429e-10,4.4012647770585155e-9,6.674588961333338e-9,1.1188185646439705e-8,7.268073659719895e-8,2.447024307416608e-8,2.4931857677168055e-8,1.0392796001605579e-7,3.331325005916008e-7,1.6263343885882428e-6,1.0981622429587358e-6,2.2154472296983796e-6,7.042975999746181e-6,1.2636712628617928e-5,2.6159826185391766e-5,5.88139483515364e-5,7.00388542511499e-5,0.0002505403640299289,0.0002936739524513159,0.0008869497627753086,0.0011538947838114252,0.0016854900314547928,0.0016520463424371228,0.0022114983097998287,0.030101381115995918,0.033388005691029614,0.07320244385970487,0.0656253447397489,0.10378377465156113,0.15510216113340247,26.701961622633398,0.6808909467761759,0.9845646876121715,0.7013218992079518,0.9981351174675389,3.1051462341681515,1.8242164288947846,3.6440927215817167,3.6440927215817167],\"type\":\"scatter\",\"name\":\"Pivoted LU\",\"x\":[1,2,3,4,5,6,7,8,9,10,11,12,13,14,15,16,17,18,19,20,21,22,23,24,25,26,27,28,29,30,31,32,33,34,35,36,37,38,39,40,41,42,43,44,45,46,47,48,49,50,51,52,53,54,55,56,57,58,59,60,61,62,63,64]},{\"marker\":{\"color\":\"#348ABD\",\"line\":{\"color\":\"#348ABD\",\"width\":0.5},\"size\":10},\"y\":[1.567743217661972e-16,2.2954445548235883e-16,2.3770267963012265e-16,1.2074858958655283e-15,2.9569333112912303e-15,1.9330455811597487e-15,8.483447385232801e-15,7.904246906718625e-15,1.7151412358651426e-14,5.6563967617890395e-15,9.935130963825147e-14,5.457320583088294e-14,1.5968046224171863e-13,2.1740686794242973e-13,8.765104906703445e-13,2.633491733930976e-12,2.0967023117117044e-12,6.975212654239094e-12,2.9977873101381714e-11,9.84314806193031e-12,3.050337715357928e-11,2.0971454109524049e-10,1.2088527623917555e-10,1.848432149014071e-10,4.969135472799552e-10,2.7265890862011087e-10,1.989447646874491e-9,7.1221845036020946e-9,1.073026449382702e-8,2.088732715124757e-8,5.7697137824144474e-8,8.100002213459286e-8,4.267713485599006e-8,5.320656840350253e-7,9.210755854468256e-7,3.2512287453888884e-6,1.1661238438850337e-6,4.354371013906911e-6,1.5395723003923296e-5,1.0613807199007187e-5,4.858359945007033e-5,0.00011803277061386991,9.109955001262722e-5,0.0004968920610934548,0.00033516789472532094,0.0002656932585522314,0.005378511816532997,0.0023392695471538077,0.007129956426817411,0.01588031001239588,0.009598497619790943,0.030575853501809906,0.07195133124251442,0.1409610849013294,0.5225360846869289,5.564273513636185,0.58743996899084,0.996210489889855,0.7282169139052798,1.4073869304225823,0.8309991938519581,0.932502699040159,0.9859845461556817,0.9859845461556817],\"type\":\"scatter\",\"name\":\"Perturbed Input using \\\\\",\"x\":[1,2,3,4,5,6,7,8,9,10,11,12,13,14,15,16,17,18,19,20,21,22,23,24,25,26,27,28,29,30,31,32,33,34,35,36,37,38,39,40,41,42,43,44,45,46,47,48,49,50,51,52,53,54,55,56,57,58,59,60,61,62,63,64]}],{\"xaxis\":{\"showgrid\":true,\"gridcolor\":\"#E5E5E5\",\"titlefont\":{\"color\":\"#555555\",\"size\":18},\"zeroline\":false,\"ticks\":\"inside\",\"title\":\"Matrix index\",\"linewidth\":1.0,\"mirror\":true,\"linecolor\":\"black\"},\"titlefont\":{\"size\":18},\"font\":{\"size\":16},\"height\":350,\"margin\":{\"l\":50,\"b\":50,\"r\":50,\"t\":60},\"yaxis\":{\"showgrid\":true,\"gridcolor\":\"#E5E5E5\",\"titlefont\":{\"color\":\"#555555\",\"size\":18},\"zeroline\":false,\"type\":\"log\",\"ticks\":\"inside\",\"title\":\"Error\",\"linewidth\":1.0,\"mirror\":true,\"linecolor\":\"black\"},\"width\":580},{}); gd.on(\"plotly_hover\",(function (data){var filtered_data=WebIO.PlotlyCommands.filterEventData(gd,data,\"hover\"); return !(filtered_data.isnil) ? (WebIO.setval({\"name\":\"hover\",\"scope\":\"5278077778357384560\",\"id\":\"1051237820860919397\",\"type\":\"observable\"},filtered_data.out)) : undefined})); gd.on(\"plotly_unhover\",(function (){return WebIO.setval({\"name\":\"hover\",\"scope\":\"5278077778357384560\",\"id\":\"1051237820860919397\",\"type\":\"observable\"},{})})); gd.on(\"plotly_selected\",(function (data){var filtered_data=WebIO.PlotlyCommands.filterEventData(gd,data,\"selected\"); return !(filtered_data.isnil) ? (WebIO.setval({\"name\":\"selected\",\"scope\":\"5278077778357384560\",\"id\":\"14656831574595637452\",\"type\":\"observable\"},filtered_data.out)) : undefined})); gd.on(\"plotly_deselect\",(function (){return WebIO.setval({\"name\":\"selected\",\"scope\":\"5278077778357384560\",\"id\":\"14656831574595637452\",\"type\":\"observable\"},{})})); gd.on(\"plotly_relayout\",(function (data){var filtered_data=WebIO.PlotlyCommands.filterEventData(gd,data,\"relayout\"); return !(filtered_data.isnil) ? (WebIO.setval({\"name\":\"relayout\",\"scope\":\"5278077778357384560\",\"id\":\"6152169145513198083\",\"type\":\"observable\"},filtered_data.out)) : undefined})); return gd.on(\"plotly_click\",(function (data){var filtered_data=WebIO.PlotlyCommands.filterEventData(gd,data,\"click\"); return !(filtered_data.isnil) ? (WebIO.setval({\"name\":\"click\",\"scope\":\"5278077778357384560\",\"id\":\"12780719648998816350\",\"type\":\"observable\"},filtered_data.out)) : undefined}))}));\n    (WebIO.importBlock({\"data\":[{\"name\":\"Plotly\",\"type\":\"js\",\"url\":\"/assetserver/57533c5d787f8bc76a9e58ed0a1abce5f1b0c14d-plotly-latest.min.js\"},{\"name\":null,\"type\":\"js\",\"url\":\"/assetserver/58a7932c57029f7dbaa4105104076ff149fc7585-plotly_webio.bundle.js\"}],\"type\":\"async_block\"})).then((imports) => handler.apply(this, imports));\n}\n"
        ],
        "observables": {
         "__gd_contents": {
          "id": "760861565095859068",
          "sync": false,
          "value": {}
         },
         "__get_gd_contents": {
          "id": "3745673686121064190",
          "sync": false,
          "value": ""
         },
         "_commands": {
          "id": "14756831826475527790",
          "sync": false,
          "value": []
         },
         "_downloadImage": {
          "id": "8360989445836502355",
          "sync": false,
          "value": {}
         },
         "_toImage": {
          "id": "608890310536591854",
          "sync": false,
          "value": {}
         },
         "click": {
          "id": "12780719648998816350",
          "sync": false,
          "value": {}
         },
         "hover": {
          "id": "1051237820860919397",
          "sync": false,
          "value": {}
         },
         "image": {
          "id": "15416808286876596106",
          "sync": true,
          "value": ""
         },
         "relayout": {
          "id": "6152169145513198083",
          "sync": false,
          "value": {}
         },
         "selected": {
          "id": "14656831574595637452",
          "sync": false,
          "value": {}
         }
        },
        "systemjs_options": null
       },
       "nodeType": "Scope",
       "props": {},
       "type": "node"
      },
      "image/png": "[encoded data removed]",
      "image/svg+xml": [
       "<svg class=\"main-svg\" xmlns=\"http://www.w3.org/2000/svg\" xmlns:xlink=\"http://www.w3.org/1999/xlink\" width=\"700\" height=\"500\" style=\"\" viewBox=\"0 0 700 500\"><rect x=\"0\" y=\"0\" width=\"700\" height=\"500\" style=\"fill: rgb(255, 255, 255); fill-opacity: 1;\"/><defs id=\"defs-1ed261\"><g class=\"clips\"><clipPath id=\"clip1ed261xyplot\" class=\"plotclip\"><rect width=\"411\" height=\"390\"/></clipPath><clipPath class=\"axesclip\" id=\"clip1ed261x\"><rect x=\"50\" y=\"0\" width=\"411\" height=\"500\"/></clipPath><clipPath class=\"axesclip\" id=\"clip1ed261y\"><rect x=\"0\" y=\"60\" width=\"700\" height=\"390\"/></clipPath><clipPath class=\"axesclip\" id=\"clip1ed261xy\"><rect x=\"50\" y=\"60\" width=\"411\" height=\"390\"/></clipPath></g><g class=\"gradients\"/></defs><g class=\"bglayer\"/><g class=\"layer-below\"><g class=\"imagelayer\"/><g class=\"shapelayer\"/></g><g class=\"cartesianlayer\"><g class=\"subplot xy\"><g class=\"layer-subplot\"><g class=\"shapelayer\"/><g class=\"imagelayer\"/></g><g class=\"gridlayer\"><g class=\"x\"><path class=\"xgrid crisp\" transform=\"translate(173.95,0)\" d=\"M0,60v390\" style=\"stroke: rgb(229, 229, 229); stroke-opacity: 1; stroke-width: 1px;\"/><path class=\"xgrid crisp\" transform=\"translate(304.43,0)\" d=\"M0,60v390\" style=\"stroke: rgb(229, 229, 229); stroke-opacity: 1; stroke-width: 1px;\"/><path class=\"xgrid crisp\" transform=\"translate(434.9,0)\" d=\"M0,60v390\" style=\"stroke: rgb(229, 229, 229); stroke-opacity: 1; stroke-width: 1px;\"/></g><g class=\"y\"><path class=\"ygrid crisp\" transform=\"translate(0,434.48)\" d=\"M50,0h411\" style=\"stroke: rgb(229, 229, 229); stroke-opacity: 1; stroke-width: 1px;\"/><path class=\"ygrid crisp\" transform=\"translate(0,393.74)\" d=\"M50,0h411\" style=\"stroke: rgb(229, 229, 229); stroke-opacity: 1; stroke-width: 1px;\"/><path class=\"ygrid crisp\" transform=\"translate(0,353)\" d=\"M50,0h411\" style=\"stroke: rgb(229, 229, 229); stroke-opacity: 1; stroke-width: 1px;\"/><path class=\"ygrid crisp\" transform=\"translate(0,312.26)\" d=\"M50,0h411\" style=\"stroke: rgb(229, 229, 229); stroke-opacity: 1; stroke-width: 1px;\"/><path class=\"ygrid crisp\" transform=\"translate(0,271.52)\" d=\"M50,0h411\" style=\"stroke: rgb(229, 229, 229); stroke-opacity: 1; stroke-width: 1px;\"/><path class=\"ygrid crisp\" transform=\"translate(0,230.78)\" d=\"M50,0h411\" style=\"stroke: rgb(229, 229, 229); stroke-opacity: 1; stroke-width: 1px;\"/><path class=\"ygrid crisp\" transform=\"translate(0,190.04)\" d=\"M50,0h411\" style=\"stroke: rgb(229, 229, 229); stroke-opacity: 1; stroke-width: 1px;\"/><path class=\"ygrid crisp\" transform=\"translate(0,149.3)\" d=\"M50,0h411\" style=\"stroke: rgb(229, 229, 229); stroke-opacity: 1; stroke-width: 1px;\"/><path class=\"ygrid crisp\" transform=\"translate(0,108.56)\" d=\"M50,0h411\" style=\"stroke: rgb(229, 229, 229); stroke-opacity: 1; stroke-width: 1px;\"/><path class=\"ygrid crisp\" transform=\"translate(0,67.82)\" d=\"M50,0h411\" style=\"stroke: rgb(229, 229, 229); stroke-opacity: 1; stroke-width: 1px;\"/></g></g><g class=\"zerolinelayer\"/><path class=\"xlines-below\"/><path class=\"ylines-below\"/><g class=\"overlines-below\"/><g class=\"xaxislayer-below\"/><g class=\"yaxislayer-below\"/><g class=\"overaxes-below\"/><g class=\"plot\" transform=\"translate(50,60)\" clip-path=\"url('#clip1ed261xyplot')\"><g class=\"scatterlayer mlayer\"><g class=\"trace scatter traced1b023\" style=\"stroke-miterlimit: 2; opacity: 1;\"><g class=\"fills\"/><g class=\"errorbars\"/><g class=\"lines\"><path class=\"js-line\" d=\"M0,370.15L6.52,367.39L13.05,365.5L19.57,363L26.1,352.81L32.62,345.92L39.14,353.13L45.67,335.01L52.19,323.1L58.71,318.9L65.24,316.5L71.76,307.18L78.29,316.85L84.81,297.04L91.33,296.26L97.86,281.66L104.38,291.51L110.9,282.07L117.43,268.63L123.95,260.65L130.48,259.64L137,249.58L143.52,248.97L156.57,233.06L163.1,234.04L169.62,218.78L176.14,215.09L182.67,210.52L189.19,193.97L195.71,203.6L202.24,203.44L208.76,190.81L215.29,180.5L221.81,166.48L228.33,169.95L234.86,163.74L241.38,153.51L247.9,148.34L254.43,141.9L260.95,134.73L267.48,133.19L274,121.91L280.52,120.51L287.05,110.73L293.57,108.4L300.1,105.05L306.62,105.23L313.14,102.65L319.67,79.55L326.19,78.63L332.71,71.69L339.24,72.65L345.76,68.6L352.29,65.05L358.81,19.5L365.33,51.96L371.86,48.7L378.38,51.7L384.9,48.58L391.43,38.53L397.95,43.24L404.48,37.12L411,37.12\" style=\"vector-effect: non-scaling-stroke; fill: none; stroke: rgb(226, 74, 51); stroke-opacity: 1; stroke-width: 2px; opacity: 1;\"/></g><g class=\"points\"/><g class=\"text\"/></g><g class=\"trace scatter trace5e1714\" style=\"stroke-miterlimit: 2; opacity: 1;\"><g class=\"fills\"/><g class=\"errorbars\"/><g class=\"lines\"><path class=\"js-line\" d=\"M0,370.5L6.52,367.13L13.05,366.82L19.57,352.44L26.1,344.52L32.62,348.28L39.14,335.19L45.67,335.82L52.19,328.97L58.71,338.78L65.24,313.43L71.76,318.73L78.29,309.23L84.81,306.5L91.33,294.16L97.86,284.43L104.38,286.45L110.9,275.81L117.43,262.92L123.95,272.77L130.48,262.76L137,245.71L143.52,250.58L150.05,246.82L156.57,238.07L163.1,243.38L169.62,225.8L176.14,214.52L182.67,210.89L189.19,205L195.71,196.01L202.24,193.01L208.76,198.68L215.29,176.36L221.81,171.51L228.33,160.35L234.86,169.42L247.9,146.59L254.43,149.88L260.95,136.42L267.48,128.57L274,130.86L280.52,115.86L287.05,119.34L293.57,121.39L300.1,94.78L306.62,102.15L313.14,92.29L319.67,85.21L326.19,89.66L332.71,79.41L339.24,71.84L345.76,65.89L352.29,54.3L358.81,33.37L365.33,53.26L371.86,48.59L378.38,51.36L384.9,45.54L391.43,50.2L397.95,49.18L411,48.68\" style=\"vector-effect: non-scaling-stroke; fill: none; stroke: rgb(52, 138, 189); stroke-opacity: 1; stroke-width: 2px; opacity: 1;\"/></g><g class=\"points\"/><g class=\"text\"/></g></g></g><g class=\"overplot\"/><path class=\"xlines-above crisp\" d=\"M49,450.5H462M49,59.5H462\" style=\"fill: none; stroke-width: 1px; stroke: rgb(0, 0, 0); stroke-opacity: 1;\"/><path class=\"ylines-above crisp\" d=\"M49.5,60V450M461.5,60V450\" style=\"fill: none; stroke-width: 1px; stroke: rgb(0, 0, 0); stroke-opacity: 1;\"/><g class=\"overlines-above\"/><g class=\"xaxislayer-above\"><path class=\"xtick ticks crisp\" d=\"M0,450v-5\" transform=\"translate(173.95,0)\" style=\"stroke: rgb(68, 68, 68); stroke-opacity: 1; stroke-width: 1px;\"/><path class=\"xtick ticks crisp\" d=\"M0,450v-5\" transform=\"translate(304.43,0)\" style=\"stroke: rgb(68, 68, 68); stroke-opacity: 1; stroke-width: 1px;\"/><path class=\"xtick ticks crisp\" d=\"M0,450v-5\" transform=\"translate(434.9,0)\" style=\"stroke: rgb(68, 68, 68); stroke-opacity: 1; stroke-width: 1px;\"/><g class=\"xtick\"><text text-anchor=\"middle\" x=\"0\" y=\"470.2\" transform=\"translate(173.95,0)\" style=\"font-family: 'Open Sans', verdana, arial, sans-serif; font-size: 16px; fill: rgb(68, 68, 68); fill-opacity: 1; white-space: pre;\">20</text></g><g class=\"xtick\"><text text-anchor=\"middle\" x=\"0\" y=\"470.2\" transform=\"translate(304.43,0)\" style=\"font-family: 'Open Sans', verdana, arial, sans-serif; font-size: 16px; fill: rgb(68, 68, 68); fill-opacity: 1; white-space: pre;\">40</text></g><g class=\"xtick\"><text text-anchor=\"middle\" x=\"0\" y=\"470.2\" transform=\"translate(434.9,0)\" style=\"font-family: 'Open Sans', verdana, arial, sans-serif; font-size: 16px; fill: rgb(68, 68, 68); fill-opacity: 1; white-space: pre;\">60</text></g></g><g class=\"yaxislayer-above\"><path class=\"ytick ticks crisp\" d=\"M50,0h5\" transform=\"translate(0,434.48)\" style=\"stroke: rgb(68, 68, 68); stroke-opacity: 1; stroke-width: 1px;\"/><path class=\"ytick ticks crisp\" d=\"M50,0h5\" transform=\"translate(0,393.74)\" style=\"stroke: rgb(68, 68, 68); stroke-opacity: 1; stroke-width: 1px;\"/><path class=\"ytick ticks crisp\" d=\"M50,0h5\" transform=\"translate(0,353)\" style=\"stroke: rgb(68, 68, 68); stroke-opacity: 1; stroke-width: 1px;\"/><path class=\"ytick ticks crisp\" d=\"M50,0h5\" transform=\"translate(0,312.26)\" style=\"stroke: rgb(68, 68, 68); stroke-opacity: 1; stroke-width: 1px;\"/><path class=\"ytick ticks crisp\" d=\"M50,0h5\" transform=\"translate(0,271.52)\" style=\"stroke: rgb(68, 68, 68); stroke-opacity: 1; stroke-width: 1px;\"/><path class=\"ytick ticks crisp\" d=\"M50,0h5\" transform=\"translate(0,230.78)\" style=\"stroke: rgb(68, 68, 68); stroke-opacity: 1; stroke-width: 1px;\"/><path class=\"ytick ticks crisp\" d=\"M50,0h5\" transform=\"translate(0,190.04)\" style=\"stroke: rgb(68, 68, 68); stroke-opacity: 1; stroke-width: 1px;\"/><path class=\"ytick ticks crisp\" d=\"M50,0h5\" transform=\"translate(0,149.3)\" style=\"stroke: rgb(68, 68, 68); stroke-opacity: 1; stroke-width: 1px;\"/><path class=\"ytick ticks crisp\" d=\"M50,0h5\" transform=\"translate(0,108.56)\" style=\"stroke: rgb(68, 68, 68); stroke-opacity: 1; stroke-width: 1px;\"/><path class=\"ytick ticks crisp\" d=\"M50,0h5\" transform=\"translate(0,67.82)\" style=\"stroke: rgb(68, 68, 68); stroke-opacity: 1; stroke-width: 1px;\"/><g class=\"ytick\"><text text-anchor=\"end\" x=\"45.8\" y=\"7\" transform=\"translate(0,434.48)\" style=\"font-family: 'Open Sans', verdana, arial, sans-serif; font-size: 20px; fill: rgb(68, 68, 68); fill-opacity: 1; white-space: pre;\">10​<tspan style=\"font-size:70%\" dy=\"-0.6em\">−16</tspan><tspan dy=\"0.42em\">​</tspan></text></g><g class=\"ytick\"><text text-anchor=\"end\" x=\"45.8\" y=\"5.6\" transform=\"translate(0,393.74)\" style=\"font-family: 'Open Sans', verdana, arial, sans-serif; font-size: 16px; fill: rgb(68, 68, 68); fill-opacity: 1; white-space: pre;\">10f</text></g><g class=\"ytick\"><text text-anchor=\"end\" x=\"45.8\" y=\"5.6\" transform=\"translate(0,353)\" style=\"font-family: 'Open Sans', verdana, arial, sans-serif; font-size: 16px; fill: rgb(68, 68, 68); fill-opacity: 1; white-space: pre;\">1p</text></g><g class=\"ytick\"><text text-anchor=\"end\" x=\"45.8\" y=\"5.6\" transform=\"translate(0,312.26)\" style=\"font-family: 'Open Sans', verdana, arial, sans-serif; font-size: 16px; fill: rgb(68, 68, 68); fill-opacity: 1; white-space: pre;\">100p</text></g><g class=\"ytick\"><text text-anchor=\"end\" x=\"45.8\" y=\"5.6\" transform=\"translate(0,271.52)\" style=\"font-family: 'Open Sans', verdana, arial, sans-serif; font-size: 16px; fill: rgb(68, 68, 68); fill-opacity: 1; white-space: pre;\">10n</text></g><g class=\"ytick\"><text text-anchor=\"end\" x=\"45.8\" y=\"5.6\" transform=\"translate(0,230.78)\" style=\"font-family: 'Open Sans', verdana, arial, sans-serif; font-size: 16px; fill: rgb(68, 68, 68); fill-opacity: 1; white-space: pre;\">1μ</text></g><g class=\"ytick\"><text text-anchor=\"end\" x=\"45.8\" y=\"5.6\" transform=\"translate(0,190.04)\" style=\"font-family: 'Open Sans', verdana, arial, sans-serif; font-size: 16px; fill: rgb(68, 68, 68); fill-opacity: 1; white-space: pre;\">100μ</text></g><g class=\"ytick\"><text text-anchor=\"end\" x=\"45.8\" y=\"5.6\" transform=\"translate(0,149.3)\" style=\"font-family: 'Open Sans', verdana, arial, sans-serif; font-size: 16px; fill: rgb(68, 68, 68); fill-opacity: 1; white-space: pre;\">0.01</text></g><g class=\"ytick\"><text text-anchor=\"end\" x=\"45.8\" y=\"5.6\" transform=\"translate(0,108.56)\" style=\"font-family: 'Open Sans', verdana, arial, sans-serif; font-size: 16px; fill: rgb(68, 68, 68); fill-opacity: 1; white-space: pre;\">1</text></g><g class=\"ytick\"><text text-anchor=\"end\" x=\"45.8\" y=\"5.6\" transform=\"translate(0,67.82)\" style=\"font-family: 'Open Sans', verdana, arial, sans-serif; font-size: 16px; fill: rgb(68, 68, 68); fill-opacity: 1; white-space: pre;\">100</text></g></g><g class=\"overaxes-above\"/></g></g><g class=\"polarlayer\"/><g class=\"ternarylayer\"/><g class=\"geolayer\"/><g class=\"funnelarealayer\"/><g class=\"pielayer\"/><g class=\"treemaplayer\"/><g class=\"sunburstlayer\"/><g class=\"glimages\"/><defs id=\"topdefs-1ed261\"><g class=\"clips\"/><clipPath id=\"legend1ed261\"><rect width=\"219\" height=\"58\" x=\"0\" y=\"0\"/></clipPath></defs><g class=\"layer-above\"><g class=\"imagelayer\"/><g class=\"shapelayer\"/></g><g class=\"infolayer\"><g class=\"legend\" pointer-events=\"all\" transform=\"translate(469.22,60)\"><rect class=\"bg\" shape-rendering=\"crispEdges\" style=\"stroke: rgb(68, 68, 68); stroke-opacity: 1; fill: rgb(255, 255, 255); fill-opacity: 1; stroke-width: 0px;\" width=\"219\" height=\"58\" x=\"0\" y=\"0\"/><g class=\"scrollbox\" transform=\"\" clip-path=\"url('#legend1ed261')\"><g class=\"groups\"><g class=\"traces\" transform=\"translate(0,16.9)\" style=\"opacity: 1;\"><text class=\"legendtext\" text-anchor=\"start\" x=\"40\" y=\"6.24\" style=\"font-family: 'Open Sans', verdana, arial, sans-serif; font-size: 16px; fill: rgb(68, 68, 68); fill-opacity: 1; white-space: pre;\">Pivoted LU</text><g class=\"layers\" style=\"opacity: 1;\"><g class=\"legendfill\"/><g class=\"legendlines\"><path class=\"js-line\" d=\"M5,0h30\" style=\"fill: none; stroke: rgb(226, 74, 51); stroke-opacity: 1; stroke-width: 2px;\"/></g><g class=\"legendsymbols\"><g class=\"legendpoints\"/></g></g><rect class=\"legendtoggle\" x=\"0\" y=\"-11.9\" width=\"213.71875\" height=\"23.8\" style=\"fill: rgb(0, 0, 0); fill-opacity: 0;\"/></g><g class=\"traces\" transform=\"translate(0,40.7)\" style=\"opacity: 1;\"><text class=\"legendtext\" text-anchor=\"start\" x=\"40\" y=\"6.24\" style=\"font-family: 'Open Sans', verdana, arial, sans-serif; font-size: 16px; fill: rgb(68, 68, 68); fill-opacity: 1; white-space: pre;\">Perturbed Input using \\</text><g class=\"layers\" style=\"opacity: 1;\"><g class=\"legendfill\"/><g class=\"legendlines\"><path class=\"js-line\" d=\"M5,0h30\" style=\"fill: none; stroke: rgb(52, 138, 189); stroke-opacity: 1; stroke-width: 2px;\"/></g><g class=\"legendsymbols\"><g class=\"legendpoints\"/></g></g><rect class=\"legendtoggle\" x=\"0\" y=\"-11.9\" width=\"213.71875\" height=\"23.8\" style=\"fill: rgb(0, 0, 0); fill-opacity: 0;\"/></g></g></g><rect class=\"scrollbar\" rx=\"20\" ry=\"3\" width=\"0\" height=\"0\" style=\"fill: rgb(128, 139, 164); fill-opacity: 1;\" x=\"0\" y=\"0\"/></g><g class=\"g-gtitle\"/><g class=\"g-xtitle\" transform=\"translate(0,-19.5)\"><text class=\"xtitle\" x=\"255.5\" y=\"514\" text-anchor=\"middle\" style=\"font-family: 'Open Sans', verdana, arial, sans-serif; font-size: 18px; fill: rgb(85, 85, 85); opacity: 1; font-weight: normal; white-space: pre;\">Matrix index</text></g><g class=\"g-ytitle\" transform=\"translate(15,0)\"><text class=\"ytitle\" transform=\"rotate(-90,4,255)\" x=\"4\" y=\"255\" text-anchor=\"middle\" style=\"font-family: 'Open Sans', verdana, arial, sans-serif; font-size: 18px; fill: rgb(85, 85, 85); opacity: 1; font-weight: normal; white-space: pre;\">Error</text></g></g></svg>"
      ],
      "text/html": [
       "<div\n",
       "    class=\"webio-mountpoint\"\n",
       "    data-webio-mountpoint=\"7622772381555501895\"\n",
       ">\n",
       "    <script>\n",
       "    if (window.require && require.defined && require.defined(\"nbextensions/webio-jupyter-notebook\")) {\n",
       "        console.log(\"Jupyter WebIO extension detected, not mounting.\");\n",
       "    } else if (window.WebIO) {\n",
       "        WebIO.mount(\n",
       "            document.querySelector('[data-webio-mountpoint=\"7622772381555501895\"]'),\n",
       "            {\"props\":{},\"nodeType\":\"Scope\",\"type\":\"node\",\"instanceArgs\":{\"imports\":{\"data\":[{\"name\":\"Plotly\",\"type\":\"js\",\"url\":\"\\/assetserver\\/57533c5d787f8bc76a9e58ed0a1abce5f1b0c14d-plotly-latest.min.js\"},{\"name\":null,\"type\":\"js\",\"url\":\"\\/assetserver\\/58a7932c57029f7dbaa4105104076ff149fc7585-plotly_webio.bundle.js\"}],\"type\":\"async_block\"},\"id\":\"5278077778357384560\",\"handlers\":{\"_toImage\":[\"(function (options){return this.Plotly.toImage(this.plotElem,options).then((function (data){return WebIO.setval({\\\"name\\\":\\\"image\\\",\\\"scope\\\":\\\"5278077778357384560\\\",\\\"id\\\":\\\"15416808286876596106\\\",\\\"type\\\":\\\"observable\\\"},data)}))})\"],\"__get_gd_contents\":[\"(function (prop){prop==\\\"data\\\" ? (WebIO.setval({\\\"name\\\":\\\"__gd_contents\\\",\\\"scope\\\":\\\"5278077778357384560\\\",\\\"id\\\":\\\"760861565095859068\\\",\\\"type\\\":\\\"observable\\\"},this.plotElem.data)) : undefined; return prop==\\\"layout\\\" ? (WebIO.setval({\\\"name\\\":\\\"__gd_contents\\\",\\\"scope\\\":\\\"5278077778357384560\\\",\\\"id\\\":\\\"760861565095859068\\\",\\\"type\\\":\\\"observable\\\"},this.plotElem.layout)) : undefined})\"],\"_downloadImage\":[\"(function (options){return this.Plotly.downloadImage(this.plotElem,options)})\"],\"_commands\":[\"(function (args){var fn=args.shift(); var elem=this.plotElem; var Plotly=this.Plotly; args.unshift(elem); return Plotly[fn].apply(this,args)})\"]},\"systemjs_options\":null,\"mount_callbacks\":[\"function () {\\n    var handler = ((function (Plotly,PlotlyWebIO){PlotlyWebIO.init(WebIO); var gd=this.dom.querySelector(\\\"#plot-74b6f575-8c64-42e3-a9c9-871806462b47\\\"); this.plotElem=gd; this.Plotly=Plotly; (window.Blink!==undefined) ? (gd.style.width=\\\"100%\\\", gd.style.height=\\\"100vh\\\", gd.style.marginLeft=\\\"0%\\\", gd.style.marginTop=\\\"0vh\\\") : undefined; window.onresize=(function (){return Plotly.Plots.resize(gd)}); Plotly.newPlot(gd,[{\\\"marker\\\":{\\\"color\\\":\\\"#E24A33\\\",\\\"line\\\":{\\\"color\\\":\\\"#348ABD\\\",\\\"width\\\":0.5},\\\"size\\\":10},\\\"y\\\":[1.6308464073332385e-16,2.2290860476396834e-16,2.7596684363927805e-16,3.6612449677180556e-16,1.1585015213152166e-15,2.5242103028159845e-15,1.1165752379977704e-15,8.6591332665757e-15,3.328399046246317e-14,5.350399131842787e-14,7.019523168994511e-14,2.0123598158492958e-13,6.748623245669039e-14,6.334084071210737e-13,6.918358834318195e-13,3.6016178485560776e-12,1.1826251060286137e-12,3.4374193598189753e-12,1.5705191316159975e-11,3.872365226616377e-11,4.339615233291713e-11,1.3539164199922182e-10,1.4506976923259214e-10,3.471148052360221e-10,8.757162632416971e-10,7.841185638058429e-10,4.4012647770585155e-9,6.674588961333338e-9,1.1188185646439705e-8,7.268073659719895e-8,2.447024307416608e-8,2.4931857677168055e-8,1.0392796001605579e-7,3.331325005916008e-7,1.6263343885882428e-6,1.0981622429587358e-6,2.2154472296983796e-6,7.042975999746181e-6,1.2636712628617928e-5,2.6159826185391766e-5,5.88139483515364e-5,7.00388542511499e-5,0.0002505403640299289,0.0002936739524513159,0.0008869497627753086,0.0011538947838114252,0.0016854900314547928,0.0016520463424371228,0.0022114983097998287,0.030101381115995918,0.033388005691029614,0.07320244385970487,0.0656253447397489,0.10378377465156113,0.15510216113340247,26.701961622633398,0.6808909467761759,0.9845646876121715,0.7013218992079518,0.9981351174675389,3.1051462341681515,1.8242164288947846,3.6440927215817167,3.6440927215817167],\\\"type\\\":\\\"scatter\\\",\\\"name\\\":\\\"Pivoted LU\\\",\\\"x\\\":[1,2,3,4,5,6,7,8,9,10,11,12,13,14,15,16,17,18,19,20,21,22,23,24,25,26,27,28,29,30,31,32,33,34,35,36,37,38,39,40,41,42,43,44,45,46,47,48,49,50,51,52,53,54,55,56,57,58,59,60,61,62,63,64]},{\\\"marker\\\":{\\\"color\\\":\\\"#348ABD\\\",\\\"line\\\":{\\\"color\\\":\\\"#348ABD\\\",\\\"width\\\":0.5},\\\"size\\\":10},\\\"y\\\":[1.567743217661972e-16,2.2954445548235883e-16,2.3770267963012265e-16,1.2074858958655283e-15,2.9569333112912303e-15,1.9330455811597487e-15,8.483447385232801e-15,7.904246906718625e-15,1.7151412358651426e-14,5.6563967617890395e-15,9.935130963825147e-14,5.457320583088294e-14,1.5968046224171863e-13,2.1740686794242973e-13,8.765104906703445e-13,2.633491733930976e-12,2.0967023117117044e-12,6.975212654239094e-12,2.9977873101381714e-11,9.84314806193031e-12,3.050337715357928e-11,2.0971454109524049e-10,1.2088527623917555e-10,1.848432149014071e-10,4.969135472799552e-10,2.7265890862011087e-10,1.989447646874491e-9,7.1221845036020946e-9,1.073026449382702e-8,2.088732715124757e-8,5.7697137824144474e-8,8.100002213459286e-8,4.267713485599006e-8,5.320656840350253e-7,9.210755854468256e-7,3.2512287453888884e-6,1.1661238438850337e-6,4.354371013906911e-6,1.5395723003923296e-5,1.0613807199007187e-5,4.858359945007033e-5,0.00011803277061386991,9.109955001262722e-5,0.0004968920610934548,0.00033516789472532094,0.0002656932585522314,0.005378511816532997,0.0023392695471538077,0.007129956426817411,0.01588031001239588,0.009598497619790943,0.030575853501809906,0.07195133124251442,0.1409610849013294,0.5225360846869289,5.564273513636185,0.58743996899084,0.996210489889855,0.7282169139052798,1.4073869304225823,0.8309991938519581,0.932502699040159,0.9859845461556817,0.9859845461556817],\\\"type\\\":\\\"scatter\\\",\\\"name\\\":\\\"Perturbed Input using \\\\\\\\\\\",\\\"x\\\":[1,2,3,4,5,6,7,8,9,10,11,12,13,14,15,16,17,18,19,20,21,22,23,24,25,26,27,28,29,30,31,32,33,34,35,36,37,38,39,40,41,42,43,44,45,46,47,48,49,50,51,52,53,54,55,56,57,58,59,60,61,62,63,64]}],{\\\"xaxis\\\":{\\\"showgrid\\\":true,\\\"gridcolor\\\":\\\"#E5E5E5\\\",\\\"titlefont\\\":{\\\"color\\\":\\\"#555555\\\",\\\"size\\\":18},\\\"zeroline\\\":false,\\\"ticks\\\":\\\"inside\\\",\\\"title\\\":\\\"Matrix index\\\",\\\"linewidth\\\":1.0,\\\"mirror\\\":true,\\\"linecolor\\\":\\\"black\\\"},\\\"titlefont\\\":{\\\"size\\\":18},\\\"font\\\":{\\\"size\\\":16},\\\"height\\\":350,\\\"margin\\\":{\\\"l\\\":50,\\\"b\\\":50,\\\"r\\\":50,\\\"t\\\":60},\\\"yaxis\\\":{\\\"showgrid\\\":true,\\\"gridcolor\\\":\\\"#E5E5E5\\\",\\\"titlefont\\\":{\\\"color\\\":\\\"#555555\\\",\\\"size\\\":18},\\\"zeroline\\\":false,\\\"type\\\":\\\"log\\\",\\\"ticks\\\":\\\"inside\\\",\\\"title\\\":\\\"Error\\\",\\\"linewidth\\\":1.0,\\\"mirror\\\":true,\\\"linecolor\\\":\\\"black\\\"},\\\"width\\\":580},{}); gd.on(\\\"plotly_hover\\\",(function (data){var filtered_data=WebIO.PlotlyCommands.filterEventData(gd,data,\\\"hover\\\"); return !(filtered_data.isnil) ? (WebIO.setval({\\\"name\\\":\\\"hover\\\",\\\"scope\\\":\\\"5278077778357384560\\\",\\\"id\\\":\\\"1051237820860919397\\\",\\\"type\\\":\\\"observable\\\"},filtered_data.out)) : undefined})); gd.on(\\\"plotly_unhover\\\",(function (){return WebIO.setval({\\\"name\\\":\\\"hover\\\",\\\"scope\\\":\\\"5278077778357384560\\\",\\\"id\\\":\\\"1051237820860919397\\\",\\\"type\\\":\\\"observable\\\"},{})})); gd.on(\\\"plotly_selected\\\",(function (data){var filtered_data=WebIO.PlotlyCommands.filterEventData(gd,data,\\\"selected\\\"); return !(filtered_data.isnil) ? (WebIO.setval({\\\"name\\\":\\\"selected\\\",\\\"scope\\\":\\\"5278077778357384560\\\",\\\"id\\\":\\\"14656831574595637452\\\",\\\"type\\\":\\\"observable\\\"},filtered_data.out)) : undefined})); gd.on(\\\"plotly_deselect\\\",(function (){return WebIO.setval({\\\"name\\\":\\\"selected\\\",\\\"scope\\\":\\\"5278077778357384560\\\",\\\"id\\\":\\\"14656831574595637452\\\",\\\"type\\\":\\\"observable\\\"},{})})); gd.on(\\\"plotly_relayout\\\",(function (data){var filtered_data=WebIO.PlotlyCommands.filterEventData(gd,data,\\\"relayout\\\"); return !(filtered_data.isnil) ? (WebIO.setval({\\\"name\\\":\\\"relayout\\\",\\\"scope\\\":\\\"5278077778357384560\\\",\\\"id\\\":\\\"6152169145513198083\\\",\\\"type\\\":\\\"observable\\\"},filtered_data.out)) : undefined})); return gd.on(\\\"plotly_click\\\",(function (data){var filtered_data=WebIO.PlotlyCommands.filterEventData(gd,data,\\\"click\\\"); return !(filtered_data.isnil) ? (WebIO.setval({\\\"name\\\":\\\"click\\\",\\\"scope\\\":\\\"5278077778357384560\\\",\\\"id\\\":\\\"12780719648998816350\\\",\\\"type\\\":\\\"observable\\\"},filtered_data.out)) : undefined}))}));\\n    (WebIO.importBlock({\\\"data\\\":[{\\\"name\\\":\\\"Plotly\\\",\\\"type\\\":\\\"js\\\",\\\"url\\\":\\\"\\/assetserver\\/57533c5d787f8bc76a9e58ed0a1abce5f1b0c14d-plotly-latest.min.js\\\"},{\\\"name\\\":null,\\\"type\\\":\\\"js\\\",\\\"url\\\":\\\"\\/assetserver\\/58a7932c57029f7dbaa4105104076ff149fc7585-plotly_webio.bundle.js\\\"}],\\\"type\\\":\\\"async_block\\\"})).then((imports) => handler.apply(this, imports));\\n}\\n\"],\"observables\":{\"_toImage\":{\"sync\":false,\"id\":\"608890310536591854\",\"value\":{}},\"hover\":{\"sync\":false,\"id\":\"1051237820860919397\",\"value\":{}},\"selected\":{\"sync\":false,\"id\":\"14656831574595637452\",\"value\":{}},\"__gd_contents\":{\"sync\":false,\"id\":\"760861565095859068\",\"value\":{}},\"click\":{\"sync\":false,\"id\":\"12780719648998816350\",\"value\":{}},\"image\":{\"sync\":true,\"id\":\"15416808286876596106\",\"value\":\"\"},\"__get_gd_contents\":{\"sync\":false,\"id\":\"3745673686121064190\",\"value\":\"\"},\"_downloadImage\":{\"sync\":false,\"id\":\"8360989445836502355\",\"value\":{}},\"relayout\":{\"sync\":false,\"id\":\"6152169145513198083\",\"value\":{}},\"_commands\":{\"sync\":false,\"id\":\"14756831826475527790\",\"value\":[]}}},\"children\":[{\"props\":{\"id\":\"plot-74b6f575-8c64-42e3-a9c9-871806462b47\"},\"nodeType\":\"DOM\",\"type\":\"node\",\"instanceArgs\":{\"namespace\":\"html\",\"tag\":\"div\"},\"children\":[]}]},\n",
       "            window,\n",
       "        );\n",
       "    } else {\n",
       "        document\n",
       "            .querySelector('[data-webio-mountpoint=\"7622772381555501895\"]')\n",
       "            .innerHTML = (\n",
       "                '<div style=\"padding: 1em; background-color: #f8d6da; border: 1px solid #f5c6cb\">' +\n",
       "                '<p><strong>WebIO not detected.</strong></p>' +\n",
       "                '<p>Please read ' +\n",
       "                '<a href=\"https://juliagizmos.github.io/WebIO.jl/latest/troubleshooting/not-detected/\" target=\"_blank\">the troubleshooting guide</a> ' +\n",
       "                'for more information on how to resolve this issue.</p>' +\n",
       "                '<p><a href=\"https://juliagizmos.github.io/WebIO.jl/latest/troubleshooting/not-detected/\" target=\"_blank\">https://juliagizmos.github.io/WebIO.jl/latest/troubleshooting/not-detected/</a></p>' +\n",
       "                '</div>'\n",
       "            );\n",
       "    }\n",
       "    </script>\n",
       "</div>\n"
      ],
      "text/plain": [
       "data: [\n",
       "  \"scatter with fields marker, name, type, x, and y\",\n",
       "  \"scatter with fields marker, name, type, x, and y\"\n",
       "]\n",
       "\n",
       "layout: \"layout with fields font, height, margin, titlefont, width, xaxis, and yaxis\"\n",
       "\n"
      ]
     },
     "execution_count": 10,
     "metadata": {
      "application/vnd.webio.node+json": {
       "kernelId": "0cf9b5aa-52ac-4eb3-99dc-0cb6568d6b08"
      }
     },
     "output_type": "execute_result"
    }
   ],
   "source": [
    "# Re-run all cells to get the plot below\n",
    "t1 = scatter(x=1:n,y=e[1,:],name=\"Pivoted LU\")\n",
    "t2 = scatter(x=1:n,y=e[2,:],name=\"Perturbed Input using \\\\\")\n",
    "l = Layout(yaxis_type=\"log\",xaxis_title=\"Matrix index\",yaxis_title=\"Error\",\n",
    "    height=350,width=580)\n",
    "p = plot([t1, t2],l)"
   ]
  },
  {
   "cell_type": "code",
   "execution_count": 11,
   "metadata": {},
   "outputs": [],
   "source": [
    "if output\n",
    "    plotToPDF(p,\"fig_lu1\")\n",
    "end"
   ]
  }
 ],
 "metadata": {
  "@webio": {
   "lastCommId": "6e674fa9be3b470db3f7fa56f5cf828c",
   "lastKernelId": "0cf9b5aa-52ac-4eb3-99dc-0cb6568d6b08"
  },
  "kernelspec": {
   "display_name": "Julia 1.5.1",
   "language": "julia",
   "name": "julia-1.5"
  },
  "language_info": {
   "file_extension": ".jl",
   "mimetype": "application/julia",
   "name": "julia",
   "version": "1.5.4"
  }
 },
 "nbformat": 4,
 "nbformat_minor": 4
}
