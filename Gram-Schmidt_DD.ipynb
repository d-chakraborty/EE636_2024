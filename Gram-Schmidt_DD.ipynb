{
 "cells": [
  {
   "cell_type": "code",
   "execution_count": 1,
   "id": "6331accd",
   "metadata": {},
   "outputs": [],
   "source": [
    "using Random\n",
    "using LinearAlgebra\n",
    "rng = MersenneTwister(2018)\n",
    "import LinearAlgebra.dot\n",
    "import LinearAlgebra.norm\n",
    "import LinearAlgebra.triu\n",
    "import LinearAlgebra.diag\n",
    "using Printf\n",
    ";"
   ]
  },
  {
   "cell_type": "code",
   "execution_count": 2,
   "id": "94440ad6",
   "metadata": {},
   "outputs": [
    {
     "data": {
      "text/plain": [
       "4×3 Matrix{Float64}:\n",
       " 1.0      1.0      1.0\n",
       " 1.0e-10  0.0      0.0\n",
       " 0.0      1.0e-10  0.0\n",
       " 0.0      0.0      1.0e-10"
      ]
     },
     "execution_count": 2,
     "metadata": {},
     "output_type": "execute_result"
    }
   ],
   "source": [
    "#A = [2 -4 5; 2 1 -3; 1 2 -6]\n",
    "#A = [2 -1 4; 3 4 -2; 1 4 2; -4 -1 3]\n",
    "#A = [1 3; 1 2]\n",
    "ϵ = 10^-10\n",
    "A = [1 1 1; ϵ 0 0; 0 ϵ 0; 0 0 ϵ]\n",
    "A = float(A)\n",
    "A0 = copy(A)\n",
    "B0 = copy(A)\n",
    "C0 = copy(A)"
   ]
  },
  {
   "cell_type": "code",
   "execution_count": 3,
   "id": "863e10de",
   "metadata": {
    "scrolled": false
   },
   "outputs": [
    {
     "data": {
      "text/plain": [
       "\"j=\""
      ]
     },
     "metadata": {},
     "output_type": "display_data"
    },
    {
     "data": {
      "text/plain": [
       "1"
      ]
     },
     "metadata": {},
     "output_type": "display_data"
    },
    {
     "data": {
      "text/plain": [
       "\"Orthogonal columns of A before Normalization\""
      ]
     },
     "metadata": {},
     "output_type": "display_data"
    },
    {
     "data": {
      "text/plain": [
       "4×3 Matrix{Float64}:\n",
       " 1.0      1.0      1.0\n",
       " 1.0e-10  0.0      0.0\n",
       " 0.0      1.0e-10  0.0\n",
       " 0.0      0.0      1.0e-10"
      ]
     },
     "metadata": {},
     "output_type": "display_data"
    },
    {
     "data": {
      "text/plain": [
       "\"Matrix R\""
      ]
     },
     "metadata": {},
     "output_type": "display_data"
    },
    {
     "data": {
      "text/plain": [
       "3×3 Matrix{Float64}:\n",
       " 1.0  0.0  0.0\n",
       " 0.0  0.0  0.0\n",
       " 0.0  0.0  0.0"
      ]
     },
     "metadata": {},
     "output_type": "display_data"
    },
    {
     "data": {
      "text/plain": [
       "\"Orthogonal columns of A after Normalization\""
      ]
     },
     "metadata": {},
     "output_type": "display_data"
    },
    {
     "data": {
      "text/plain": [
       "4×3 Matrix{Float64}:\n",
       " 1.0      1.0      1.0\n",
       " 1.0e-10  0.0      0.0\n",
       " 0.0      1.0e-10  0.0\n",
       " 0.0      0.0      1.0e-10"
      ]
     },
     "metadata": {},
     "output_type": "display_data"
    },
    {
     "data": {
      "text/plain": [
       "\"j=\""
      ]
     },
     "metadata": {},
     "output_type": "display_data"
    },
    {
     "data": {
      "text/plain": [
       "2"
      ]
     },
     "metadata": {},
     "output_type": "display_data"
    },
    {
     "data": {
      "text/plain": [
       "\"Orthogonal columns of A before Normalization\""
      ]
     },
     "metadata": {},
     "output_type": "display_data"
    },
    {
     "data": {
      "text/plain": [
       "4×3 Matrix{Float64}:\n",
       " 1.0       0.0      1.0\n",
       " 1.0e-10  -1.0e-10  0.0\n",
       " 0.0       1.0e-10  0.0\n",
       " 0.0       0.0      1.0e-10"
      ]
     },
     "metadata": {},
     "output_type": "display_data"
    },
    {
     "data": {
      "text/plain": [
       "\"Matrix R\""
      ]
     },
     "metadata": {},
     "output_type": "display_data"
    },
    {
     "data": {
      "text/plain": [
       "3×3 Matrix{Float64}:\n",
       " 1.0  1.0          0.0\n",
       " 0.0  1.41421e-10  0.0\n",
       " 0.0  0.0          0.0"
      ]
     },
     "metadata": {},
     "output_type": "display_data"
    },
    {
     "data": {
      "text/plain": [
       "\"Orthogonal columns of A after Normalization\""
      ]
     },
     "metadata": {},
     "output_type": "display_data"
    },
    {
     "data": {
      "text/plain": [
       "4×3 Matrix{Float64}:\n",
       " 1.0       0.0       1.0\n",
       " 1.0e-10  -0.707107  0.0\n",
       " 0.0       0.707107  0.0\n",
       " 0.0       0.0       1.0e-10"
      ]
     },
     "metadata": {},
     "output_type": "display_data"
    },
    {
     "data": {
      "text/plain": [
       "\"j=\""
      ]
     },
     "metadata": {},
     "output_type": "display_data"
    },
    {
     "data": {
      "text/plain": [
       "3"
      ]
     },
     "metadata": {},
     "output_type": "display_data"
    },
    {
     "data": {
      "text/plain": [
       "\"Orthogonal columns of A before Normalization\""
      ]
     },
     "metadata": {},
     "output_type": "display_data"
    },
    {
     "data": {
      "text/plain": [
       "4×3 Matrix{Float64}:\n",
       " 1.0       0.0        0.0\n",
       " 1.0e-10  -0.707107  -1.0e-10\n",
       " 0.0       0.707107   0.0\n",
       " 0.0       0.0        1.0e-10"
      ]
     },
     "metadata": {},
     "output_type": "display_data"
    },
    {
     "data": {
      "text/plain": [
       "\"Matrix R\""
      ]
     },
     "metadata": {},
     "output_type": "display_data"
    },
    {
     "data": {
      "text/plain": [
       "3×3 Matrix{Float64}:\n",
       " 1.0  1.0          1.0\n",
       " 0.0  1.41421e-10  0.0\n",
       " 0.0  0.0          1.41421e-10"
      ]
     },
     "metadata": {},
     "output_type": "display_data"
    },
    {
     "data": {
      "text/plain": [
       "\"Orthogonal columns of A after Normalization\""
      ]
     },
     "metadata": {},
     "output_type": "display_data"
    },
    {
     "data": {
      "text/plain": [
       "4×3 Matrix{Float64}:\n",
       " 1.0       0.0        0.0\n",
       " 1.0e-10  -0.707107  -0.707107\n",
       " 0.0       0.707107   0.0\n",
       " 0.0       0.0        0.707107"
      ]
     },
     "metadata": {},
     "output_type": "display_data"
    },
    {
     "data": {
      "text/plain": [
       "\"Q\""
      ]
     },
     "metadata": {},
     "output_type": "display_data"
    },
    {
     "data": {
      "text/plain": [
       "4×3 Matrix{Float64}:\n",
       " 1.0       0.0        0.0\n",
       " 1.0e-10  -0.707107  -0.707107\n",
       " 0.0       0.707107   0.0\n",
       " 0.0       0.0        0.707107"
      ]
     },
     "metadata": {},
     "output_type": "display_data"
    },
    {
     "data": {
      "text/plain": [
       "\"R\""
      ]
     },
     "metadata": {},
     "output_type": "display_data"
    },
    {
     "data": {
      "text/plain": [
       "3×3 Matrix{Float64}:\n",
       " 1.0  1.0          1.0\n",
       " 0.0  1.41421e-10  0.0\n",
       " 0.0  0.0          1.41421e-10"
      ]
     },
     "metadata": {},
     "output_type": "display_data"
    }
   ],
   "source": [
    "# function geqrfCGS!(A)\n",
    "    m = size(A,1)\n",
    "    n = size(A,2)\n",
    "    @assert m >= n\n",
    "    R = zeros(Float64, n,n)\n",
    "    for j=1:n\n",
    "      display(\"j=\")\n",
    "      display(j)\n",
    "        # Orthogonalize\n",
    "        for i=1:j-1, k=1:m\n",
    "            R[i,j] += A[k,i] * A[k,j]\n",
    "        end\n",
    "        for i=1:j-1, k=1:m\n",
    "            A[k,j] -= A[k,i] * R[i,j]\n",
    "        end\n",
    "        R[j,j] = norm( A[:,j] )\n",
    "        display(\"Orthogonal columns of A before Normalization\")\n",
    "        display(A)\n",
    "        display(\"Matrix R\")\n",
    "        display(R)\n",
    "        # Normalize column\n",
    "        A[:,j] /= R[j,j]\n",
    "    display(\"Orthogonal columns of A after Normalization\")\n",
    "    display(A)\n",
    "    end\n",
    "    display(\"Q\")\n",
    "    display(A)\n",
    "    # A contains the Q factor at the end\n",
    "    display(\"R\")\n",
    "    display(R)\n",
    "#     return R\n",
    "# end"
   ]
  },
  {
   "cell_type": "code",
   "execution_count": 4,
   "id": "004953bc",
   "metadata": {},
   "outputs": [
    {
     "data": {
      "text/plain": [
       "3×3 Matrix{Float64}:\n",
       "  1.0          -7.07107e-11  -7.07107e-11\n",
       " -7.07107e-11   1.0           0.5\n",
       " -7.07107e-11   0.5           1.0"
      ]
     },
     "execution_count": 4,
     "metadata": {},
     "output_type": "execute_result"
    }
   ],
   "source": [
    "A'*A #Q^T * Q"
   ]
  },
  {
   "cell_type": "code",
   "execution_count": 5,
   "id": "aa15dfd2",
   "metadata": {},
   "outputs": [
    {
     "data": {
      "text/plain": [
       "4×3 Matrix{Float64}:\n",
       " 1.0       1.0           1.0\n",
       " 1.0e-10  -3.62325e-27  -3.62325e-27\n",
       " 0.0       1.0e-10       0.0\n",
       " 0.0       0.0           1.0e-10"
      ]
     },
     "execution_count": 5,
     "metadata": {},
     "output_type": "execute_result"
    }
   ],
   "source": [
    "A*R # Q*R"
   ]
  },
  {
   "cell_type": "code",
   "execution_count": 6,
   "id": "9c03b78c",
   "metadata": {},
   "outputs": [
    {
     "data": {
      "text/plain": [
       "4×3 Matrix{Float64}:\n",
       " 1.0      1.0      1.0\n",
       " 1.0e-10  0.0      0.0\n",
       " 0.0      1.0e-10  0.0\n",
       " 0.0      0.0      1.0e-10"
      ]
     },
     "execution_count": 6,
     "metadata": {},
     "output_type": "execute_result"
    }
   ],
   "source": [
    "A0  # matrix A"
   ]
  },
  {
   "cell_type": "code",
   "execution_count": 7,
   "id": "32b778d2",
   "metadata": {},
   "outputs": [
    {
     "data": {
      "text/plain": [
       "geqrfMGS! (generic function with 1 method)"
      ]
     },
     "execution_count": 7,
     "metadata": {},
     "output_type": "execute_result"
    }
   ],
   "source": [
    "function geqrfMGS!(A)\n",
    "    m = size(A,1)\n",
    "    n = size(A,2)\n",
    "    @assert m >= n\n",
    "    R = zeros(Float64, n,n)\n",
    "    for j=1:n\n",
    "        # Orthogonalize\n",
    "        for i=1:j-1\n",
    "            for k=1:m\n",
    "                R[i,j] += A[k,i] * A[k,j]\n",
    "            end\n",
    "            for k=1:m\n",
    "                A[k,j] -= A[k,i] * R[i,j]\n",
    "            end\n",
    "        end\n",
    "        display(\"Orthogonal columns of A before Normalization\")\n",
    "        display(A)\n",
    "        # Normalize column\n",
    "        R[j,j] = norm( A[:,j] )\n",
    "        A[:,j] /= R[j,j]\n",
    "        display(\"matrix R\")\n",
    "        display(R)\n",
    "        display(\"Orthogonal columns of A after Normalization\")\n",
    "        display(A)\n",
    "    end\n",
    "    display(\"Q\")\n",
    "    display(A)\n",
    "    # A contains the Q factor at the end\n",
    "    display(\"R\")\n",
    "    display(R)\n",
    "    return R\n",
    "end"
   ]
  },
  {
   "cell_type": "code",
   "execution_count": 8,
   "id": "a4693934",
   "metadata": {
    "scrolled": false
   },
   "outputs": [
    {
     "data": {
      "text/plain": [
       "\"Orthogonal columns of A before Normalization\""
      ]
     },
     "metadata": {},
     "output_type": "display_data"
    },
    {
     "data": {
      "text/plain": [
       "4×3 Matrix{Float64}:\n",
       " 1.0      1.0      1.0\n",
       " 1.0e-10  0.0      0.0\n",
       " 0.0      1.0e-10  0.0\n",
       " 0.0      0.0      1.0e-10"
      ]
     },
     "metadata": {},
     "output_type": "display_data"
    },
    {
     "data": {
      "text/plain": [
       "\"matrix R\""
      ]
     },
     "metadata": {},
     "output_type": "display_data"
    },
    {
     "data": {
      "text/plain": [
       "3×3 Matrix{Float64}:\n",
       " 1.0  0.0  0.0\n",
       " 0.0  0.0  0.0\n",
       " 0.0  0.0  0.0"
      ]
     },
     "metadata": {},
     "output_type": "display_data"
    },
    {
     "data": {
      "text/plain": [
       "\"Orthogonal columns of A after Normalization\""
      ]
     },
     "metadata": {},
     "output_type": "display_data"
    },
    {
     "data": {
      "text/plain": [
       "4×3 Matrix{Float64}:\n",
       " 1.0      1.0      1.0\n",
       " 1.0e-10  0.0      0.0\n",
       " 0.0      1.0e-10  0.0\n",
       " 0.0      0.0      1.0e-10"
      ]
     },
     "metadata": {},
     "output_type": "display_data"
    },
    {
     "data": {
      "text/plain": [
       "\"Orthogonal columns of A before Normalization\""
      ]
     },
     "metadata": {},
     "output_type": "display_data"
    },
    {
     "data": {
      "text/plain": [
       "4×3 Matrix{Float64}:\n",
       " 1.0       0.0      1.0\n",
       " 1.0e-10  -1.0e-10  0.0\n",
       " 0.0       1.0e-10  0.0\n",
       " 0.0       0.0      1.0e-10"
      ]
     },
     "metadata": {},
     "output_type": "display_data"
    },
    {
     "data": {
      "text/plain": [
       "\"matrix R\""
      ]
     },
     "metadata": {},
     "output_type": "display_data"
    },
    {
     "data": {
      "text/plain": [
       "3×3 Matrix{Float64}:\n",
       " 1.0  1.0          0.0\n",
       " 0.0  1.41421e-10  0.0\n",
       " 0.0  0.0          0.0"
      ]
     },
     "metadata": {},
     "output_type": "display_data"
    },
    {
     "data": {
      "text/plain": [
       "\"Orthogonal columns of A after Normalization\""
      ]
     },
     "metadata": {},
     "output_type": "display_data"
    },
    {
     "data": {
      "text/plain": [
       "4×3 Matrix{Float64}:\n",
       " 1.0       0.0       1.0\n",
       " 1.0e-10  -0.707107  0.0\n",
       " 0.0       0.707107  0.0\n",
       " 0.0       0.0       1.0e-10"
      ]
     },
     "metadata": {},
     "output_type": "display_data"
    },
    {
     "data": {
      "text/plain": [
       "\"Orthogonal columns of A before Normalization\""
      ]
     },
     "metadata": {},
     "output_type": "display_data"
    },
    {
     "data": {
      "text/plain": [
       "4×3 Matrix{Float64}:\n",
       " 1.0       0.0        0.0\n",
       " 1.0e-10  -0.707107  -5.0e-11\n",
       " 0.0       0.707107  -5.0e-11\n",
       " 0.0       0.0        1.0e-10"
      ]
     },
     "metadata": {},
     "output_type": "display_data"
    },
    {
     "data": {
      "text/plain": [
       "\"matrix R\""
      ]
     },
     "metadata": {},
     "output_type": "display_data"
    },
    {
     "data": {
      "text/plain": [
       "3×3 Matrix{Float64}:\n",
       " 1.0  1.0          1.0\n",
       " 0.0  1.41421e-10  7.07107e-11\n",
       " 0.0  0.0          1.22474e-10"
      ]
     },
     "metadata": {},
     "output_type": "display_data"
    },
    {
     "data": {
      "text/plain": [
       "\"Orthogonal columns of A after Normalization\""
      ]
     },
     "metadata": {},
     "output_type": "display_data"
    },
    {
     "data": {
      "text/plain": [
       "4×3 Matrix{Float64}:\n",
       " 1.0       0.0        0.0\n",
       " 1.0e-10  -0.707107  -0.408248\n",
       " 0.0       0.707107  -0.408248\n",
       " 0.0       0.0        0.816497"
      ]
     },
     "metadata": {},
     "output_type": "display_data"
    },
    {
     "data": {
      "text/plain": [
       "\"Q\""
      ]
     },
     "metadata": {},
     "output_type": "display_data"
    },
    {
     "data": {
      "text/plain": [
       "4×3 Matrix{Float64}:\n",
       " 1.0       0.0        0.0\n",
       " 1.0e-10  -0.707107  -0.408248\n",
       " 0.0       0.707107  -0.408248\n",
       " 0.0       0.0        0.816497"
      ]
     },
     "metadata": {},
     "output_type": "display_data"
    },
    {
     "data": {
      "text/plain": [
       "\"R\""
      ]
     },
     "metadata": {},
     "output_type": "display_data"
    },
    {
     "data": {
      "text/plain": [
       "3×3 Matrix{Float64}:\n",
       " 1.0  1.0          1.0\n",
       " 0.0  1.41421e-10  7.07107e-11\n",
       " 0.0  0.0          1.22474e-10"
      ]
     },
     "metadata": {},
     "output_type": "display_data"
    },
    {
     "data": {
      "text/plain": [
       "3×3 Matrix{Float64}:\n",
       " 1.0  1.0          1.0\n",
       " 0.0  1.41421e-10  7.07107e-11\n",
       " 0.0  0.0          1.22474e-10"
      ]
     },
     "execution_count": 8,
     "metadata": {},
     "output_type": "execute_result"
    }
   ],
   "source": [
    "geqrfMGS!(B0)"
   ]
  },
  {
   "cell_type": "code",
   "execution_count": 9,
   "id": "72c2c04f",
   "metadata": {},
   "outputs": [
    {
     "data": {
      "text/plain": [
       "3×3 Matrix{Float64}:\n",
       "  1.0          -7.07107e-11  -4.08248e-11\n",
       " -7.07107e-11   1.0          -1.54826e-16\n",
       " -4.08248e-11  -1.54826e-16   1.0"
      ]
     },
     "execution_count": 9,
     "metadata": {},
     "output_type": "execute_result"
    }
   ],
   "source": [
    "B0' * B0 #Q^T*Q"
   ]
  },
  {
   "cell_type": "code",
   "execution_count": 10,
   "id": "74d6d8f8",
   "metadata": {},
   "outputs": [
    {
     "data": {
      "text/plain": [
       "4×3 Matrix{Float64}:\n",
       " 1.0       1.0           1.0\n",
       " 1.0e-10  -3.62325e-27   4.2265e-11\n",
       " 0.0       1.0e-10      -5.7735e-11\n",
       " 0.0       0.0           1.1547e-10"
      ]
     },
     "execution_count": 10,
     "metadata": {},
     "output_type": "execute_result"
    }
   ],
   "source": [
    "B0*R #Q*R"
   ]
  },
  {
   "cell_type": "code",
   "execution_count": 11,
   "id": "92316b45",
   "metadata": {},
   "outputs": [
    {
     "data": {
      "text/plain": [
       "4×3 Matrix{Float64}:\n",
       " 1.0      1.0      1.0\n",
       " 1.0e-10  0.0      0.0\n",
       " 0.0      1.0e-10  0.0\n",
       " 0.0      0.0      1.0e-10"
      ]
     },
     "execution_count": 11,
     "metadata": {},
     "output_type": "execute_result"
    }
   ],
   "source": [
    "C0 # matrix A "
   ]
  },
  {
   "cell_type": "code",
   "execution_count": null,
   "id": "d7df82fc",
   "metadata": {},
   "outputs": [],
   "source": []
  }
 ],
 "metadata": {
  "@webio": {
   "lastCommId": null,
   "lastKernelId": null
  },
  "kernelspec": {
   "display_name": "Julia 1.10.0",
   "language": "julia",
   "name": "julia-1.10"
  },
  "language_info": {
   "file_extension": ".jl",
   "mimetype": "application/julia",
   "name": "julia",
   "version": "1.10.0"
  }
 },
 "nbformat": 4,
 "nbformat_minor": 5
}
