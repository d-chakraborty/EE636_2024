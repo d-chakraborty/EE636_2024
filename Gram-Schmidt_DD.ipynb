{
 "cells": [
  {
   "cell_type": "code",
   "execution_count": 1,
   "id": "6331accd",
   "metadata": {},
   "outputs": [],
   "source": [
    "using Random\n",
    "using LinearAlgebra\n",
    "rng = MersenneTwister(2018)\n",
    "import LinearAlgebra.dot\n",
    "import LinearAlgebra.norm\n",
    "import LinearAlgebra.triu\n",
    "import LinearAlgebra.diag\n",
    "using Printf\n",
    ";"
   ]
  },
  {
   "cell_type": "code",
   "execution_count": 2,
   "id": "94440ad6",
   "metadata": {},
   "outputs": [
    {
     "data": {
      "text/plain": [
       "4×3 Matrix{Float64}:\n",
       "  2.0  -1.0   4.0\n",
       "  3.0   4.0  -2.0\n",
       "  1.0   4.0   2.0\n",
       " -4.0  -1.0   3.0"
      ]
     },
     "execution_count": 2,
     "metadata": {},
     "output_type": "execute_result"
    }
   ],
   "source": [
    "#A = [2 -4 5; 2 1 -3; 1 2 -6]\n",
    "A = [2 -1 4; 3 4 -2; 1 4 2; -4 -1 3]\n",
    "#A = [1 3; 1 2]\n",
    "A = float(A)\n",
    "A0 = copy(A)\n",
    "B0 = copy(A)\n",
    "C0 = copy(A)"
   ]
  },
  {
   "cell_type": "code",
   "execution_count": 3,
   "id": "863e10de",
   "metadata": {
    "scrolled": false
   },
   "outputs": [
    {
     "data": {
      "text/plain": [
       "\"j=\""
      ]
     },
     "metadata": {},
     "output_type": "display_data"
    },
    {
     "data": {
      "text/plain": [
       "1"
      ]
     },
     "metadata": {},
     "output_type": "display_data"
    },
    {
     "data": {
      "text/plain": [
       "\"Orthogonal columns of A before Normalization\""
      ]
     },
     "metadata": {},
     "output_type": "display_data"
    },
    {
     "data": {
      "text/plain": [
       "4×3 Matrix{Float64}:\n",
       "  2.0  -1.0   4.0\n",
       "  3.0   4.0  -2.0\n",
       "  1.0   4.0   2.0\n",
       " -4.0  -1.0   3.0"
      ]
     },
     "metadata": {},
     "output_type": "display_data"
    },
    {
     "data": {
      "text/plain": [
       "\"Matrix R\""
      ]
     },
     "metadata": {},
     "output_type": "display_data"
    },
    {
     "data": {
      "text/plain": [
       "3×3 Matrix{Float64}:\n",
       " 5.47723  0.0  0.0\n",
       " 0.0      0.0  0.0\n",
       " 0.0      0.0  0.0"
      ]
     },
     "metadata": {},
     "output_type": "display_data"
    },
    {
     "data": {
      "text/plain": [
       "\"Orthogonal columns of A after Normalization\""
      ]
     },
     "metadata": {},
     "output_type": "display_data"
    },
    {
     "data": {
      "text/plain": [
       "4×3 Matrix{Float64}:\n",
       "  0.365148  -1.0   4.0\n",
       "  0.547723   4.0  -2.0\n",
       "  0.182574   4.0   2.0\n",
       " -0.730297  -1.0   3.0"
      ]
     },
     "metadata": {},
     "output_type": "display_data"
    },
    {
     "data": {
      "text/plain": [
       "\"j=\""
      ]
     },
     "metadata": {},
     "output_type": "display_data"
    },
    {
     "data": {
      "text/plain": [
       "2"
      ]
     },
     "metadata": {},
     "output_type": "display_data"
    },
    {
     "data": {
      "text/plain": [
       "\"Orthogonal columns of A before Normalization\""
      ]
     },
     "metadata": {},
     "output_type": "display_data"
    },
    {
     "data": {
      "text/plain": [
       "4×3 Matrix{Float64}:\n",
       "  0.365148  -2.2   4.0\n",
       "  0.547723   2.2  -2.0\n",
       "  0.182574   3.4   2.0\n",
       " -0.730297   1.4   3.0"
      ]
     },
     "metadata": {},
     "output_type": "display_data"
    },
    {
     "data": {
      "text/plain": [
       "\"Matrix R\""
      ]
     },
     "metadata": {},
     "output_type": "display_data"
    },
    {
     "data": {
      "text/plain": [
       "3×3 Matrix{Float64}:\n",
       " 5.47723  3.28634  0.0\n",
       " 0.0      4.81664  0.0\n",
       " 0.0      0.0      0.0"
      ]
     },
     "metadata": {},
     "output_type": "display_data"
    },
    {
     "data": {
      "text/plain": [
       "\"Orthogonal columns of A after Normalization\""
      ]
     },
     "metadata": {},
     "output_type": "display_data"
    },
    {
     "data": {
      "text/plain": [
       "4×3 Matrix{Float64}:\n",
       "  0.365148  -0.45675    4.0\n",
       "  0.547723   0.45675   -2.0\n",
       "  0.182574   0.705887   2.0\n",
       " -0.730297   0.290659   3.0"
      ]
     },
     "metadata": {},
     "output_type": "display_data"
    },
    {
     "data": {
      "text/plain": [
       "\"j=\""
      ]
     },
     "metadata": {},
     "output_type": "display_data"
    },
    {
     "data": {
      "text/plain": [
       "3"
      ]
     },
     "metadata": {},
     "output_type": "display_data"
    },
    {
     "data": {
      "text/plain": [
       "\"Orthogonal columns of A before Normalization\""
      ]
     },
     "metadata": {},
     "output_type": "display_data"
    },
    {
     "data": {
      "text/plain": [
       "4×3 Matrix{Float64}:\n",
       "  0.365148  -0.45675    4.32471\n",
       "  0.547723   0.45675   -0.991379\n",
       "  0.182574   0.705887   2.58908\n",
       " -0.730297   0.290659   2.06609"
      ]
     },
     "metadata": {},
     "output_type": "display_data"
    },
    {
     "data": {
      "text/plain": [
       "\"Matrix R\""
      ]
     },
     "metadata": {},
     "output_type": "display_data"
    },
    {
     "data": {
      "text/plain": [
       "3×3 Matrix{Float64}:\n",
       " 5.47723  3.28634  -1.46059\n",
       " 0.0      4.81664  -0.45675\n",
       " 0.0      0.0       5.53697"
      ]
     },
     "metadata": {},
     "output_type": "display_data"
    },
    {
     "data": {
      "text/plain": [
       "\"Orthogonal columns of A after Normalization\""
      ]
     },
     "metadata": {},
     "output_type": "display_data"
    },
    {
     "data": {
      "text/plain": [
       "4×3 Matrix{Float64}:\n",
       "  0.365148  -0.45675    0.781061\n",
       "  0.547723   0.45675   -0.179047\n",
       "  0.182574   0.705887   0.467599\n",
       " -0.730297   0.290659   0.373145"
      ]
     },
     "metadata": {},
     "output_type": "display_data"
    },
    {
     "data": {
      "text/plain": [
       "\"Q\""
      ]
     },
     "metadata": {},
     "output_type": "display_data"
    },
    {
     "data": {
      "text/plain": [
       "4×3 Matrix{Float64}:\n",
       "  0.365148  -0.45675    0.781061\n",
       "  0.547723   0.45675   -0.179047\n",
       "  0.182574   0.705887   0.467599\n",
       " -0.730297   0.290659   0.373145"
      ]
     },
     "metadata": {},
     "output_type": "display_data"
    },
    {
     "data": {
      "text/plain": [
       "\"R\""
      ]
     },
     "metadata": {},
     "output_type": "display_data"
    },
    {
     "data": {
      "text/plain": [
       "3×3 Matrix{Float64}:\n",
       " 5.47723  3.28634  -1.46059\n",
       " 0.0      4.81664  -0.45675\n",
       " 0.0      0.0       5.53697"
      ]
     },
     "metadata": {},
     "output_type": "display_data"
    }
   ],
   "source": [
    "# function geqrfCGS!(A)\n",
    "    m = size(A,1)\n",
    "    n = size(A,2)\n",
    "    @assert m >= n\n",
    "    R = zeros(Float64, n,n)\n",
    "    for j=1:n\n",
    "      display(\"j=\")\n",
    "      display(j)\n",
    "        # Orthogonalize\n",
    "        for i=1:j-1, k=1:m\n",
    "            R[i,j] += A[k,i] * A[k,j]\n",
    "        end\n",
    "        for i=1:j-1, k=1:m\n",
    "            A[k,j] -= A[k,i] * R[i,j]\n",
    "        end\n",
    "        R[j,j] = norm( A[:,j] )\n",
    "        display(\"Orthogonal columns of A before Normalization\")\n",
    "        display(A)\n",
    "        display(\"Matrix R\")\n",
    "        display(R)\n",
    "        # Normalize column\n",
    "        A[:,j] /= R[j,j]\n",
    "    display(\"Orthogonal columns of A after Normalization\")\n",
    "    display(A)\n",
    "    end\n",
    "    display(\"Q\")\n",
    "    display(A)\n",
    "    # A contains the Q factor at the end\n",
    "    display(\"R\")\n",
    "    display(R)\n",
    "#     return R\n",
    "# end"
   ]
  },
  {
   "cell_type": "code",
   "execution_count": 11,
   "id": "aa15dfd2",
   "metadata": {},
   "outputs": [
    {
     "data": {
      "text/plain": [
       "4×3 Matrix{Float64}:\n",
       "  2.0  -1.0   4.0\n",
       "  3.0   4.0  -2.0\n",
       "  1.0   4.0   2.0\n",
       " -4.0  -1.0   3.0"
      ]
     },
     "execution_count": 11,
     "metadata": {},
     "output_type": "execute_result"
    }
   ],
   "source": [
    "A*R # Q*R"
   ]
  },
  {
   "cell_type": "code",
   "execution_count": 5,
   "id": "9c03b78c",
   "metadata": {},
   "outputs": [
    {
     "data": {
      "text/plain": [
       "4×3 Matrix{Float64}:\n",
       "  2.0  -1.0   4.0\n",
       "  3.0   4.0  -2.0\n",
       "  1.0   4.0   2.0\n",
       " -4.0  -1.0   3.0"
      ]
     },
     "execution_count": 5,
     "metadata": {},
     "output_type": "execute_result"
    }
   ],
   "source": [
    "A0  # matrix A"
   ]
  },
  {
   "cell_type": "code",
   "execution_count": 6,
   "id": "32b778d2",
   "metadata": {},
   "outputs": [
    {
     "data": {
      "text/plain": [
       "geqrfMGS! (generic function with 1 method)"
      ]
     },
     "execution_count": 6,
     "metadata": {},
     "output_type": "execute_result"
    }
   ],
   "source": [
    "function geqrfMGS!(A)\n",
    "    m = size(A,1)\n",
    "    n = size(A,2)\n",
    "    @assert m >= n\n",
    "    R = zeros(Float64, n,n)\n",
    "    for j=1:n\n",
    "        # Orthogonalize\n",
    "        for i=1:j-1\n",
    "            for k=1:m\n",
    "                R[i,j] += A[k,i] * A[k,j]\n",
    "            end\n",
    "            for k=1:m\n",
    "                A[k,j] -= A[k,i] * R[i,j]\n",
    "            end\n",
    "        end\n",
    "        display(\"Orthogonal columns of A before Normalization\")\n",
    "        display(A)\n",
    "        # Normalize column\n",
    "        R[j,j] = norm( A[:,j] )\n",
    "        A[:,j] /= R[j,j]\n",
    "        display(\"matrix R\")\n",
    "        display(R)\n",
    "        display(\"Orthogonal columns of A after Normalization\")\n",
    "        display(A)\n",
    "    end\n",
    "    display(\"Q\")\n",
    "    display(A)\n",
    "    # A contains the Q factor at the end\n",
    "    display(\"R\")\n",
    "    display(R)\n",
    "    return R\n",
    "end"
   ]
  },
  {
   "cell_type": "code",
   "execution_count": 7,
   "id": "a4693934",
   "metadata": {
    "scrolled": false
   },
   "outputs": [
    {
     "data": {
      "text/plain": [
       "\"Orthogonal columns of A before Normalization\""
      ]
     },
     "metadata": {},
     "output_type": "display_data"
    },
    {
     "data": {
      "text/plain": [
       "4×3 Matrix{Float64}:\n",
       "  2.0  -1.0   4.0\n",
       "  3.0   4.0  -2.0\n",
       "  1.0   4.0   2.0\n",
       " -4.0  -1.0   3.0"
      ]
     },
     "metadata": {},
     "output_type": "display_data"
    },
    {
     "data": {
      "text/plain": [
       "\"matrix R\""
      ]
     },
     "metadata": {},
     "output_type": "display_data"
    },
    {
     "data": {
      "text/plain": [
       "3×3 Matrix{Float64}:\n",
       " 5.47723  0.0  0.0\n",
       " 0.0      0.0  0.0\n",
       " 0.0      0.0  0.0"
      ]
     },
     "metadata": {},
     "output_type": "display_data"
    },
    {
     "data": {
      "text/plain": [
       "\"Orthogonal columns of A after Normalization\""
      ]
     },
     "metadata": {},
     "output_type": "display_data"
    },
    {
     "data": {
      "text/plain": [
       "4×3 Matrix{Float64}:\n",
       "  0.365148  -1.0   4.0\n",
       "  0.547723   4.0  -2.0\n",
       "  0.182574   4.0   2.0\n",
       " -0.730297  -1.0   3.0"
      ]
     },
     "metadata": {},
     "output_type": "display_data"
    },
    {
     "data": {
      "text/plain": [
       "\"Orthogonal columns of A before Normalization\""
      ]
     },
     "metadata": {},
     "output_type": "display_data"
    },
    {
     "data": {
      "text/plain": [
       "4×3 Matrix{Float64}:\n",
       "  0.365148  -2.2   4.0\n",
       "  0.547723   2.2  -2.0\n",
       "  0.182574   3.4   2.0\n",
       " -0.730297   1.4   3.0"
      ]
     },
     "metadata": {},
     "output_type": "display_data"
    },
    {
     "data": {
      "text/plain": [
       "\"matrix R\""
      ]
     },
     "metadata": {},
     "output_type": "display_data"
    },
    {
     "data": {
      "text/plain": [
       "3×3 Matrix{Float64}:\n",
       " 5.47723  3.28634  0.0\n",
       " 0.0      4.81664  0.0\n",
       " 0.0      0.0      0.0"
      ]
     },
     "metadata": {},
     "output_type": "display_data"
    },
    {
     "data": {
      "text/plain": [
       "\"Orthogonal columns of A after Normalization\""
      ]
     },
     "metadata": {},
     "output_type": "display_data"
    },
    {
     "data": {
      "text/plain": [
       "4×3 Matrix{Float64}:\n",
       "  0.365148  -0.45675    4.0\n",
       "  0.547723   0.45675   -2.0\n",
       "  0.182574   0.705887   2.0\n",
       " -0.730297   0.290659   3.0"
      ]
     },
     "metadata": {},
     "output_type": "display_data"
    },
    {
     "data": {
      "text/plain": [
       "\"Orthogonal columns of A before Normalization\""
      ]
     },
     "metadata": {},
     "output_type": "display_data"
    },
    {
     "data": {
      "text/plain": [
       "4×3 Matrix{Float64}:\n",
       "  0.365148  -0.45675    4.32471\n",
       "  0.547723   0.45675   -0.991379\n",
       "  0.182574   0.705887   2.58908\n",
       " -0.730297   0.290659   2.06609"
      ]
     },
     "metadata": {},
     "output_type": "display_data"
    },
    {
     "data": {
      "text/plain": [
       "\"matrix R\""
      ]
     },
     "metadata": {},
     "output_type": "display_data"
    },
    {
     "data": {
      "text/plain": [
       "3×3 Matrix{Float64}:\n",
       " 5.47723  3.28634  -1.46059\n",
       " 0.0      4.81664  -0.45675\n",
       " 0.0      0.0       5.53697"
      ]
     },
     "metadata": {},
     "output_type": "display_data"
    },
    {
     "data": {
      "text/plain": [
       "\"Orthogonal columns of A after Normalization\""
      ]
     },
     "metadata": {},
     "output_type": "display_data"
    },
    {
     "data": {
      "text/plain": [
       "4×3 Matrix{Float64}:\n",
       "  0.365148  -0.45675    0.781061\n",
       "  0.547723   0.45675   -0.179047\n",
       "  0.182574   0.705887   0.467599\n",
       " -0.730297   0.290659   0.373145"
      ]
     },
     "metadata": {},
     "output_type": "display_data"
    },
    {
     "data": {
      "text/plain": [
       "\"Q\""
      ]
     },
     "metadata": {},
     "output_type": "display_data"
    },
    {
     "data": {
      "text/plain": [
       "4×3 Matrix{Float64}:\n",
       "  0.365148  -0.45675    0.781061\n",
       "  0.547723   0.45675   -0.179047\n",
       "  0.182574   0.705887   0.467599\n",
       " -0.730297   0.290659   0.373145"
      ]
     },
     "metadata": {},
     "output_type": "display_data"
    },
    {
     "data": {
      "text/plain": [
       "\"R\""
      ]
     },
     "metadata": {},
     "output_type": "display_data"
    },
    {
     "data": {
      "text/plain": [
       "3×3 Matrix{Float64}:\n",
       " 5.47723  3.28634  -1.46059\n",
       " 0.0      4.81664  -0.45675\n",
       " 0.0      0.0       5.53697"
      ]
     },
     "metadata": {},
     "output_type": "display_data"
    },
    {
     "data": {
      "text/plain": [
       "3×3 Matrix{Float64}:\n",
       " 5.47723  3.28634  -1.46059\n",
       " 0.0      4.81664  -0.45675\n",
       " 0.0      0.0       5.53697"
      ]
     },
     "execution_count": 7,
     "metadata": {},
     "output_type": "execute_result"
    }
   ],
   "source": [
    "geqrfMGS!(B0)"
   ]
  },
  {
   "cell_type": "code",
   "execution_count": 8,
   "id": "74d6d8f8",
   "metadata": {},
   "outputs": [
    {
     "data": {
      "text/plain": [
       "4×3 Matrix{Float64}:\n",
       "  2.0  -1.0   4.0\n",
       "  3.0   4.0  -2.0\n",
       "  1.0   4.0   2.0\n",
       " -4.0  -1.0   3.0"
      ]
     },
     "execution_count": 8,
     "metadata": {},
     "output_type": "execute_result"
    }
   ],
   "source": [
    "B0*R #Q*R"
   ]
  },
  {
   "cell_type": "code",
   "execution_count": 9,
   "id": "92316b45",
   "metadata": {},
   "outputs": [
    {
     "data": {
      "text/plain": [
       "4×3 Matrix{Float64}:\n",
       "  2.0  -1.0   4.0\n",
       "  3.0   4.0  -2.0\n",
       "  1.0   4.0   2.0\n",
       " -4.0  -1.0   3.0"
      ]
     },
     "execution_count": 9,
     "metadata": {},
     "output_type": "execute_result"
    }
   ],
   "source": [
    "C0 # matrix A "
   ]
  },
  {
   "cell_type": "code",
   "execution_count": null,
   "id": "d7df82fc",
   "metadata": {},
   "outputs": [],
   "source": []
  }
 ],
 "metadata": {
  "@webio": {
   "lastCommId": null,
   "lastKernelId": null
  },
  "kernelspec": {
   "display_name": "Julia 1.10.0",
   "language": "julia",
   "name": "julia-1.10"
  },
  "language_info": {
   "file_extension": ".jl",
   "mimetype": "application/julia",
   "name": "julia",
   "version": "1.10.0"
  }
 },
 "nbformat": 4,
 "nbformat_minor": 5
}
