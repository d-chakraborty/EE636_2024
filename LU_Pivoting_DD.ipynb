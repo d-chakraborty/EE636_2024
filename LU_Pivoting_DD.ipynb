{
 "cells": [
  {
   "cell_type": "code",
   "execution_count": 1,
   "id": "8714c60b",
   "metadata": {},
   "outputs": [
    {
     "data": {
      "text/plain": [
       "false"
      ]
     },
     "execution_count": 1,
     "metadata": {},
     "output_type": "execute_result"
    }
   ],
   "source": [
    "using LinearAlgebra\n",
    "using Random\n",
    "rng = MersenneTwister()\n",
    "Random.seed!(rng, 2018)\n",
    "output = false"
   ]
  },
  {
   "cell_type": "markdown",
   "id": "50dd850a",
   "metadata": {},
   "source": [
    "LU factorization with pivoting on a random 6 x 6 matrix:"
   ]
  },
  {
   "cell_type": "code",
   "execution_count": 2,
   "id": "9f2a7d85",
   "metadata": {},
   "outputs": [
    {
     "data": {
      "text/plain": [
       "6×6 Matrix{Float64}:\n",
       " 4.0  20.0  38.0  70.0  89.0  82.0\n",
       " 4.0  20.0  38.0  66.0  79.0  82.0\n",
       " 4.0  19.0  35.0  56.0  57.0  46.0\n",
       " 3.0  15.0  24.0  33.0  36.0  30.0\n",
       " 3.0  12.0  15.0  15.0  18.0  12.0\n",
       " 2.0  11.0  27.0  58.0  65.0  51.0"
      ]
     },
     "metadata": {},
     "output_type": "display_data"
    }
   ],
   "source": [
    "# Size of the matrix\n",
    "n = 6;\n",
    "\n",
    "# Random initialization of matrix A\n",
    "L = zeros(Float64,n,n)\n",
    "U = zeros(Float64,n,n)\n",
    "P = randperm(rng,n) # Randow row permutation\n",
    "for i=1:n\n",
    "    L[P[i],i] = 3 # Largest entry in the column\n",
    "    L[P[i+1:n],i] = rand(rng, 2:5, n-i)\n",
    "    U[i,i] = rand(rng, 1:2)\n",
    "    U[i,i+1:n] = rand(rng, 3:6, n-i)\n",
    "end\n",
    "A = L * U\n",
    "A0 = copy(A);\n",
    "B0 = copy(A)\n",
    "display(A)"
   ]
  },
  {
   "cell_type": "markdown",
   "id": "f3803a36",
   "metadata": {},
   "source": [
    "Program to perform LU factorization with Partial pivoting:-"
   ]
  },
  {
   "cell_type": "code",
   "execution_count": 3,
   "id": "f7b0baff",
   "metadata": {},
   "outputs": [
    {
     "data": {
      "text/plain": [
       "getrf! (generic function with 1 method)"
      ]
     },
     "execution_count": 3,
     "metadata": {},
     "output_type": "execute_result"
    }
   ],
   "source": [
    "function getrf!(A)\n",
    "    # Uses pivoting\n",
    "    n = size(A,1)\n",
    "    P = collect(1:n)\n",
    "    for k=1:n\n",
    "        display(k)\n",
    "        # Find pivot\n",
    "        imx = k - 1 + argmax( abs.(A[k:end,k]) ) # row with largest entry\n",
    "        # Swap rows\n",
    "        for j=1:n\n",
    "            A[k,j],A[imx,j] = A[imx,j],A[k,j]\n",
    "        end\n",
    "        P[[k,imx]] = P[[imx,k]]\n",
    "        println(\"matrix A after row permutation=\")\n",
    "        display(A)\n",
    "        # Proceed with factorization\n",
    "        for i=k+1:n\n",
    "            A[i,k] /= A[k,k]\n",
    "        end\n",
    "\n",
    "        for j=k+1:n, i=k+1:n\n",
    "            A[i,j] -= A[i,k] * A[k,j]\n",
    "        end\n",
    "        println(\"matrix after L U factorization=\")\n",
    "        display(A)\n",
    "    end\n",
    "    return P\n",
    "end"
   ]
  },
  {
   "cell_type": "code",
   "execution_count": 4,
   "id": "92b18711",
   "metadata": {},
   "outputs": [
    {
     "data": {
      "text/plain": [
       "1"
      ]
     },
     "metadata": {},
     "output_type": "display_data"
    },
    {
     "name": "stdout",
     "output_type": "stream",
     "text": [
      "matrix A after row permutation=\n"
     ]
    },
    {
     "data": {
      "text/plain": [
       "6×6 Matrix{Float64}:\n",
       " 4.0  20.0  38.0  70.0  89.0  82.0\n",
       " 4.0  20.0  38.0  66.0  79.0  82.0\n",
       " 4.0  19.0  35.0  56.0  57.0  46.0\n",
       " 3.0  15.0  24.0  33.0  36.0  30.0\n",
       " 3.0  12.0  15.0  15.0  18.0  12.0\n",
       " 2.0  11.0  27.0  58.0  65.0  51.0"
      ]
     },
     "metadata": {},
     "output_type": "display_data"
    },
    {
     "name": "stdout",
     "output_type": "stream",
     "text": [
      "matrix after L U factorization=\n"
     ]
    },
    {
     "data": {
      "text/plain": [
       "6×6 Matrix{Float64}:\n",
       " 4.0   20.0   38.0   70.0   89.0    82.0\n",
       " 1.0    0.0    0.0   -4.0  -10.0     0.0\n",
       " 1.0   -1.0   -3.0  -14.0  -32.0   -36.0\n",
       " 0.75   0.0   -4.5  -19.5  -30.75  -31.5\n",
       " 0.75  -3.0  -13.5  -37.5  -48.75  -49.5\n",
       " 0.5    1.0    8.0   23.0   20.5    10.0"
      ]
     },
     "metadata": {},
     "output_type": "display_data"
    },
    {
     "data": {
      "text/plain": [
       "2"
      ]
     },
     "metadata": {},
     "output_type": "display_data"
    },
    {
     "name": "stdout",
     "output_type": "stream",
     "text": [
      "matrix A after row permutation=\n"
     ]
    },
    {
     "data": {
      "text/plain": [
       "6×6 Matrix{Float64}:\n",
       " 4.0   20.0   38.0   70.0   89.0    82.0\n",
       " 0.75  -3.0  -13.5  -37.5  -48.75  -49.5\n",
       " 1.0   -1.0   -3.0  -14.0  -32.0   -36.0\n",
       " 0.75   0.0   -4.5  -19.5  -30.75  -31.5\n",
       " 1.0    0.0    0.0   -4.0  -10.0     0.0\n",
       " 0.5    1.0    8.0   23.0   20.5    10.0"
      ]
     },
     "metadata": {},
     "output_type": "display_data"
    },
    {
     "name": "stdout",
     "output_type": "stream",
     "text": [
      "matrix after L U factorization=\n"
     ]
    },
    {
     "data": {
      "text/plain": [
       "6×6 Matrix{Float64}:\n",
       " 4.0   20.0        38.0   70.0   89.0    82.0\n",
       " 0.75  -3.0       -13.5  -37.5  -48.75  -49.5\n",
       " 1.0    0.333333    1.5   -1.5  -15.75  -19.5\n",
       " 0.75  -0.0        -4.5  -19.5  -30.75  -31.5\n",
       " 1.0   -0.0         0.0   -4.0  -10.0     0.0\n",
       " 0.5   -0.333333    3.5   10.5    4.25   -6.5"
      ]
     },
     "metadata": {},
     "output_type": "display_data"
    },
    {
     "data": {
      "text/plain": [
       "3"
      ]
     },
     "metadata": {},
     "output_type": "display_data"
    },
    {
     "name": "stdout",
     "output_type": "stream",
     "text": [
      "matrix A after row permutation=\n"
     ]
    },
    {
     "data": {
      "text/plain": [
       "6×6 Matrix{Float64}:\n",
       " 4.0   20.0        38.0   70.0   89.0    82.0\n",
       " 0.75  -3.0       -13.5  -37.5  -48.75  -49.5\n",
       " 0.75  -0.0        -4.5  -19.5  -30.75  -31.5\n",
       " 1.0    0.333333    1.5   -1.5  -15.75  -19.5\n",
       " 1.0   -0.0         0.0   -4.0  -10.0     0.0\n",
       " 0.5   -0.333333    3.5   10.5    4.25   -6.5"
      ]
     },
     "metadata": {},
     "output_type": "display_data"
    },
    {
     "name": "stdout",
     "output_type": "stream",
     "text": [
      "matrix after L U factorization=\n"
     ]
    },
    {
     "data": {
      "text/plain": [
       "6×6 Matrix{Float64}:\n",
       " 4.0   20.0        38.0        70.0       89.0      82.0\n",
       " 0.75  -3.0       -13.5       -37.5      -48.75    -49.5\n",
       " 0.75  -0.0        -4.5       -19.5      -30.75    -31.5\n",
       " 1.0    0.333333   -0.333333   -8.0      -26.0     -30.0\n",
       " 1.0   -0.0        -0.0        -4.0      -10.0       0.0\n",
       " 0.5   -0.333333   -0.777778   -4.66667  -19.6667  -31.0"
      ]
     },
     "metadata": {},
     "output_type": "display_data"
    },
    {
     "data": {
      "text/plain": [
       "4"
      ]
     },
     "metadata": {},
     "output_type": "display_data"
    },
    {
     "name": "stdout",
     "output_type": "stream",
     "text": [
      "matrix A after row permutation=\n"
     ]
    },
    {
     "data": {
      "text/plain": [
       "6×6 Matrix{Float64}:\n",
       " 4.0   20.0        38.0        70.0       89.0      82.0\n",
       " 0.75  -3.0       -13.5       -37.5      -48.75    -49.5\n",
       " 0.75  -0.0        -4.5       -19.5      -30.75    -31.5\n",
       " 1.0    0.333333   -0.333333   -8.0      -26.0     -30.0\n",
       " 1.0   -0.0        -0.0        -4.0      -10.0       0.0\n",
       " 0.5   -0.333333   -0.777778   -4.66667  -19.6667  -31.0"
      ]
     },
     "metadata": {},
     "output_type": "display_data"
    },
    {
     "name": "stdout",
     "output_type": "stream",
     "text": [
      "matrix after L U factorization=\n"
     ]
    },
    {
     "data": {
      "text/plain": [
       "6×6 Matrix{Float64}:\n",
       " 4.0   20.0        38.0        70.0        89.0    82.0\n",
       " 0.75  -3.0       -13.5       -37.5       -48.75  -49.5\n",
       " 0.75  -0.0        -4.5       -19.5       -30.75  -31.5\n",
       " 1.0    0.333333   -0.333333   -8.0       -26.0   -30.0\n",
       " 1.0   -0.0        -0.0         0.5         3.0    15.0\n",
       " 0.5   -0.333333   -0.777778    0.583333   -4.5   -13.5"
      ]
     },
     "metadata": {},
     "output_type": "display_data"
    },
    {
     "data": {
      "text/plain": [
       "5"
      ]
     },
     "metadata": {},
     "output_type": "display_data"
    },
    {
     "name": "stdout",
     "output_type": "stream",
     "text": [
      "matrix A after row permutation=\n"
     ]
    },
    {
     "data": {
      "text/plain": [
       "6×6 Matrix{Float64}:\n",
       " 4.0   20.0        38.0        70.0        89.0    82.0\n",
       " 0.75  -3.0       -13.5       -37.5       -48.75  -49.5\n",
       " 0.75  -0.0        -4.5       -19.5       -30.75  -31.5\n",
       " 1.0    0.333333   -0.333333   -8.0       -26.0   -30.0\n",
       " 0.5   -0.333333   -0.777778    0.583333   -4.5   -13.5\n",
       " 1.0   -0.0        -0.0         0.5         3.0    15.0"
      ]
     },
     "metadata": {},
     "output_type": "display_data"
    },
    {
     "name": "stdout",
     "output_type": "stream",
     "text": [
      "matrix after L U factorization=\n"
     ]
    },
    {
     "data": {
      "text/plain": [
       "6×6 Matrix{Float64}:\n",
       " 4.0   20.0        38.0        70.0        89.0        82.0\n",
       " 0.75  -3.0       -13.5       -37.5       -48.75      -49.5\n",
       " 0.75  -0.0        -4.5       -19.5       -30.75      -31.5\n",
       " 1.0    0.333333   -0.333333   -8.0       -26.0       -30.0\n",
       " 0.5   -0.333333   -0.777778    0.583333   -4.5       -13.5\n",
       " 1.0   -0.0        -0.0         0.5        -0.666667    6.0"
      ]
     },
     "metadata": {},
     "output_type": "display_data"
    },
    {
     "data": {
      "text/plain": [
       "6"
      ]
     },
     "metadata": {},
     "output_type": "display_data"
    },
    {
     "name": "stdout",
     "output_type": "stream",
     "text": [
      "matrix A after row permutation=\n"
     ]
    },
    {
     "data": {
      "text/plain": [
       "6×6 Matrix{Float64}:\n",
       " 4.0   20.0        38.0        70.0        89.0        82.0\n",
       " 0.75  -3.0       -13.5       -37.5       -48.75      -49.5\n",
       " 0.75  -0.0        -4.5       -19.5       -30.75      -31.5\n",
       " 1.0    0.333333   -0.333333   -8.0       -26.0       -30.0\n",
       " 0.5   -0.333333   -0.777778    0.583333   -4.5       -13.5\n",
       " 1.0   -0.0        -0.0         0.5        -0.666667    6.0"
      ]
     },
     "metadata": {},
     "output_type": "display_data"
    },
    {
     "name": "stdout",
     "output_type": "stream",
     "text": [
      "matrix after L U factorization=\n"
     ]
    },
    {
     "data": {
      "text/plain": [
       "6×6 Matrix{Float64}:\n",
       " 4.0   20.0        38.0        70.0        89.0        82.0\n",
       " 0.75  -3.0       -13.5       -37.5       -48.75      -49.5\n",
       " 0.75  -0.0        -4.5       -19.5       -30.75      -31.5\n",
       " 1.0    0.333333   -0.333333   -8.0       -26.0       -30.0\n",
       " 0.5   -0.333333   -0.777778    0.583333   -4.5       -13.5\n",
       " 1.0   -0.0        -0.0         0.5        -0.666667    6.0"
      ]
     },
     "metadata": {},
     "output_type": "display_data"
    },
    {
     "data": {
      "text/plain": [
       "6×6 Matrix{Float64}:\n",
       " 4.0   20.0        38.0        70.0        89.0        82.0\n",
       " 0.75  -3.0       -13.5       -37.5       -48.75      -49.5\n",
       " 0.75  -0.0        -4.5       -19.5       -30.75      -31.5\n",
       " 1.0    0.333333   -0.333333   -8.0       -26.0       -30.0\n",
       " 0.5   -0.333333   -0.777778    0.583333   -4.5       -13.5\n",
       " 1.0   -0.0        -0.0         0.5        -0.666667    6.0"
      ]
     },
     "execution_count": 4,
     "metadata": {},
     "output_type": "execute_result"
    }
   ],
   "source": [
    "getrf!(A)\n",
    "A"
   ]
  },
  {
   "cell_type": "code",
   "execution_count": 5,
   "id": "044bb995",
   "metadata": {},
   "outputs": [
    {
     "name": "stdout",
     "output_type": "stream",
     "text": [
      "L:\n",
      "\n"
     ]
    },
    {
     "data": {
      "text/plain": [
       "6×6 Matrix{Float64}:\n",
       " 1.0    0.0        0.0       0.0        0.0       0.0\n",
       " 0.75   1.0        0.0       0.0        0.0       0.0\n",
       " 0.75  -0.0        1.0       0.0        0.0       0.0\n",
       " 1.0    0.333333  -0.333333  1.0        0.0       0.0\n",
       " 0.5   -0.333333  -0.777778  0.583333   1.0       0.0\n",
       " 1.0   -0.0       -0.0       0.5       -0.666667  1.0"
      ]
     },
     "metadata": {},
     "output_type": "display_data"
    },
    {
     "name": "stdout",
     "output_type": "stream",
     "text": [
      "U:\n",
      "\n"
     ]
    },
    {
     "data": {
      "text/plain": [
       "6×6 Matrix{Float64}:\n",
       " 4.0  20.0   38.0   70.0   89.0    82.0\n",
       " 0.0  -3.0  -13.5  -37.5  -48.75  -49.5\n",
       " 0.0   0.0   -4.5  -19.5  -30.75  -31.5\n",
       " 0.0   0.0    0.0   -8.0  -26.0   -30.0\n",
       " 0.0   0.0    0.0    0.0   -4.5   -13.5\n",
       " 0.0   0.0    0.0    0.0    0.0     6.0"
      ]
     },
     "metadata": {},
     "output_type": "display_data"
    },
    {
     "name": "stdout",
     "output_type": "stream",
     "text": [
      "LU:\n",
      "\n"
     ]
    },
    {
     "data": {
      "text/plain": [
       "6×6 Matrix{Float64}:\n",
       " 4.0  20.0  38.0  70.0  89.0  82.0\n",
       " 3.0  12.0  15.0  15.0  18.0  12.0\n",
       " 3.0  15.0  24.0  33.0  36.0  30.0\n",
       " 4.0  19.0  35.0  56.0  57.0  46.0\n",
       " 2.0  11.0  27.0  58.0  65.0  51.0\n",
       " 4.0  20.0  38.0  66.0  79.0  82.0"
      ]
     },
     "metadata": {},
     "output_type": "display_data"
    }
   ],
   "source": [
    "L = tril(A,-1) + UniformScaling(1)\n",
    "U = triu(A)\n",
    "println(\"L:\\n\")\n",
    "display(L)\n",
    "println(\"U:\\n\")\n",
    "display(U)\n",
    "println(\"LU:\\n\")\n",
    "display(L*U)"
   ]
  },
  {
   "cell_type": "markdown",
   "id": "03222856",
   "metadata": {},
   "source": [
    "Program to perform LU factorization with Full pivoting:-"
   ]
  },
  {
   "cell_type": "code",
   "execution_count": 6,
   "id": "42735c6e",
   "metadata": {},
   "outputs": [
    {
     "name": "stdout",
     "output_type": "stream",
     "text": [
      "matrix A=\n"
     ]
    },
    {
     "data": {
      "text/plain": [
       "6×6 Matrix{Float64}:\n",
       " 4.0  20.0  38.0  70.0  89.0  82.0\n",
       " 4.0  20.0  38.0  66.0  79.0  82.0\n",
       " 4.0  19.0  35.0  56.0  57.0  46.0\n",
       " 3.0  15.0  24.0  33.0  36.0  30.0\n",
       " 3.0  12.0  15.0  15.0  18.0  12.0\n",
       " 2.0  11.0  27.0  58.0  65.0  51.0"
      ]
     },
     "metadata": {},
     "output_type": "display_data"
    }
   ],
   "source": [
    "println(\"matrix A=\")\n",
    "display(A0)"
   ]
  },
  {
   "cell_type": "code",
   "execution_count": 7,
   "id": "36775fbd",
   "metadata": {},
   "outputs": [
    {
     "data": {
      "text/plain": [
       "getrfFull! (generic function with 1 method)"
      ]
     },
     "execution_count": 7,
     "metadata": {},
     "output_type": "execute_result"
    }
   ],
   "source": [
    "function getrfFull!(A)\n",
    "    # Full pivoting \n",
    "    n = size(A,1)\n",
    "    P_row = collect(1:n); P_col = collect(1:n);\n",
    "    for k=1:n-1\n",
    "        display(k)\n",
    "        # Full pivoting\n",
    "        index = findmax(abs.(A[k:end, k:end]))[2]\n",
    "        row = index[1]\n",
    "        col = index[2]\n",
    "        # If we reach this line, this means that the pivot is the largest\n",
    "        # in its row and column.\n",
    "        row += k-1; col += k-1\n",
    "        # Swap rows and columns\n",
    "        P_row[k], P_row[row] = P_row[row], P_row[k]\n",
    "        P_col[k], P_col[col] = P_col[col], P_col[k]\n",
    "        for j=1:n\n",
    "            A[k,j],A[row,j] = A[row,j],A[k,j]\n",
    "        end\n",
    "        for i=1:n\n",
    "            A[i,k],A[i,col] = A[i,col],A[i,k]\n",
    "        end\n",
    "        println(\"After swaping rows and columns\")\n",
    "        display(A)\n",
    "        # Perform usual LU step\n",
    "        if A[k,k] != 0\n",
    "            for i=k+1:n\n",
    "                A[i,k] /= A[k,k]\n",
    "            end\n",
    "            for j=k+1:n, i=k+1:n\n",
    "                A[i,j] -= A[i,k] * A[k,j]\n",
    "            end\n",
    "        end\n",
    "        println(\"matrix after L U factorization=\")\n",
    "        display(A)\n",
    "    end\n",
    "    return P_row, P_col\n",
    "end"
   ]
  },
  {
   "cell_type": "code",
   "execution_count": 8,
   "id": "892b7677",
   "metadata": {},
   "outputs": [
    {
     "data": {
      "text/plain": [
       "1"
      ]
     },
     "metadata": {},
     "output_type": "display_data"
    },
    {
     "name": "stdout",
     "output_type": "stream",
     "text": [
      "After swaping rows and columns\n"
     ]
    },
    {
     "data": {
      "text/plain": [
       "6×6 Matrix{Float64}:\n",
       "  89.0       20.0        38.0        70.0       4.0    82.0\n",
       " -48.75      -3.0       -13.5       -37.5       0.75  -49.5\n",
       " -30.75      -0.0        -4.5       -19.5       0.75  -31.5\n",
       " -26.0        0.333333   -0.333333   -8.0       1.0   -30.0\n",
       "  -4.5       -0.333333   -0.777778    0.583333  0.5   -13.5\n",
       "  -0.666667  -0.0        -0.0         0.5       1.0     6.0"
      ]
     },
     "metadata": {},
     "output_type": "display_data"
    },
    {
     "name": "stdout",
     "output_type": "stream",
     "text": [
      "matrix after L U factorization=\n"
     ]
    },
    {
     "data": {
      "text/plain": [
       "6×6 Matrix{Float64}:\n",
       " 89.0         20.0       38.0       70.0       4.0       82.0\n",
       " -0.547753     7.95506    7.31461    0.842697  2.94101   -4.58427\n",
       " -0.345506     6.91011    8.62921    4.68539   2.13202   -3.16854\n",
       " -0.292135     6.17603   10.7678    12.4494    2.16854   -6.04494\n",
       " -0.0505618    0.677903   1.14357    4.12266   0.702247  -9.35393\n",
       " -0.00749064   0.149813   0.284644   1.02434   1.02996    6.61423"
      ]
     },
     "metadata": {},
     "output_type": "display_data"
    },
    {
     "data": {
      "text/plain": [
       "2"
      ]
     },
     "metadata": {},
     "output_type": "display_data"
    },
    {
     "name": "stdout",
     "output_type": "stream",
     "text": [
      "After swaping rows and columns\n"
     ]
    },
    {
     "data": {
      "text/plain": [
       "6×6 Matrix{Float64}:\n",
       " 89.0         70.0       38.0       20.0       4.0       82.0\n",
       " -0.292135    12.4494    10.7678     6.17603   2.16854   -6.04494\n",
       " -0.345506     4.68539    8.62921    6.91011   2.13202   -3.16854\n",
       " -0.547753     0.842697   7.31461    7.95506   2.94101   -4.58427\n",
       " -0.0505618    4.12266    1.14357    0.677903  0.702247  -9.35393\n",
       " -0.00749064   1.02434    0.284644   0.149813  1.02996    6.61423"
      ]
     },
     "metadata": {},
     "output_type": "display_data"
    },
    {
     "name": "stdout",
     "output_type": "stream",
     "text": [
      "matrix after L U factorization=\n"
     ]
    },
    {
     "data": {
      "text/plain": [
       "6×6 Matrix{Float64}:\n",
       " 89.0         70.0        38.0       20.0        4.0        82.0\n",
       " -0.292135    12.4494     10.7678     6.17603    2.16854    -6.04494\n",
       " -0.345506     0.376354    4.57671    4.58574    1.31588    -0.893502\n",
       " -0.547753     0.0676895   6.58574    7.537      2.79422    -4.17509\n",
       " -0.0505618    0.331152   -2.42221   -1.3673    -0.0158694  -7.35214\n",
       " -0.00749064   0.0822804  -0.601334  -0.358353   0.851534    7.11161"
      ]
     },
     "metadata": {},
     "output_type": "display_data"
    },
    {
     "data": {
      "text/plain": [
       "3"
      ]
     },
     "metadata": {},
     "output_type": "display_data"
    },
    {
     "name": "stdout",
     "output_type": "stream",
     "text": [
      "After swaping rows and columns\n"
     ]
    },
    {
     "data": {
      "text/plain": [
       "6×6 Matrix{Float64}:\n",
       " 89.0         70.0        20.0       38.0        4.0        82.0\n",
       " -0.292135    12.4494      6.17603   10.7678     2.16854    -6.04494\n",
       " -0.547753     0.0676895   7.537      6.58574    2.79422    -4.17509\n",
       " -0.345506     0.376354    4.58574    4.57671    1.31588    -0.893502\n",
       " -0.0505618    0.331152   -1.3673    -2.42221   -0.0158694  -7.35214\n",
       " -0.00749064   0.0822804  -0.358353  -0.601334   0.851534    7.11161"
      ]
     },
     "metadata": {},
     "output_type": "display_data"
    },
    {
     "name": "stdout",
     "output_type": "stream",
     "text": [
      "matrix after L U factorization=\n"
     ]
    },
    {
     "data": {
      "text/plain": [
       "6×6 Matrix{Float64}:\n",
       " 89.0         70.0        20.0        38.0        4.0       82.0\n",
       " -0.292135    12.4494      6.17603    10.7678     2.16854   -6.04494\n",
       " -0.547753     0.0676895   7.537       6.58574    2.79422   -4.17509\n",
       " -0.345506     0.376354    0.60843     0.569752  -0.384205   1.64675\n",
       " -0.0505618    0.331152   -0.181412   -1.22747    0.491037  -8.10955\n",
       " -0.00749064   0.0822804  -0.0475459  -0.288209   0.984388   6.9131"
      ]
     },
     "metadata": {},
     "output_type": "display_data"
    },
    {
     "data": {
      "text/plain": [
       "4"
      ]
     },
     "metadata": {},
     "output_type": "display_data"
    },
    {
     "name": "stdout",
     "output_type": "stream",
     "text": [
      "After swaping rows and columns\n"
     ]
    },
    {
     "data": {
      "text/plain": [
       "6×6 Matrix{Float64}:\n",
       " 89.0         70.0        20.0        82.0       4.0       38.0\n",
       " -0.292135    12.4494      6.17603    -6.04494   2.16854   10.7678\n",
       " -0.547753     0.0676895   7.537      -4.17509   2.79422    6.58574\n",
       " -0.0505618    0.331152   -0.181412   -8.10955   0.491037  -1.22747\n",
       " -0.345506     0.376354    0.60843     1.64675  -0.384205   0.569752\n",
       " -0.00749064   0.0822804  -0.0475459   6.9131    0.984388  -0.288209"
      ]
     },
     "metadata": {},
     "output_type": "display_data"
    },
    {
     "name": "stdout",
     "output_type": "stream",
     "text": [
      "matrix after L U factorization=\n"
     ]
    },
    {
     "data": {
      "text/plain": [
       "6×6 Matrix{Float64}:\n",
       " 89.0         70.0        20.0        82.0        4.0       38.0\n",
       " -0.292135    12.4494      6.17603    -6.04494    2.16854   10.7678\n",
       " -0.547753     0.0676895   7.537      -4.17509    2.79422    6.58574\n",
       " -0.0505618    0.331152   -0.181412   -8.10955    0.491037  -1.22747\n",
       " -0.345506     0.376354    0.60843    -0.203063  -0.284494   0.320498\n",
       " -0.00749064   0.0822804  -0.0475459  -0.852465   1.40298   -1.33459"
      ]
     },
     "metadata": {},
     "output_type": "display_data"
    },
    {
     "data": {
      "text/plain": [
       "5"
      ]
     },
     "metadata": {},
     "output_type": "display_data"
    },
    {
     "name": "stdout",
     "output_type": "stream",
     "text": [
      "After swaping rows and columns\n"
     ]
    },
    {
     "data": {
      "text/plain": [
       "6×6 Matrix{Float64}:\n",
       " 89.0         70.0        20.0        82.0        4.0       38.0\n",
       " -0.292135    12.4494      6.17603    -6.04494    2.16854   10.7678\n",
       " -0.547753     0.0676895   7.537      -4.17509    2.79422    6.58574\n",
       " -0.0505618    0.331152   -0.181412   -8.10955    0.491037  -1.22747\n",
       " -0.00749064   0.0822804  -0.0475459  -0.852465   1.40298   -1.33459\n",
       " -0.345506     0.376354    0.60843    -0.203063  -0.284494   0.320498"
      ]
     },
     "metadata": {},
     "output_type": "display_data"
    },
    {
     "name": "stdout",
     "output_type": "stream",
     "text": [
      "matrix after L U factorization=\n"
     ]
    },
    {
     "data": {
      "text/plain": [
       "6×6 Matrix{Float64}:\n",
       " 89.0         70.0        20.0        82.0        4.0       38.0\n",
       " -0.292135    12.4494      6.17603    -6.04494    2.16854   10.7678\n",
       " -0.547753     0.0676895   7.537      -4.17509    2.79422    6.58574\n",
       " -0.0505618    0.331152   -0.181412   -8.10955    0.491037  -1.22747\n",
       " -0.00749064   0.0822804  -0.0475459  -0.852465   1.40298   -1.33459\n",
       " -0.345506     0.376354    0.60843    -0.203063  -0.202779   0.0498717"
      ]
     },
     "metadata": {},
     "output_type": "display_data"
    },
    {
     "data": {
      "text/plain": [
       "6×6 Matrix{Float64}:\n",
       " 89.0         70.0        20.0        82.0        4.0       38.0\n",
       " -0.292135    12.4494      6.17603    -6.04494    2.16854   10.7678\n",
       " -0.547753     0.0676895   7.537      -4.17509    2.79422    6.58574\n",
       " -0.0505618    0.331152   -0.181412   -8.10955    0.491037  -1.22747\n",
       " -0.00749064   0.0822804  -0.0475459  -0.852465   1.40298   -1.33459\n",
       " -0.345506     0.376354    0.60843    -0.203063  -0.202779   0.0498717"
      ]
     },
     "execution_count": 8,
     "metadata": {},
     "output_type": "execute_result"
    }
   ],
   "source": [
    "getrfFull!(A)\n",
    "A"
   ]
  },
  {
   "cell_type": "code",
   "execution_count": 9,
   "id": "8e80fb62",
   "metadata": {},
   "outputs": [
    {
     "name": "stdout",
     "output_type": "stream",
     "text": [
      "L:\n",
      "\n"
     ]
    },
    {
     "data": {
      "text/plain": [
       "6×6 Matrix{Float64}:\n",
       "  1.0         0.0         0.0         0.0        0.0       0.0\n",
       " -0.292135    1.0         0.0         0.0        0.0       0.0\n",
       " -0.547753    0.0676895   1.0         0.0        0.0       0.0\n",
       " -0.0505618   0.331152   -0.181412    1.0        0.0       0.0\n",
       " -0.00749064  0.0822804  -0.0475459  -0.852465   1.0       0.0\n",
       " -0.345506    0.376354    0.60843    -0.203063  -0.202779  1.0"
      ]
     },
     "metadata": {},
     "output_type": "display_data"
    },
    {
     "name": "stdout",
     "output_type": "stream",
     "text": [
      "U:\n",
      "\n"
     ]
    },
    {
     "data": {
      "text/plain": [
       "6×6 Matrix{Float64}:\n",
       " 89.0  70.0     20.0      82.0      4.0       38.0\n",
       "  0.0  12.4494   6.17603  -6.04494  2.16854   10.7678\n",
       "  0.0   0.0      7.537    -4.17509  2.79422    6.58574\n",
       "  0.0   0.0      0.0      -8.10955  0.491037  -1.22747\n",
       "  0.0   0.0      0.0       0.0      1.40298   -1.33459\n",
       "  0.0   0.0      0.0       0.0      0.0        0.0498717"
      ]
     },
     "metadata": {},
     "output_type": "display_data"
    },
    {
     "name": "stdout",
     "output_type": "stream",
     "text": [
      "LU:\n",
      "\n"
     ]
    },
    {
     "data": {
      "text/plain": [
       "6×6 Matrix{Float64}:\n",
       "  89.0        70.0       20.0           82.0  4.0    38.0\n",
       " -26.0        -8.0        0.333333     -30.0  1.0    -0.333333\n",
       " -48.75      -37.5       -3.0          -49.5  0.75  -13.5\n",
       "  -4.5         0.583333  -0.333333     -13.5  0.5    -0.777778\n",
       "  -0.666667    0.5        4.63755e-18    6.0  1.0     0.0\n",
       " -30.75      -19.5        3.60939e-16  -31.5  0.75   -4.5"
      ]
     },
     "metadata": {},
     "output_type": "display_data"
    }
   ],
   "source": [
    "L = tril(A,-1) + UniformScaling(1)\n",
    "U = triu(A)\n",
    "println(\"L:\\n\")\n",
    "display(L)\n",
    "println(\"U:\\n\")\n",
    "display(U)\n",
    "println(\"LU:\\n\")\n",
    "display(L*U)"
   ]
  },
  {
   "cell_type": "markdown",
   "id": "2c22fab1",
   "metadata": {},
   "source": [
    "Program to perform LU factorization with Rook pivoting:-"
   ]
  },
  {
   "cell_type": "code",
   "execution_count": 10,
   "id": "e588f3e0",
   "metadata": {},
   "outputs": [
    {
     "name": "stdout",
     "output_type": "stream",
     "text": [
      "matrix A=\n"
     ]
    },
    {
     "data": {
      "text/plain": [
       "6×6 Matrix{Float64}:\n",
       " 4.0  20.0  38.0  70.0  89.0  82.0\n",
       " 4.0  20.0  38.0  66.0  79.0  82.0\n",
       " 4.0  19.0  35.0  56.0  57.0  46.0\n",
       " 3.0  15.0  24.0  33.0  36.0  30.0\n",
       " 3.0  12.0  15.0  15.0  18.0  12.0\n",
       " 2.0  11.0  27.0  58.0  65.0  51.0"
      ]
     },
     "metadata": {},
     "output_type": "display_data"
    }
   ],
   "source": [
    "println(\"matrix A=\")\n",
    "display(B0)"
   ]
  },
  {
   "cell_type": "code",
   "execution_count": 11,
   "id": "76514a0e",
   "metadata": {},
   "outputs": [
    {
     "data": {
      "text/plain": [
       "getrfRook! (generic function with 1 method)"
      ]
     },
     "execution_count": 11,
     "metadata": {},
     "output_type": "execute_result"
    }
   ],
   "source": [
    "function getrfRook!(A)\n",
    "    # Rook pivoting for rank-revealing LU\n",
    "    n = size(A,1)\n",
    "    P_row = collect(1:n); P_col = collect(1:n);\n",
    "    for k=1:n\n",
    "        display(k)\n",
    "        # Rook pivoting\n",
    "        row = 1; row0 = 0; col = 1; col0 = 0\n",
    "        while row != row0 || col != col0\n",
    "            row0, col0 = row, col # Save old values\n",
    "            row_A = abs.(A[row+k-1, k:end]) # Search in pivots' row\n",
    "            col = argmax(row_A)\n",
    "            col_A = abs.(A[k:end, col+k-1]) # Search in pivot's column\n",
    "            row = argmax(col_A)\n",
    "        end\n",
    "        # If we reach this line, this means that the pivot is the largest\n",
    "        # in its row and column.\n",
    "        row += k-1; col += k-1\n",
    "        # Swap rows and columns\n",
    "        P_row[k], P_row[row] = P_row[row], P_row[k]\n",
    "        P_col[k], P_col[col] = P_col[col], P_col[k]\n",
    "        for j=1:n\n",
    "            A[k,j],A[row,j] = A[row,j],A[k,j]\n",
    "        end\n",
    "        for i=1:n\n",
    "            A[i,k],A[i,col] = A[i,col],A[i,k]\n",
    "        end\n",
    "        println(\"After swaping rows and columns\")\n",
    "        display(A)\n",
    "        # Perform usual LU step\n",
    "        if A[k,k] != 0\n",
    "            for i=k+1:n\n",
    "                A[i,k] /= A[k,k]\n",
    "            end\n",
    "            for j=k+1:n, i=k+1:n\n",
    "                A[i,j] -= A[i,k] * A[k,j]\n",
    "            end\n",
    "        end\n",
    "        println(\"matrix after L U factorization=\")\n",
    "        display(A)\n",
    "    end\n",
    "    return P_row, P_col\n",
    "end"
   ]
  },
  {
   "cell_type": "code",
   "execution_count": 12,
   "id": "9965302e",
   "metadata": {},
   "outputs": [
    {
     "data": {
      "text/plain": [
       "1"
      ]
     },
     "metadata": {},
     "output_type": "display_data"
    },
    {
     "name": "stdout",
     "output_type": "stream",
     "text": [
      "After swaping rows and columns\n"
     ]
    },
    {
     "data": {
      "text/plain": [
       "6×6 Matrix{Float64}:\n",
       " 89.0         70.0        20.0        82.0        4.0       38.0\n",
       " -0.292135    12.4494      6.17603    -6.04494    2.16854   10.7678\n",
       " -0.547753     0.0676895   7.537      -4.17509    2.79422    6.58574\n",
       " -0.0505618    0.331152   -0.181412   -8.10955    0.491037  -1.22747\n",
       " -0.00749064   0.0822804  -0.0475459  -0.852465   1.40298   -1.33459\n",
       " -0.345506     0.376354    0.60843    -0.203063  -0.202779   0.0498717"
      ]
     },
     "metadata": {},
     "output_type": "display_data"
    },
    {
     "name": "stdout",
     "output_type": "stream",
     "text": [
      "matrix after L U factorization=\n"
     ]
    },
    {
     "data": {
      "text/plain": [
       "6×6 Matrix{Float64}:\n",
       " 89.0         70.0        20.0        82.0        4.0       38.0\n",
       " -0.00328241  12.6792      6.24168    -5.77579    2.18167   10.8925\n",
       " -0.00615453   0.498506    7.66009    -3.67042    2.81884    6.81961\n",
       " -0.00056811   0.37092    -0.17005    -8.06296    0.493309  -1.20589\n",
       " -8.41645e-5   0.0881719  -0.0458626  -0.845563   1.40332   -1.33139\n",
       " -0.00388209   0.6481      0.686072    0.115268  -0.18725    0.197391"
      ]
     },
     "metadata": {},
     "output_type": "display_data"
    },
    {
     "data": {
      "text/plain": [
       "2"
      ]
     },
     "metadata": {},
     "output_type": "display_data"
    },
    {
     "name": "stdout",
     "output_type": "stream",
     "text": [
      "After swaping rows and columns\n"
     ]
    },
    {
     "data": {
      "text/plain": [
       "6×6 Matrix{Float64}:\n",
       " 89.0         70.0        20.0        82.0        4.0       38.0\n",
       " -0.00328241  12.6792      6.24168    -5.77579    2.18167   10.8925\n",
       " -0.00615453   0.498506    7.66009    -3.67042    2.81884    6.81961\n",
       " -0.00056811   0.37092    -0.17005    -8.06296    0.493309  -1.20589\n",
       " -8.41645e-5   0.0881719  -0.0458626  -0.845563   1.40332   -1.33139\n",
       " -0.00388209   0.6481      0.686072    0.115268  -0.18725    0.197391"
      ]
     },
     "metadata": {},
     "output_type": "display_data"
    },
    {
     "name": "stdout",
     "output_type": "stream",
     "text": [
      "matrix after L U factorization=\n"
     ]
    },
    {
     "data": {
      "text/plain": [
       "6×6 Matrix{Float64}:\n",
       " 89.0         70.0         20.0        82.0        4.0       38.0\n",
       " -0.00328241  12.6792       6.24168    -5.77579    2.18167   10.8925\n",
       " -0.00615453   0.0393168    7.41469    -3.44333    2.73307    6.39135\n",
       " -0.00056811   0.0292542   -0.352645   -7.894      0.429486  -1.52454\n",
       " -8.41645e-5   0.00695405  -0.0892676  -0.805398   1.38814   -1.40714\n",
       " -0.00388209   0.0511152    0.367027    0.410498  -0.298767  -0.359382"
      ]
     },
     "metadata": {},
     "output_type": "display_data"
    },
    {
     "data": {
      "text/plain": [
       "3"
      ]
     },
     "metadata": {},
     "output_type": "display_data"
    },
    {
     "name": "stdout",
     "output_type": "stream",
     "text": [
      "After swaping rows and columns\n"
     ]
    },
    {
     "data": {
      "text/plain": [
       "6×6 Matrix{Float64}:\n",
       " 89.0         70.0         20.0        82.0        4.0       38.0\n",
       " -0.00328241  12.6792       6.24168    -5.77579    2.18167   10.8925\n",
       " -0.00615453   0.0393168    7.41469    -3.44333    2.73307    6.39135\n",
       " -0.00056811   0.0292542   -0.352645   -7.894      0.429486  -1.52454\n",
       " -8.41645e-5   0.00695405  -0.0892676  -0.805398   1.38814   -1.40714\n",
       " -0.00388209   0.0511152    0.367027    0.410498  -0.298767  -0.359382"
      ]
     },
     "metadata": {},
     "output_type": "display_data"
    },
    {
     "name": "stdout",
     "output_type": "stream",
     "text": [
      "matrix after L U factorization=\n"
     ]
    },
    {
     "data": {
      "text/plain": [
       "6×6 Matrix{Float64}:\n",
       " 89.0         70.0         20.0        82.0        4.0       38.0\n",
       " -0.00328241  12.6792       6.24168    -5.77579    2.18167   10.8925\n",
       " -0.00615453   0.0393168    7.41469    -3.44333    2.73307    6.39135\n",
       " -0.00056811   0.0292542   -0.0475603  -8.05776    0.559471  -1.22056\n",
       " -8.41645e-5   0.00695405  -0.0120393  -0.846853   1.42105   -1.33019\n",
       " -0.00388209   0.0511152    0.0495      0.580943  -0.434053  -0.675754"
      ]
     },
     "metadata": {},
     "output_type": "display_data"
    },
    {
     "data": {
      "text/plain": [
       "4"
      ]
     },
     "metadata": {},
     "output_type": "display_data"
    },
    {
     "name": "stdout",
     "output_type": "stream",
     "text": [
      "After swaping rows and columns\n"
     ]
    },
    {
     "data": {
      "text/plain": [
       "6×6 Matrix{Float64}:\n",
       " 89.0         70.0         20.0        82.0        4.0       38.0\n",
       " -0.00328241  12.6792       6.24168    -5.77579    2.18167   10.8925\n",
       " -0.00615453   0.0393168    7.41469    -3.44333    2.73307    6.39135\n",
       " -0.00056811   0.0292542   -0.0475603  -8.05776    0.559471  -1.22056\n",
       " -8.41645e-5   0.00695405  -0.0120393  -0.846853   1.42105   -1.33019\n",
       " -0.00388209   0.0511152    0.0495      0.580943  -0.434053  -0.675754"
      ]
     },
     "metadata": {},
     "output_type": "display_data"
    },
    {
     "name": "stdout",
     "output_type": "stream",
     "text": [
      "matrix after L U factorization=\n"
     ]
    },
    {
     "data": {
      "text/plain": [
       "6×6 Matrix{Float64}:\n",
       " 89.0         70.0         20.0        82.0         4.0       38.0\n",
       " -0.00328241  12.6792       6.24168    -5.77579     2.18167   10.8925\n",
       " -0.00615453   0.0393168    7.41469    -3.44333     2.73307    6.39135\n",
       " -0.00056811   0.0292542   -0.0475603  -8.05776     0.559471  -1.22056\n",
       " -8.41645e-5   0.00695405  -0.0120393   0.105098    1.36225   -1.20191\n",
       " -0.00388209   0.0511152    0.0495     -0.0720974  -0.393717  -0.763754"
      ]
     },
     "metadata": {},
     "output_type": "display_data"
    },
    {
     "data": {
      "text/plain": [
       "5"
      ]
     },
     "metadata": {},
     "output_type": "display_data"
    },
    {
     "name": "stdout",
     "output_type": "stream",
     "text": [
      "After swaping rows and columns\n"
     ]
    },
    {
     "data": {
      "text/plain": [
       "6×6 Matrix{Float64}:\n",
       " 89.0         70.0         20.0        82.0         4.0       38.0\n",
       " -0.00328241  12.6792       6.24168    -5.77579     2.18167   10.8925\n",
       " -0.00615453   0.0393168    7.41469    -3.44333     2.73307    6.39135\n",
       " -0.00056811   0.0292542   -0.0475603  -8.05776     0.559471  -1.22056\n",
       " -8.41645e-5   0.00695405  -0.0120393   0.105098    1.36225   -1.20191\n",
       " -0.00388209   0.0511152    0.0495     -0.0720974  -0.393717  -0.763754"
      ]
     },
     "metadata": {},
     "output_type": "display_data"
    },
    {
     "name": "stdout",
     "output_type": "stream",
     "text": [
      "matrix after L U factorization=\n"
     ]
    },
    {
     "data": {
      "text/plain": [
       "6×6 Matrix{Float64}:\n",
       " 89.0         70.0         20.0        82.0         4.0       38.0\n",
       " -0.00328241  12.6792       6.24168    -5.77579     2.18167   10.8925\n",
       " -0.00615453   0.0393168    7.41469    -3.44333     2.73307    6.39135\n",
       " -0.00056811   0.0292542   -0.0475603  -8.05776     0.559471  -1.22056\n",
       " -8.41645e-5   0.00695405  -0.0120393   0.105098    1.36225   -1.20191\n",
       " -0.00388209   0.0511152    0.0495     -0.0720974  -0.28902   -1.11113"
      ]
     },
     "metadata": {},
     "output_type": "display_data"
    },
    {
     "data": {
      "text/plain": [
       "6"
      ]
     },
     "metadata": {},
     "output_type": "display_data"
    },
    {
     "name": "stdout",
     "output_type": "stream",
     "text": [
      "After swaping rows and columns\n"
     ]
    },
    {
     "data": {
      "text/plain": [
       "6×6 Matrix{Float64}:\n",
       " 89.0         70.0         20.0        82.0         4.0       38.0\n",
       " -0.00328241  12.6792       6.24168    -5.77579     2.18167   10.8925\n",
       " -0.00615453   0.0393168    7.41469    -3.44333     2.73307    6.39135\n",
       " -0.00056811   0.0292542   -0.0475603  -8.05776     0.559471  -1.22056\n",
       " -8.41645e-5   0.00695405  -0.0120393   0.105098    1.36225   -1.20191\n",
       " -0.00388209   0.0511152    0.0495     -0.0720974  -0.28902   -1.11113"
      ]
     },
     "metadata": {},
     "output_type": "display_data"
    },
    {
     "name": "stdout",
     "output_type": "stream",
     "text": [
      "matrix after L U factorization=\n"
     ]
    },
    {
     "data": {
      "text/plain": [
       "6×6 Matrix{Float64}:\n",
       " 89.0         70.0         20.0        82.0         4.0       38.0\n",
       " -0.00328241  12.6792       6.24168    -5.77579     2.18167   10.8925\n",
       " -0.00615453   0.0393168    7.41469    -3.44333     2.73307    6.39135\n",
       " -0.00056811   0.0292542   -0.0475603  -8.05776     0.559471  -1.22056\n",
       " -8.41645e-5   0.00695405  -0.0120393   0.105098    1.36225   -1.20191\n",
       " -0.00388209   0.0511152    0.0495     -0.0720974  -0.28902   -1.11113"
      ]
     },
     "metadata": {},
     "output_type": "display_data"
    },
    {
     "data": {
      "text/plain": [
       "6×6 Matrix{Float64}:\n",
       " 89.0         70.0         20.0        82.0         4.0       38.0\n",
       " -0.00328241  12.6792       6.24168    -5.77579     2.18167   10.8925\n",
       " -0.00615453   0.0393168    7.41469    -3.44333     2.73307    6.39135\n",
       " -0.00056811   0.0292542   -0.0475603  -8.05776     0.559471  -1.22056\n",
       " -8.41645e-5   0.00695405  -0.0120393   0.105098    1.36225   -1.20191\n",
       " -0.00388209   0.0511152    0.0495     -0.0720974  -0.28902   -1.11113"
      ]
     },
     "execution_count": 12,
     "metadata": {},
     "output_type": "execute_result"
    }
   ],
   "source": [
    "getrfRook!(A)\n",
    "A"
   ]
  },
  {
   "cell_type": "code",
   "execution_count": 13,
   "id": "ef005c18",
   "metadata": {},
   "outputs": [
    {
     "name": "stdout",
     "output_type": "stream",
     "text": [
      "L:\n",
      "\n"
     ]
    },
    {
     "data": {
      "text/plain": [
       "6×6 Matrix{Float64}:\n",
       "  1.0         0.0          0.0         0.0         0.0      0.0\n",
       " -0.00328241  1.0          0.0         0.0         0.0      0.0\n",
       " -0.00615453  0.0393168    1.0         0.0         0.0      0.0\n",
       " -0.00056811  0.0292542   -0.0475603   1.0         0.0      0.0\n",
       " -8.41645e-5  0.00695405  -0.0120393   0.105098    1.0      0.0\n",
       " -0.00388209  0.0511152    0.0495     -0.0720974  -0.28902  1.0"
      ]
     },
     "metadata": {},
     "output_type": "display_data"
    },
    {
     "name": "stdout",
     "output_type": "stream",
     "text": [
      "U:\n",
      "\n"
     ]
    },
    {
     "data": {
      "text/plain": [
       "6×6 Matrix{Float64}:\n",
       " 89.0  70.0     20.0      82.0      4.0       38.0\n",
       "  0.0  12.6792   6.24168  -5.77579  2.18167   10.8925\n",
       "  0.0   0.0      7.41469  -3.44333  2.73307    6.39135\n",
       "  0.0   0.0      0.0      -8.05776  0.559471  -1.22056\n",
       "  0.0   0.0      0.0       0.0      1.36225   -1.20191\n",
       "  0.0   0.0      0.0       0.0      0.0       -1.11113"
      ]
     },
     "metadata": {},
     "output_type": "display_data"
    },
    {
     "name": "stdout",
     "output_type": "stream",
     "text": [
      "LU:\n",
      "\n"
     ]
    },
    {
     "data": {
      "text/plain": [
       "6×6 Matrix{Float64}:\n",
       " 89.0         70.0        20.0        82.0        4.0       38.0\n",
       " -0.292135    12.4494      6.17603    -6.04494    2.16854   10.7678\n",
       " -0.547753     0.0676895   7.537      -4.17509    2.79422    6.58574\n",
       " -0.0505618    0.331152   -0.181412   -8.10955    0.491037  -1.22747\n",
       " -0.00749064   0.0822804  -0.0475459  -0.852465   1.40298   -1.33459\n",
       " -0.345506     0.376354    0.60843    -0.203063  -0.202779   0.0498717"
      ]
     },
     "metadata": {},
     "output_type": "display_data"
    }
   ],
   "source": [
    "L = tril(A,-1) + UniformScaling(1)\n",
    "U = triu(A)\n",
    "println(\"L:\\n\")\n",
    "display(L)\n",
    "println(\"U:\\n\")\n",
    "display(U)\n",
    "println(\"LU:\\n\")\n",
    "display(L*U)"
   ]
  }
 ],
 "metadata": {
  "kernelspec": {
   "display_name": "Julia 1.10.0",
   "language": "julia",
   "name": "julia-1.10"
  },
  "language_info": {
   "file_extension": ".jl",
   "mimetype": "application/julia",
   "name": "julia",
   "version": "1.10.0"
  }
 },
 "nbformat": 4,
 "nbformat_minor": 5
}
