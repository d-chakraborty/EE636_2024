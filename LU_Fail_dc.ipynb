{
 "cells": [
  {
   "cell_type": "markdown",
   "metadata": {},
   "source": [
    "Include relevant packages"
   ]
  },
  {
   "cell_type": "code",
   "execution_count": 1,
   "metadata": {},
   "outputs": [],
   "source": [
    "using LinearAlgebra\n",
    "using Random\n",
    "rng = MersenneTwister();"
   ]
  },
  {
   "cell_type": "markdown",
   "metadata": {},
   "source": [
    "Program to perform basic LU factorization without pivoting on a random 4x4 matrix - expanded code for class demo"
   ]
  },
  {
   "cell_type": "code",
   "execution_count": 2,
   "metadata": {},
   "outputs": [
    {
     "data": {
      "text/plain": [
       "\"L,U =\""
      ]
     },
     "metadata": {},
     "output_type": "display_data"
    },
    {
     "data": {
      "text/plain": [
       "4×4 Matrix{Float64}:\n",
       " 1.0  0.0  0.0  0.0\n",
       " 8.0  1.0  0.0  0.0\n",
       " 0.0  7.0  1.0  0.0\n",
       " 4.0  8.0  9.0  1.0"
      ]
     },
     "metadata": {},
     "output_type": "display_data"
    },
    {
     "data": {
      "text/plain": [
       "4×4 Matrix{Float64}:\n",
       " 1.0  2.0  7.0  6.0\n",
       " 0.0  9.0  9.0  3.0\n",
       " 0.0  0.0  6.0  4.0\n",
       " 0.0  0.0  0.0  2.0"
      ]
     },
     "metadata": {},
     "output_type": "display_data"
    },
    {
     "data": {
      "text/plain": [
       "\"A=\""
      ]
     },
     "metadata": {},
     "output_type": "display_data"
    },
    {
     "data": {
      "text/plain": [
       "4×4 Matrix{Float64}:\n",
       " 1.0   2.0    7.0   6.0\n",
       " 8.0  25.0   65.0  51.0\n",
       " 0.0  63.0   69.0  25.0\n",
       " 4.0  80.0  154.0  86.0"
      ]
     },
     "metadata": {},
     "output_type": "display_data"
    },
    {
     "data": {
      "text/plain": [
       "1"
      ]
     },
     "metadata": {},
     "output_type": "display_data"
    },
    {
     "data": {
      "text/plain": [
       "\"L=\""
      ]
     },
     "metadata": {},
     "output_type": "display_data"
    },
    {
     "data": {
      "text/plain": [
       "4×4 Matrix{Float64}:\n",
       " 1.0  0.0  0.0  0.0\n",
       " 8.0  1.0  0.0  0.0\n",
       " 0.0  1.0  1.0  0.0\n",
       " 4.0  1.0  1.0  1.0"
      ]
     },
     "metadata": {},
     "output_type": "display_data"
    },
    {
     "data": {
      "text/plain": [
       "\"U=\""
      ]
     },
     "metadata": {},
     "output_type": "display_data"
    },
    {
     "data": {
      "text/plain": [
       "4×4 Matrix{Float64}:\n",
       " 1.0   2.0    7.0   6.0\n",
       " 0.0   9.0    9.0   3.0\n",
       " 0.0  63.0   69.0  25.0\n",
       " 0.0  72.0  126.0  62.0"
      ]
     },
     "metadata": {},
     "output_type": "display_data"
    },
    {
     "data": {
      "text/plain": [
       "2"
      ]
     },
     "metadata": {},
     "output_type": "display_data"
    },
    {
     "data": {
      "text/plain": [
       "\"L=\""
      ]
     },
     "metadata": {},
     "output_type": "display_data"
    },
    {
     "data": {
      "text/plain": [
       "4×4 Matrix{Float64}:\n",
       " 1.0  0.0  0.0  0.0\n",
       " 8.0  1.0  0.0  0.0\n",
       " 0.0  7.0  1.0  0.0\n",
       " 4.0  8.0  1.0  1.0"
      ]
     },
     "metadata": {},
     "output_type": "display_data"
    },
    {
     "data": {
      "text/plain": [
       "\"U=\""
      ]
     },
     "metadata": {},
     "output_type": "display_data"
    },
    {
     "data": {
      "text/plain": [
       "4×4 Matrix{Float64}:\n",
       " 1.0  2.0   7.0   6.0\n",
       " 0.0  9.0   9.0   3.0\n",
       " 0.0  0.0   6.0   4.0\n",
       " 0.0  0.0  54.0  38.0"
      ]
     },
     "metadata": {},
     "output_type": "display_data"
    },
    {
     "data": {
      "text/plain": [
       "3"
      ]
     },
     "metadata": {},
     "output_type": "display_data"
    },
    {
     "data": {
      "text/plain": [
       "\"L=\""
      ]
     },
     "metadata": {},
     "output_type": "display_data"
    },
    {
     "data": {
      "text/plain": [
       "4×4 Matrix{Float64}:\n",
       " 1.0  0.0  0.0  0.0\n",
       " 8.0  1.0  0.0  0.0\n",
       " 0.0  7.0  1.0  0.0\n",
       " 4.0  8.0  9.0  1.0"
      ]
     },
     "metadata": {},
     "output_type": "display_data"
    },
    {
     "data": {
      "text/plain": [
       "\"U=\""
      ]
     },
     "metadata": {},
     "output_type": "display_data"
    },
    {
     "data": {
      "text/plain": [
       "4×4 Matrix{Float64}:\n",
       " 1.0  2.0  7.0  6.0\n",
       " 0.0  9.0  9.0  3.0\n",
       " 0.0  0.0  6.0  4.0\n",
       " 0.0  0.0  0.0  2.0"
      ]
     },
     "metadata": {},
     "output_type": "display_data"
    },
    {
     "name": "stdout",
     "output_type": "stream",
     "text": [
      "n = 4\n"
     ]
    }
   ],
   "source": [
    "Random.seed!(rng, 2018)\n",
    "\n",
    "# Size of the matrix\n",
    "n = 4;\n",
    "\n",
    "# Initialization of matrix A\n",
    "@show n\n",
    "L = zeros(Float64,n,n)\n",
    "U = zeros(Float64,n,n)\n",
    "for i=1:n\n",
    "    \n",
    "    U[i,i] = rand(rng,1:9)\n",
    "    U[i,i+1:n] = rand(rng, 0:9, n-i)\n",
    "    L[i,1:i] = rand(rng, 0:9, i)\n",
    "    L[i,i] = 1\n",
    "end\n",
    "#L[3, [1,3,4]] = [1,0,1]\n",
    "#L[4,[3,4]] = [1,0]\n",
    "display(\"L,U =\")\n",
    "display(L)\n",
    "display(U)\n",
    "A = L * U\n",
    "display(\"A=\")\n",
    "display(A)\n",
    "n = size(A,1)\n",
    "L_c = tril(ones(Float64,n,n))\n",
    "U_c = copy(A)\n",
    "for k=1:n-1\n",
    "    display(k)\n",
    "    @assert A[k,k] != 0\n",
    "    for i=k+1:n\n",
    "        L_c[i,k]=U_c[i,k]/U_c[k,k]\n",
    "    end\n",
    "\n",
    "    # Outer-product of column k and row k\n",
    "    for i=k+1:n\n",
    "        for j=k:n\n",
    "            U_c[i,j]= U_c[i,j] - L_c[i,k]*U_c[k,j]\n",
    "        end\n",
    "    end\n",
    "    display(\"L=\")\n",
    "    display(L_c)\n",
    "    display(\"U=\")\n",
    "    display(U_c)\n",
    "        \n",
    "end"
   ]
  },
  {
   "cell_type": "markdown",
   "metadata": {},
   "source": [
    "Program to perform basic LU factorization without pivoting on a random 4x4 matrix - rewriting on A for memory savings"
   ]
  },
  {
   "cell_type": "code",
   "execution_count": 3,
   "metadata": {},
   "outputs": [
    {
     "data": {
      "text/plain": [
       "\"L,U =\""
      ]
     },
     "metadata": {},
     "output_type": "display_data"
    },
    {
     "data": {
      "text/plain": [
       "4×4 Matrix{Float64}:\n",
       " 1.0  0.0  0.0  0.0\n",
       " 8.0  1.0  0.0  0.0\n",
       " 0.0  7.0  1.0  0.0\n",
       " 4.0  8.0  9.0  1.0"
      ]
     },
     "metadata": {},
     "output_type": "display_data"
    },
    {
     "data": {
      "text/plain": [
       "4×4 Matrix{Float64}:\n",
       " 1.0  2.0  7.0  6.0\n",
       " 0.0  9.0  9.0  3.0\n",
       " 0.0  0.0  6.0  4.0\n",
       " 0.0  0.0  0.0  2.0"
      ]
     },
     "metadata": {},
     "output_type": "display_data"
    },
    {
     "data": {
      "text/plain": [
       "\"A=\""
      ]
     },
     "metadata": {},
     "output_type": "display_data"
    },
    {
     "data": {
      "text/plain": [
       "4×4 Matrix{Float64}:\n",
       " 1.0   2.0    7.0   6.0\n",
       " 8.0  25.0   65.0  51.0\n",
       " 0.0  63.0   69.0  25.0\n",
       " 4.0  80.0  154.0  86.0"
      ]
     },
     "metadata": {},
     "output_type": "display_data"
    },
    {
     "data": {
      "text/plain": [
       "1"
      ]
     },
     "metadata": {},
     "output_type": "display_data"
    },
    {
     "data": {
      "text/plain": [
       "\"Ak=\""
      ]
     },
     "metadata": {},
     "output_type": "display_data"
    },
    {
     "data": {
      "text/plain": [
       "4×4 Matrix{Float64}:\n",
       " 1.0   2.0    7.0   6.0\n",
       " 8.0   9.0    9.0   3.0\n",
       " 0.0  63.0   69.0  25.0\n",
       " 4.0  72.0  126.0  62.0"
      ]
     },
     "metadata": {},
     "output_type": "display_data"
    },
    {
     "data": {
      "text/plain": [
       "2"
      ]
     },
     "metadata": {},
     "output_type": "display_data"
    },
    {
     "data": {
      "text/plain": [
       "\"Ak=\""
      ]
     },
     "metadata": {},
     "output_type": "display_data"
    },
    {
     "data": {
      "text/plain": [
       "4×4 Matrix{Float64}:\n",
       " 1.0  2.0   7.0   6.0\n",
       " 8.0  9.0   9.0   3.0\n",
       " 0.0  7.0   6.0   4.0\n",
       " 4.0  8.0  54.0  38.0"
      ]
     },
     "metadata": {},
     "output_type": "display_data"
    },
    {
     "data": {
      "text/plain": [
       "3"
      ]
     },
     "metadata": {},
     "output_type": "display_data"
    },
    {
     "data": {
      "text/plain": [
       "\"Ak=\""
      ]
     },
     "metadata": {},
     "output_type": "display_data"
    },
    {
     "data": {
      "text/plain": [
       "4×4 Matrix{Float64}:\n",
       " 1.0  2.0  7.0  6.0\n",
       " 8.0  9.0  9.0  3.0\n",
       " 0.0  7.0  6.0  4.0\n",
       " 4.0  8.0  9.0  2.0"
      ]
     },
     "metadata": {},
     "output_type": "display_data"
    },
    {
     "data": {
      "text/plain": [
       "4"
      ]
     },
     "metadata": {},
     "output_type": "display_data"
    },
    {
     "data": {
      "text/plain": [
       "\"Ak=\""
      ]
     },
     "metadata": {},
     "output_type": "display_data"
    },
    {
     "data": {
      "text/plain": [
       "4×4 Matrix{Float64}:\n",
       " 1.0  2.0  7.0  6.0\n",
       " 8.0  9.0  9.0  3.0\n",
       " 0.0  7.0  6.0  4.0\n",
       " 4.0  8.0  9.0  2.0"
      ]
     },
     "metadata": {},
     "output_type": "display_data"
    }
   ],
   "source": [
    "Random.seed!(rng, 2018)\n",
    "\n",
    "# Size of the matrix\n",
    "n = 4;\n",
    "\n",
    "# Initialization of matrix A\n",
    "#@show n\n",
    "L = zeros(Float64,n,n)\n",
    "U = zeros(Float64,n,n)\n",
    "for i=1:n\n",
    "    \n",
    "    U[i,i] = rand(rng,1:9)\n",
    "    U[i,i+1:n] = rand(rng, 0:9, n-i)\n",
    "    L[i,1:i] = rand(rng, 0:9, i)\n",
    "    L[i,i] = 1\n",
    "end\n",
    "#L[3, [1,3,4]] = [1,0,1]\n",
    "#L[4,[3,4]] = [1,0]\n",
    "display(\"L,U =\")\n",
    "display(L)\n",
    "display(U)\n",
    "A = L * U\n",
    "display(\"A=\")\n",
    "display(A)\n",
    "n = size(A,1)\n",
    "\n",
    "for k=1:n\n",
    "    display(k)\n",
    "    @assert A[k,k] != 0\n",
    "    for i=k+1:n\n",
    "        A[i,k] /= A[k,k]\n",
    "    end\n",
    "\n",
    "    # Outer-product of column k and row k\n",
    "    for i=k+1:n\n",
    "        for j=k+1:n\n",
    "            A[i,j] -= A[i,k] * A[k,j]\n",
    "        end\n",
    "    end\n",
    "    display(\"Ak=\")\n",
    "    display(A)\n",
    "    \n",
    "        \n",
    "end"
   ]
  },
  {
   "cell_type": "markdown",
   "metadata": {},
   "source": [
    "Small Pivots - instability of LU"
   ]
  },
  {
   "cell_type": "code",
   "execution_count": 7,
   "metadata": {},
   "outputs": [
    {
     "data": {
      "text/plain": [
       "1"
      ]
     },
     "metadata": {},
     "output_type": "display_data"
    },
    {
     "data": {
      "text/plain": [
       "\"Ak=\""
      ]
     },
     "metadata": {},
     "output_type": "display_data"
    },
    {
     "data": {
      "text/plain": [
       "2×2 Matrix{Float64}:\n",
       " 1.0e-14   1.0\n",
       " 1.0e14   -1.0e14"
      ]
     },
     "metadata": {},
     "output_type": "display_data"
    },
    {
     "data": {
      "text/plain": [
       "2"
      ]
     },
     "metadata": {},
     "output_type": "display_data"
    },
    {
     "data": {
      "text/plain": [
       "\"Ak=\""
      ]
     },
     "metadata": {},
     "output_type": "display_data"
    },
    {
     "data": {
      "text/plain": [
       "2×2 Matrix{Float64}:\n",
       " 1.0e-14   1.0\n",
       " 1.0e14   -1.0e14"
      ]
     },
     "metadata": {},
     "output_type": "display_data"
    },
    {
     "name": "stdout",
     "output_type": "stream",
     "text": [
      "L:\n",
      "[1.0 0.0; 1.0e14 1.0]\n",
      "U:\n",
      "[1.0e-14 1.0; 0.0 -9.999999999999686e13]\n",
      "LU:\n",
      "[1.0e-14 1.0; 1.0 3.140625]\n",
      "A:\n",
      "[1.0e-14 1.0; 1.0 3.141592653589793]\n"
     ]
    }
   ],
   "source": [
    "n = 2\n",
    "ϵ = 1e-14\n",
    "# ϵ = 1e-17 # Type \\epsilon [TAB]\n",
    "# ϵ = 64.0 * eps(Float64) / π \n",
    "# ϵ = eps(Float64) / π \n",
    "# ϵ = 0.25 * eps(Float64) / π\n",
    "A = [ϵ 1; 1 π] # Type \\pi [TAB]\n",
    "#A= [1 π;ϵ 1]\n",
    "A0 = copy(A)\n",
    "n = size(A,1)\n",
    "\n",
    "for k=1:n\n",
    "    display(k)\n",
    "    @assert A[k,k] != 0\n",
    "    for i=k+1:n\n",
    "        A[i,k] /= A[k,k]\n",
    "    end\n",
    "\n",
    "    # Outer-product of column k and row k\n",
    "    for i=k+1:n\n",
    "        for j=k+1:n\n",
    "            A[i,j] -= A[i,k] * A[k,j]\n",
    "        end\n",
    "    end\n",
    "    display(\"Ak=\")\n",
    "    display(A)\n",
    "end\n",
    "L = tril(A,-1) + UniformScaling(1)\n",
    "U = triu(A)\n",
    "println(\"L:\\n\",L)\n",
    "println(\"U:\\n\",U)\n",
    "println(\"LU:\\n\",L*U)\n",
    "println(\"A:\\n\",A0)"
   ]
  }
 ],
 "metadata": {
  "@webio": {
   "lastCommId": null,
   "lastKernelId": null
  },
  "anaconda-cloud": {},
  "kernelspec": {
   "display_name": "Julia 1.9.4",
   "language": "julia",
   "name": "julia-1.9"
  },
  "language_info": {
   "file_extension": ".jl",
   "mimetype": "application/julia",
   "name": "julia",
   "version": "1.9.4"
  }
 },
 "nbformat": 4,
 "nbformat_minor": 4
}
