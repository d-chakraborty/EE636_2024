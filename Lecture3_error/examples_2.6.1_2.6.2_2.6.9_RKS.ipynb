{
 "cells": [
  {
   "cell_type": "code",
   "execution_count": 1,
   "id": "082b2f60",
   "metadata": {},
   "outputs": [
    {
     "data": {
      "text/plain": [
       "false"
      ]
     },
     "execution_count": 1,
     "metadata": {},
     "output_type": "execute_result"
    }
   ],
   "source": [
    "using LinearAlgebra\n",
    "using Random\n",
    "rng = MersenneTwister()\n",
    "Random.seed!(rng, 2018)\n",
    "output = false"
   ]
  },
  {
   "cell_type": "code",
   "execution_count": 2,
   "id": "deb3b10d",
   "metadata": {},
   "outputs": [
    {
     "data": {
      "text/plain": [
       "pivoting (generic function with 1 method)"
      ]
     },
     "execution_count": 2,
     "metadata": {},
     "output_type": "execute_result"
    }
   ],
   "source": [
    "# Uses partial pivoting\n",
    "function pivoting(A)\n",
    "n = size(A,1)\n",
    "    P = collect(1:n)\n",
    "    for k=1:n\n",
    "    display(\"k=\")\n",
    "    display(k)\n",
    "        # Find pivot\n",
    "        imx = k - 1 + argmax( abs.(A[k:end,k]) ) # row with largest entry\n",
    "        # Swap rows\n",
    "        for j=1:n\n",
    "            A[k,j],A[imx,j] = A[imx,j],A[k,j]\n",
    "        end\n",
    "        P[[k,imx]] = P[[imx,k]]\n",
    "       display(\"After swapping rows and columns\")\n",
    "       display(A)\n",
    "        # Proceed with factorization\n",
    "        for i=k+1:n\n",
    "            A[i,k] /= A[k,k]\n",
    "        end\n",
    "\n",
    "        for j=k+1:n, i=k+1:n\n",
    "            A[i,j] -= A[i,k] * A[k,j]\n",
    "        end\n",
    "    display(\"After LU factorisation\")\n",
    "    display(A)\n",
    "    end\n",
    "    display(\"P=\")\n",
    "    return(P)\n",
    "end\n"
   ]
  },
  {
   "cell_type": "markdown",
   "id": "8f0f3eda",
   "metadata": {},
   "source": [
    "**Example 2.6.1 [Watkins, third edition]: This example demostrate that it is impossible to to distinguish between ill-conditioned matrices and singular matrices**"
   ]
  },
  {
   "cell_type": "code",
   "execution_count": 3,
   "id": "12883d91",
   "metadata": {},
   "outputs": [
    {
     "name": "stdout",
     "output_type": "stream",
     "text": [
      "A1=\n"
     ]
    },
    {
     "data": {
      "text/plain": [
       "2×2 Matrix{Float64}:\n",
       " 1000.0  999.0\n",
       "  999.0  998.0"
      ]
     },
     "metadata": {},
     "output_type": "display_data"
    },
    {
     "data": {
      "text/plain": [
       "\"k=\""
      ]
     },
     "metadata": {},
     "output_type": "display_data"
    },
    {
     "data": {
      "text/plain": [
       "1"
      ]
     },
     "metadata": {},
     "output_type": "display_data"
    },
    {
     "data": {
      "text/plain": [
       "\"After swapping rows and columns\""
      ]
     },
     "metadata": {},
     "output_type": "display_data"
    },
    {
     "data": {
      "text/plain": [
       "2×2 Matrix{Float64}:\n",
       " 1000.0  999.0\n",
       "  999.0  998.0"
      ]
     },
     "metadata": {},
     "output_type": "display_data"
    },
    {
     "data": {
      "text/plain": [
       "\"After LU factorisation\""
      ]
     },
     "metadata": {},
     "output_type": "display_data"
    },
    {
     "data": {
      "text/plain": [
       "2×2 Matrix{Float64}:\n",
       " 1000.0    999.0\n",
       "    0.999   -0.001"
      ]
     },
     "metadata": {},
     "output_type": "display_data"
    },
    {
     "data": {
      "text/plain": [
       "\"k=\""
      ]
     },
     "metadata": {},
     "output_type": "display_data"
    },
    {
     "data": {
      "text/plain": [
       "2"
      ]
     },
     "metadata": {},
     "output_type": "display_data"
    },
    {
     "data": {
      "text/plain": [
       "\"After swapping rows and columns\""
      ]
     },
     "metadata": {},
     "output_type": "display_data"
    },
    {
     "data": {
      "text/plain": [
       "2×2 Matrix{Float64}:\n",
       " 1000.0    999.0\n",
       "    0.999   -0.001"
      ]
     },
     "metadata": {},
     "output_type": "display_data"
    },
    {
     "data": {
      "text/plain": [
       "\"After LU factorisation\""
      ]
     },
     "metadata": {},
     "output_type": "display_data"
    },
    {
     "data": {
      "text/plain": [
       "2×2 Matrix{Float64}:\n",
       " 1000.0    999.0\n",
       "    0.999   -0.001"
      ]
     },
     "metadata": {},
     "output_type": "display_data"
    },
    {
     "data": {
      "text/plain": [
       "\"P=\""
      ]
     },
     "metadata": {},
     "output_type": "display_data"
    },
    {
     "data": {
      "text/plain": [
       "2-element Vector{Int64}:\n",
       " 1\n",
       " 2"
      ]
     },
     "execution_count": 3,
     "metadata": {},
     "output_type": "execute_result"
    }
   ],
   "source": [
    "#example 2.6.1\n",
    "A1 = float([1000 999; 999 998])\n",
    "println(\"A1=\")\n",
    "display(A1)\n",
    "pivoting(A1)"
   ]
  },
  {
   "cell_type": "code",
   "execution_count": 4,
   "id": "54fedfc3",
   "metadata": {},
   "outputs": [
    {
     "data": {
      "text/plain": [
       "\"k=\""
      ]
     },
     "metadata": {},
     "output_type": "display_data"
    },
    {
     "data": {
      "text/plain": [
       "1"
      ]
     },
     "metadata": {},
     "output_type": "display_data"
    },
    {
     "data": {
      "text/plain": [
       "\"After swapping rows and columns\""
      ]
     },
     "metadata": {},
     "output_type": "display_data"
    },
    {
     "data": {
      "text/plain": [
       "2×2 Matrix{BigFloat}:\n",
       " 1000.0  999.0\n",
       "  999.0  998.0"
      ]
     },
     "metadata": {},
     "output_type": "display_data"
    },
    {
     "data": {
      "text/plain": [
       "\"After LU factorisation\""
      ]
     },
     "metadata": {},
     "output_type": "display_data"
    },
    {
     "data": {
      "text/plain": [
       "2×2 Matrix{BigFloat}:\n",
       " 1000.0       999.0\n",
       "    0.999001    0.0"
      ]
     },
     "metadata": {},
     "output_type": "display_data"
    },
    {
     "data": {
      "text/plain": [
       "\"k=\""
      ]
     },
     "metadata": {},
     "output_type": "display_data"
    },
    {
     "data": {
      "text/plain": [
       "2"
      ]
     },
     "metadata": {},
     "output_type": "display_data"
    },
    {
     "data": {
      "text/plain": [
       "\"After swapping rows and columns\""
      ]
     },
     "metadata": {},
     "output_type": "display_data"
    },
    {
     "data": {
      "text/plain": [
       "2×2 Matrix{BigFloat}:\n",
       " 1000.0       999.0\n",
       "    0.999001    0.0"
      ]
     },
     "metadata": {},
     "output_type": "display_data"
    },
    {
     "data": {
      "text/plain": [
       "\"After LU factorisation\""
      ]
     },
     "metadata": {},
     "output_type": "display_data"
    },
    {
     "data": {
      "text/plain": [
       "2×2 Matrix{BigFloat}:\n",
       " 1000.0       999.0\n",
       "    0.999001    0.0"
      ]
     },
     "metadata": {},
     "output_type": "display_data"
    },
    {
     "data": {
      "text/plain": [
       "\"P=\""
      ]
     },
     "metadata": {},
     "output_type": "display_data"
    },
    {
     "data": {
      "text/plain": [
       "2-element Vector{Int64}:\n",
       " 1\n",
       " 2"
      ]
     },
     "execution_count": 4,
     "metadata": {},
     "output_type": "execute_result"
    }
   ],
   "source": [
    "setprecision(BigFloat,5,base=10)\n",
    "A1 = [BigFloat(1000) BigFloat(999); BigFloat(999) BigFloat(998)]\n",
    "pivoting(A1)"
   ]
  },
  {
   "cell_type": "markdown",
   "id": "57839549",
   "metadata": {},
   "source": [
    "**Example 2.6.2: This example shows that the distinction between good and bad rows is not always clear. It can happen that the accuracy of a computation deteriorates gradually over a number of steps.**"
   ]
  },
  {
   "cell_type": "code",
   "execution_count": 5,
   "id": "8df11f67",
   "metadata": {},
   "outputs": [
    {
     "data": {
      "text/plain": [
       "\"k=\""
      ]
     },
     "metadata": {},
     "output_type": "display_data"
    },
    {
     "data": {
      "text/plain": [
       "1"
      ]
     },
     "metadata": {},
     "output_type": "display_data"
    },
    {
     "data": {
      "text/plain": [
       "\"After swapping rows and columns\""
      ]
     },
     "metadata": {},
     "output_type": "display_data"
    },
    {
     "data": {
      "text/plain": [
       "4×4 Matrix{Rational{Int64}}:\n",
       "  1    1//2  1//3  1//4\n",
       " 1//2  1//3  1//4  1//5\n",
       " 1//3  1//4  1//5  1//6\n",
       " 1//4  1//5  1//6  1//7"
      ]
     },
     "metadata": {},
     "output_type": "display_data"
    },
    {
     "data": {
      "text/plain": [
       "\"After LU factorisation\""
      ]
     },
     "metadata": {},
     "output_type": "display_data"
    },
    {
     "data": {
      "text/plain": [
       "4×4 Matrix{Rational{Int64}}:\n",
       "  1    1//2   1//3   1//4\n",
       " 1//2  1//12  1//12  3//40\n",
       " 1//3  1//12  4//45  1//12\n",
       " 1//4  3//40  1//12  9//112"
      ]
     },
     "metadata": {},
     "output_type": "display_data"
    },
    {
     "data": {
      "text/plain": [
       "\"k=\""
      ]
     },
     "metadata": {},
     "output_type": "display_data"
    },
    {
     "data": {
      "text/plain": [
       "2"
      ]
     },
     "metadata": {},
     "output_type": "display_data"
    },
    {
     "data": {
      "text/plain": [
       "\"After swapping rows and columns\""
      ]
     },
     "metadata": {},
     "output_type": "display_data"
    },
    {
     "data": {
      "text/plain": [
       "4×4 Matrix{Rational{Int64}}:\n",
       "  1    1//2   1//3   1//4\n",
       " 1//2  1//12  1//12  3//40\n",
       " 1//3  1//12  4//45  1//12\n",
       " 1//4  3//40  1//12  9//112"
      ]
     },
     "metadata": {},
     "output_type": "display_data"
    },
    {
     "data": {
      "text/plain": [
       "\"After LU factorisation\""
      ]
     },
     "metadata": {},
     "output_type": "display_data"
    },
    {
     "data": {
      "text/plain": [
       "4×4 Matrix{Rational{Int64}}:\n",
       "  1    1//2   1//3    1//4\n",
       " 1//2  1//12  1//12   3//40\n",
       " 1//3   1     1//180  1//120\n",
       " 1//4  9//10  1//120  9//700"
      ]
     },
     "metadata": {},
     "output_type": "display_data"
    },
    {
     "data": {
      "text/plain": [
       "\"k=\""
      ]
     },
     "metadata": {},
     "output_type": "display_data"
    },
    {
     "data": {
      "text/plain": [
       "3"
      ]
     },
     "metadata": {},
     "output_type": "display_data"
    },
    {
     "data": {
      "text/plain": [
       "\"After swapping rows and columns\""
      ]
     },
     "metadata": {},
     "output_type": "display_data"
    },
    {
     "data": {
      "text/plain": [
       "4×4 Matrix{Rational{Int64}}:\n",
       "  1    1//2   1//3    1//4\n",
       " 1//2  1//12  1//12   3//40\n",
       " 1//4  9//10  1//120  9//700\n",
       " 1//3   1     1//180  1//120"
      ]
     },
     "metadata": {},
     "output_type": "display_data"
    },
    {
     "data": {
      "text/plain": [
       "\"After LU factorisation\""
      ]
     },
     "metadata": {},
     "output_type": "display_data"
    },
    {
     "data": {
      "text/plain": [
       "4×4 Matrix{Rational{Int64}}:\n",
       "  1    1//2   1//3     1//4\n",
       " 1//2  1//12  1//12    3//40\n",
       " 1//4  9//10  1//120   9//700\n",
       " 1//3   1     2//3    -1//4200"
      ]
     },
     "metadata": {},
     "output_type": "display_data"
    },
    {
     "data": {
      "text/plain": [
       "\"k=\""
      ]
     },
     "metadata": {},
     "output_type": "display_data"
    },
    {
     "data": {
      "text/plain": [
       "4"
      ]
     },
     "metadata": {},
     "output_type": "display_data"
    },
    {
     "data": {
      "text/plain": [
       "\"After swapping rows and columns\""
      ]
     },
     "metadata": {},
     "output_type": "display_data"
    },
    {
     "data": {
      "text/plain": [
       "4×4 Matrix{Rational{Int64}}:\n",
       "  1    1//2   1//3     1//4\n",
       " 1//2  1//12  1//12    3//40\n",
       " 1//4  9//10  1//120   9//700\n",
       " 1//3   1     2//3    -1//4200"
      ]
     },
     "metadata": {},
     "output_type": "display_data"
    },
    {
     "data": {
      "text/plain": [
       "\"After LU factorisation\""
      ]
     },
     "metadata": {},
     "output_type": "display_data"
    },
    {
     "data": {
      "text/plain": [
       "4×4 Matrix{Rational{Int64}}:\n",
       "  1    1//2   1//3     1//4\n",
       " 1//2  1//12  1//12    3//40\n",
       " 1//4  9//10  1//120   9//700\n",
       " 1//3   1     2//3    -1//4200"
      ]
     },
     "metadata": {},
     "output_type": "display_data"
    },
    {
     "data": {
      "text/plain": [
       "\"P=\""
      ]
     },
     "metadata": {},
     "output_type": "display_data"
    },
    {
     "data": {
      "text/plain": [
       "4-element Vector{Int64}:\n",
       " 1\n",
       " 2\n",
       " 4\n",
       " 3"
      ]
     },
     "execution_count": 5,
     "metadata": {},
     "output_type": "execute_result"
    }
   ],
   "source": [
    "#example 2.6.2\n",
    "A2 = [1 1//2 1//3 1//4; 1//2 1//3 1//4 1//5; 1//3 1//4 1//5 1//6; 1//4 1//5 1//6 1//7]\n",
    "pivoting(A2)"
   ]
  },
  {
   "cell_type": "code",
   "execution_count": 6,
   "id": "1bff22f2",
   "metadata": {},
   "outputs": [
    {
     "data": {
      "text/plain": [
       "\"k=\""
      ]
     },
     "metadata": {},
     "output_type": "display_data"
    },
    {
     "data": {
      "text/plain": [
       "1"
      ]
     },
     "metadata": {},
     "output_type": "display_data"
    },
    {
     "data": {
      "text/plain": [
       "\"After swapping rows and columns\""
      ]
     },
     "metadata": {},
     "output_type": "display_data"
    },
    {
     "data": {
      "text/plain": [
       "4×4 Matrix{BigFloat}:\n",
       " 1.0       0.5       0.333496  0.25\n",
       " 0.5       0.333496  0.25      0.199951\n",
       " 0.333496  0.25      0.199951  0.166748\n",
       " 0.25      0.199951  0.166748  0.142822"
      ]
     },
     "metadata": {},
     "output_type": "display_data"
    },
    {
     "data": {
      "text/plain": [
       "\"After LU factorisation\""
      ]
     },
     "metadata": {},
     "output_type": "display_data"
    },
    {
     "data": {
      "text/plain": [
       "4×4 Matrix{BigFloat}:\n",
       " 1.0       0.5        0.333496   0.25\n",
       " 0.5       0.0834961  0.083252   0.0749512\n",
       " 0.333496  0.083252   0.0887451  0.083374\n",
       " 0.25      0.0749512  0.083374   0.0803223"
      ]
     },
     "metadata": {},
     "output_type": "display_data"
    },
    {
     "data": {
      "text/plain": [
       "\"k=\""
      ]
     },
     "metadata": {},
     "output_type": "display_data"
    },
    {
     "data": {
      "text/plain": [
       "2"
      ]
     },
     "metadata": {},
     "output_type": "display_data"
    },
    {
     "data": {
      "text/plain": [
       "\"After swapping rows and columns\""
      ]
     },
     "metadata": {},
     "output_type": "display_data"
    },
    {
     "data": {
      "text/plain": [
       "4×4 Matrix{BigFloat}:\n",
       " 1.0       0.5        0.333496   0.25\n",
       " 0.5       0.0834961  0.083252   0.0749512\n",
       " 0.333496  0.083252   0.0887451  0.083374\n",
       " 0.25      0.0749512  0.083374   0.0803223"
      ]
     },
     "metadata": {},
     "output_type": "display_data"
    },
    {
     "data": {
      "text/plain": [
       "\"After LU factorisation\""
      ]
     },
     "metadata": {},
     "output_type": "display_data"
    },
    {
     "data": {
      "text/plain": [
       "4×4 Matrix{BigFloat}:\n",
       " 1.0       0.5        0.333496    0.25\n",
       " 0.5       0.0834961  0.083252    0.0749512\n",
       " 0.333496  0.99707    0.0057373   0.00866699\n",
       " 0.25      0.897461   0.00866699  0.0130615"
      ]
     },
     "metadata": {},
     "output_type": "display_data"
    },
    {
     "data": {
      "text/plain": [
       "\"k=\""
      ]
     },
     "metadata": {},
     "output_type": "display_data"
    },
    {
     "data": {
      "text/plain": [
       "3"
      ]
     },
     "metadata": {},
     "output_type": "display_data"
    },
    {
     "data": {
      "text/plain": [
       "\"After swapping rows and columns\""
      ]
     },
     "metadata": {},
     "output_type": "display_data"
    },
    {
     "data": {
      "text/plain": [
       "4×4 Matrix{BigFloat}:\n",
       " 1.0       0.5        0.333496    0.25\n",
       " 0.5       0.0834961  0.083252    0.0749512\n",
       " 0.25      0.897461   0.00866699  0.0130615\n",
       " 0.333496  0.99707    0.0057373   0.00866699"
      ]
     },
     "metadata": {},
     "output_type": "display_data"
    },
    {
     "data": {
      "text/plain": [
       "\"After LU factorisation\""
      ]
     },
     "metadata": {},
     "output_type": "display_data"
    },
    {
     "data": {
      "text/plain": [
       "4×4 Matrix{BigFloat}:\n",
       " 1.0       0.5        0.333496    0.25\n",
       " 0.5       0.0834961  0.083252    0.0749512\n",
       " 0.25      0.897461   0.00866699  0.0130615\n",
       " 0.333496  0.99707    0.662109    1.52588e-05"
      ]
     },
     "metadata": {},
     "output_type": "display_data"
    },
    {
     "data": {
      "text/plain": [
       "\"k=\""
      ]
     },
     "metadata": {},
     "output_type": "display_data"
    },
    {
     "data": {
      "text/plain": [
       "4"
      ]
     },
     "metadata": {},
     "output_type": "display_data"
    },
    {
     "data": {
      "text/plain": [
       "\"After swapping rows and columns\""
      ]
     },
     "metadata": {},
     "output_type": "display_data"
    },
    {
     "data": {
      "text/plain": [
       "4×4 Matrix{BigFloat}:\n",
       " 1.0       0.5        0.333496    0.25\n",
       " 0.5       0.0834961  0.083252    0.0749512\n",
       " 0.25      0.897461   0.00866699  0.0130615\n",
       " 0.333496  0.99707    0.662109    1.52588e-05"
      ]
     },
     "metadata": {},
     "output_type": "display_data"
    },
    {
     "data": {
      "text/plain": [
       "\"After LU factorisation\""
      ]
     },
     "metadata": {},
     "output_type": "display_data"
    },
    {
     "data": {
      "text/plain": [
       "4×4 Matrix{BigFloat}:\n",
       " 1.0       0.5        0.333496    0.25\n",
       " 0.5       0.0834961  0.083252    0.0749512\n",
       " 0.25      0.897461   0.00866699  0.0130615\n",
       " 0.333496  0.99707    0.662109    1.52588e-05"
      ]
     },
     "metadata": {},
     "output_type": "display_data"
    },
    {
     "data": {
      "text/plain": [
       "\"P=\""
      ]
     },
     "metadata": {},
     "output_type": "display_data"
    },
    {
     "data": {
      "text/plain": [
       "4-element Vector{Int64}:\n",
       " 1\n",
       " 2\n",
       " 4\n",
       " 3"
      ]
     },
     "execution_count": 6,
     "metadata": {},
     "output_type": "execute_result"
    }
   ],
   "source": [
    "setprecision(BigFloat,3,base=10)\n",
    "A2 = [BigFloat(1) BigFloat(1//2) BigFloat(1//3) BigFloat(1//4); BigFloat(1//2) BigFloat(1//3) BigFloat(1//4) BigFloat(1//5); BigFloat(1//3) BigFloat(1//4) BigFloat(1//5) BigFloat(1//6); BigFloat(1//4) BigFloat(1//5) BigFloat(1//6) BigFloat(1//7)]\n",
    "pivoting(A2)"
   ]
  },
  {
   "cell_type": "code",
   "execution_count": 7,
   "id": "eb65e4df",
   "metadata": {},
   "outputs": [
    {
     "data": {
      "text/plain": [
       "getrfOuter! (generic function with 1 method)"
      ]
     },
     "execution_count": 7,
     "metadata": {},
     "output_type": "execute_result"
    }
   ],
   "source": [
    "#without pivoting\n",
    "function getrfOuter!(A)\n",
    "    n = size(A,1)\n",
    "    for k=1:n\n",
    "       # setprecision(BigFloat,5,base=10)\n",
    "        display(\"k\")\n",
    "        display(k)\n",
    "        @assert A[k,k] != 0\n",
    "        for i=k+1:n\n",
    "            A[i,k] /= A[k,k]\n",
    "            \n",
    "        end\n",
    "\n",
    "        # Outer-product of column k and row k\n",
    "        for i=k+1:n\n",
    "            for j=k+1:n\n",
    "                A[i,j] -= A[i,k] * A[k,j]\n",
    "            end\n",
    "        end\n",
    "        display(\"Ak\")\n",
    "        display(A)\n",
    "    end\n",
    "end\n"
   ]
  },
  {
   "cell_type": "markdown",
   "id": "69f47045",
   "metadata": {},
   "source": [
    "**Example 2.6.9: This example demonstrate that what can go wrong if a small pivot is used even though large pivots are available.** "
   ]
  },
  {
   "cell_type": "code",
   "execution_count": 8,
   "id": "a2bc74b0",
   "metadata": {},
   "outputs": [
    {
     "data": {
      "text/plain": [
       "3×3 Matrix{BigFloat}:\n",
       " 0.0019989  1.23047  2.47266\n",
       " 1.19531    3.16406  2.54297\n",
       " 1.47461    4.27344  2.14062"
      ]
     },
     "metadata": {},
     "output_type": "display_data"
    },
    {
     "data": {
      "text/plain": [
       "\"k\""
      ]
     },
     "metadata": {},
     "output_type": "display_data"
    },
    {
     "data": {
      "text/plain": [
       "1"
      ]
     },
     "metadata": {},
     "output_type": "display_data"
    },
    {
     "data": {
      "text/plain": [
       "\"Ak\""
      ]
     },
     "metadata": {},
     "output_type": "display_data"
    },
    {
     "data": {
      "text/plain": [
       "3×3 Matrix{BigFloat}:\n",
       "   0.0019989     1.23047      2.47266\n",
       " 598.0        -733.0      -1476.0\n",
       " 738.0        -904.0      -1822.0"
      ]
     },
     "metadata": {},
     "output_type": "display_data"
    },
    {
     "data": {
      "text/plain": [
       "\"k\""
      ]
     },
     "metadata": {},
     "output_type": "display_data"
    },
    {
     "data": {
      "text/plain": [
       "2"
      ]
     },
     "metadata": {},
     "output_type": "display_data"
    },
    {
     "data": {
      "text/plain": [
       "\"Ak\""
      ]
     },
     "metadata": {},
     "output_type": "display_data"
    },
    {
     "data": {
      "text/plain": [
       "3×3 Matrix{BigFloat}:\n",
       "   0.0019989     1.23047      2.47266\n",
       " 598.0        -733.0      -1476.0\n",
       " 738.0           1.23242     -2.0"
      ]
     },
     "metadata": {},
     "output_type": "display_data"
    },
    {
     "data": {
      "text/plain": [
       "\"k\""
      ]
     },
     "metadata": {},
     "output_type": "display_data"
    },
    {
     "data": {
      "text/plain": [
       "3"
      ]
     },
     "metadata": {},
     "output_type": "display_data"
    },
    {
     "data": {
      "text/plain": [
       "\"Ak\""
      ]
     },
     "metadata": {},
     "output_type": "display_data"
    },
    {
     "data": {
      "text/plain": [
       "3×3 Matrix{BigFloat}:\n",
       "   0.0019989     1.23047      2.47266\n",
       " 598.0        -733.0      -1476.0\n",
       " 738.0           1.23242     -2.0"
      ]
     },
     "metadata": {},
     "output_type": "display_data"
    },
    {
     "name": "stdout",
     "output_type": "stream",
     "text": [
      "vector b\n"
     ]
    },
    {
     "data": {
      "text/plain": [
       "3-element Vector{BigFloat}:\n",
       " 3.7031\n",
       " 6.9062\n",
       " 7.8906"
      ]
     },
     "metadata": {},
     "output_type": "display_data"
    }
   ],
   "source": [
    "#example 2.6.9\n",
    "setprecision(BigFloat,3,base=10)\n",
    "A3 = [BigFloat(0.002) BigFloat(1.231) BigFloat(2.471); BigFloat(1.196) BigFloat(3.165) BigFloat(2.543); BigFloat(1.475) BigFloat(4.271) BigFloat(2.142)]\n",
    "display(A3)\n",
    "A4 = copy(A3) \n",
    "getrfOuter!(A3)\n",
    "b3 = [BigFloat(3.704); BigFloat(6.904); BigFloat(7.888)] \n",
    "println(\"vector b\")\n",
    "display(b3)"
   ]
  },
  {
   "cell_type": "code",
   "execution_count": 9,
   "id": "6981cc2d",
   "metadata": {},
   "outputs": [
    {
     "data": {
      "text/plain": [
       "3×3 Matrix{BigFloat}:\n",
       "   0.0019989     1.23047      2.47266\n",
       " 598.0        -733.0      -1476.0\n",
       " 738.0           1.23242     -2.0"
      ]
     },
     "execution_count": 9,
     "metadata": {},
     "output_type": "execute_result"
    }
   ],
   "source": [
    "A3"
   ]
  },
  {
   "cell_type": "code",
   "execution_count": 10,
   "id": "9d25d0a1",
   "metadata": {},
   "outputs": [
    {
     "data": {
      "text/plain": [
       "getrs (generic function with 1 method)"
      ]
     },
     "execution_count": 10,
     "metadata": {},
     "output_type": "execute_result"
    }
   ],
   "source": [
    "#find the solution\n",
    "function getrs!(A, x)\n",
    "    n = length(x)\n",
    "    # Solve using matrix L\n",
    "    for j = 1:n\n",
    "        for i = j+1:n\n",
    "            x[i] -= A[i,j] * x[j]\n",
    "        end\n",
    "    end\n",
    "    # Solve using matrix U\n",
    "    for j = n:-1:1\n",
    "        x[j] /= A[j,j]\n",
    "        for i = 1:j-1\n",
    "            x[i] -= A[i,j] * x[j]\n",
    "        end\n",
    "    end\n",
    "end\n",
    "function getrs(A, b)\n",
    "    n = length(b)\n",
    "    x = copy(b)\n",
    "    getrs!(A, x)\n",
    "    return x\n",
    "end"
   ]
  },
  {
   "cell_type": "code",
   "execution_count": 11,
   "id": "d6106204",
   "metadata": {},
   "outputs": [
    {
     "data": {
      "text/plain": [
       "3-element Vector{BigFloat}:\n",
       "  3.9102\n",
       " -1.0156\n",
       "  2.0"
      ]
     },
     "execution_count": 11,
     "metadata": {},
     "output_type": "execute_result"
    }
   ],
   "source": [
    "x3 = getrs(A3, b3) #solution without pivoting"
   ]
  },
  {
   "cell_type": "code",
   "execution_count": 12,
   "id": "48dfc5f9",
   "metadata": {},
   "outputs": [
    {
     "data": {
      "text/plain": [
       "\"k=\""
      ]
     },
     "metadata": {},
     "output_type": "display_data"
    },
    {
     "data": {
      "text/plain": [
       "1"
      ]
     },
     "metadata": {},
     "output_type": "display_data"
    },
    {
     "data": {
      "text/plain": [
       "\"After swapping rows and columns\""
      ]
     },
     "metadata": {},
     "output_type": "display_data"
    },
    {
     "data": {
      "text/plain": [
       "3×3 Matrix{BigFloat}:\n",
       " 1.47461    4.27344  2.14062\n",
       " 1.19531    3.16406  2.54297\n",
       " 0.0019989  1.23047  2.47266"
      ]
     },
     "metadata": {},
     "output_type": "display_data"
    },
    {
     "data": {
      "text/plain": [
       "\"After LU factorisation\""
      ]
     },
     "metadata": {},
     "output_type": "display_data"
    },
    {
     "data": {
      "text/plain": [
       "3×3 Matrix{BigFloat}:\n",
       " 1.47461      4.27344   2.14062\n",
       " 0.810547    -0.300781  0.808594\n",
       " 0.00135612   1.22461   2.46875"
      ]
     },
     "metadata": {},
     "output_type": "display_data"
    },
    {
     "data": {
      "text/plain": [
       "\"k=\""
      ]
     },
     "metadata": {},
     "output_type": "display_data"
    },
    {
     "data": {
      "text/plain": [
       "2"
      ]
     },
     "metadata": {},
     "output_type": "display_data"
    },
    {
     "data": {
      "text/plain": [
       "\"After swapping rows and columns\""
      ]
     },
     "metadata": {},
     "output_type": "display_data"
    },
    {
     "data": {
      "text/plain": [
       "3×3 Matrix{BigFloat}:\n",
       " 1.47461      4.27344   2.14062\n",
       " 0.00135612   1.22461   2.46875\n",
       " 0.810547    -0.300781  0.808594"
      ]
     },
     "metadata": {},
     "output_type": "display_data"
    },
    {
     "data": {
      "text/plain": [
       "\"After LU factorisation\""
      ]
     },
     "metadata": {},
     "output_type": "display_data"
    },
    {
     "data": {
      "text/plain": [
       "3×3 Matrix{BigFloat}:\n",
       " 1.47461      4.27344   2.14062\n",
       " 0.00135612   1.22461   2.46875\n",
       " 0.810547    -0.245605  1.41406"
      ]
     },
     "metadata": {},
     "output_type": "display_data"
    },
    {
     "data": {
      "text/plain": [
       "\"k=\""
      ]
     },
     "metadata": {},
     "output_type": "display_data"
    },
    {
     "data": {
      "text/plain": [
       "3"
      ]
     },
     "metadata": {},
     "output_type": "display_data"
    },
    {
     "data": {
      "text/plain": [
       "\"After swapping rows and columns\""
      ]
     },
     "metadata": {},
     "output_type": "display_data"
    },
    {
     "data": {
      "text/plain": [
       "3×3 Matrix{BigFloat}:\n",
       " 1.47461      4.27344   2.14062\n",
       " 0.00135612   1.22461   2.46875\n",
       " 0.810547    -0.245605  1.41406"
      ]
     },
     "metadata": {},
     "output_type": "display_data"
    },
    {
     "data": {
      "text/plain": [
       "\"After LU factorisation\""
      ]
     },
     "metadata": {},
     "output_type": "display_data"
    },
    {
     "data": {
      "text/plain": [
       "3×3 Matrix{BigFloat}:\n",
       " 1.47461      4.27344   2.14062\n",
       " 0.00135612   1.22461   2.46875\n",
       " 0.810547    -0.245605  1.41406"
      ]
     },
     "metadata": {},
     "output_type": "display_data"
    },
    {
     "data": {
      "text/plain": [
       "\"P=\""
      ]
     },
     "metadata": {},
     "output_type": "display_data"
    },
    {
     "data": {
      "text/plain": [
       "3-element Vector{Int64}:\n",
       " 3\n",
       " 1\n",
       " 2"
      ]
     },
     "execution_count": 12,
     "metadata": {},
     "output_type": "execute_result"
    }
   ],
   "source": [
    "pivoting(A4)   #LU factorization with pivoting"
   ]
  },
  {
   "cell_type": "code",
   "execution_count": 13,
   "id": "65fab25d",
   "metadata": {},
   "outputs": [
    {
     "data": {
      "text/plain": [
       "3×3 Matrix{BigFloat}:\n",
       " 1.47461      4.27344   2.14062\n",
       " 0.00135612   1.22461   2.46875\n",
       " 0.810547    -0.245605  1.41406"
      ]
     },
     "execution_count": 13,
     "metadata": {},
     "output_type": "execute_result"
    }
   ],
   "source": [
    "A4  #final matrix after pivoting   "
   ]
  },
  {
   "cell_type": "code",
   "execution_count": 14,
   "id": "d28c2d6d",
   "metadata": {},
   "outputs": [
    {
     "data": {
      "text/plain": [
       "3×3 Matrix{BigFloat}:\n",
       "   0.0019989     1.23047      2.47266\n",
       " 598.0        -733.0      -1476.0\n",
       " 738.0           1.23242     -2.0"
      ]
     },
     "execution_count": 14,
     "metadata": {},
     "output_type": "execute_result"
    }
   ],
   "source": [
    "A3  #final matrix without pivoting"
   ]
  },
  {
   "cell_type": "code",
   "execution_count": 15,
   "id": "9b2a8809",
   "metadata": {},
   "outputs": [
    {
     "data": {
      "text/plain": [
       "3-element Vector{BigFloat}:\n",
       " 7.8906\n",
       " 3.7031\n",
       " 6.9062"
      ]
     },
     "execution_count": 15,
     "metadata": {},
     "output_type": "execute_result"
    }
   ],
   "source": [
    "b4 = [BigFloat(7.888); BigFloat(3.704); BigFloat(6.904)]  # \"b\" matrix after after pivoting. Manually written based on\"P\" matrix"
   ]
  },
  {
   "cell_type": "code",
   "execution_count": 16,
   "id": "68e7826b",
   "metadata": {},
   "outputs": [
    {
     "data": {
      "text/plain": [
       "3-element Vector{BigFloat}:\n",
       " 1.0059\n",
       " 0.99805\n",
       " 1.0"
      ]
     },
     "execution_count": 16,
     "metadata": {},
     "output_type": "execute_result"
    }
   ],
   "source": [
    "x4 = getrs(A4, b4)   #solution after pivoting"
   ]
  },
  {
   "cell_type": "code",
   "execution_count": 17,
   "id": "d593f452",
   "metadata": {},
   "outputs": [
    {
     "name": "stdout",
     "output_type": "stream",
     "text": [
      "Error:=\n"
     ]
    },
    {
     "data": {
      "text/plain": [
       "3-element Vector{BigFloat}:\n",
       "  2.9062\n",
       " -2.0156\n",
       "  1.0"
      ]
     },
     "metadata": {},
     "output_type": "display_data"
    }
   ],
   "source": [
    "println(\"Error:=\")\n",
    "display(x3 - x4)"
   ]
  },
  {
   "cell_type": "code",
   "execution_count": null,
   "id": "23fedbdb",
   "metadata": {},
   "outputs": [],
   "source": []
  }
 ],
 "metadata": {
  "kernelspec": {
   "display_name": "Julia 1.10.0",
   "language": "julia",
   "name": "julia-1.10"
  },
  "language_info": {
   "file_extension": ".jl",
   "mimetype": "application/julia",
   "name": "julia",
   "version": "1.10.0"
  }
 },
 "nbformat": 4,
 "nbformat_minor": 5
}
