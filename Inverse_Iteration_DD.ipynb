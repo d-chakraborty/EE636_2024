{
 "cells": [
  {
   "cell_type": "code",
   "execution_count": 22,
   "id": "637d8d72",
   "metadata": {},
   "outputs": [],
   "source": [
    "using Printf\n",
    "using Random\n",
    "using LinearAlgebra\n",
    "rng = MersenneTwister(18);"
   ]
  },
  {
   "cell_type": "code",
   "execution_count": 23,
   "id": "7ec2cbec",
   "metadata": {},
   "outputs": [
    {
     "data": {
      "text/plain": [
       "3×3 Matrix{Float64}:\n",
       "  1.0   1.0  1.0\n",
       " -1.0   9.0  2.0\n",
       "  0.0  -1.0  2.0"
      ]
     },
     "metadata": {},
     "output_type": "display_data"
    }
   ],
   "source": [
    "A = [1 1 1;-1 9 2;0 -1 2]\n",
    "A = float(A)\n",
    "n = size(A,1)\n",
    "display(A)"
   ]
  },
  {
   "cell_type": "code",
   "execution_count": 24,
   "id": "7af695f8",
   "metadata": {},
   "outputs": [
    {
     "data": {
      "text/plain": [
       "3×3 Matrix{Float64}:\n",
       " 0.0  0.0  1.0\n",
       " 0.0  1.0  0.0\n",
       " 1.0  0.0  0.0"
      ]
     },
     "execution_count": 24,
     "metadata": {},
     "output_type": "execute_result"
    }
   ],
   "source": [
    "Id = Matrix{Float64}(I, n, n)\n",
    "P = zeros(n,n)\n",
    "function anti_diagonal(Id)\n",
    "    c = size(Id, 2)\n",
    "    for i = 1:c\n",
    "        P[:,i] = Id[:,c+1-i]\n",
    "    end\n",
    "    return P\n",
    "end\n",
    "P = anti_diagonal(Id)"
   ]
  },
  {
   "cell_type": "code",
   "execution_count": 26,
   "id": "4e901e7e",
   "metadata": {},
   "outputs": [
    {
     "data": {
      "text/plain": [
       "\"Eigenvalues of A\""
      ]
     },
     "metadata": {},
     "output_type": "display_data"
    },
    {
     "data": {
      "text/plain": [
       "3-element Vector{Float64}:\n",
       " 8.584428340330486\n",
       " 2.1948819130472557\n",
       " 1.2206897466222526"
      ]
     },
     "metadata": {},
     "output_type": "display_data"
    },
    {
     "data": {
      "text/plain": [
       "\"Eigenvectors of A\""
      ]
     },
     "metadata": {},
     "output_type": "display_data"
    },
    {
     "data": {
      "text/plain": [
       "3×3 Matrix{Float64}:\n",
       "  0.109887   0.551634  -0.987861\n",
       "  0.982676  -0.159547  -0.0954854\n",
       " -0.149242   0.818685  -0.122525"
      ]
     },
     "execution_count": 26,
     "metadata": {},
     "output_type": "execute_result"
    }
   ],
   "source": [
    "λ = P*eigvals(A)\n",
    "display(\"Eigenvalues of A\")\n",
    "display(λ)\n",
    "X = eigvecs(A)\n",
    "display(\"Eigenvectors of A\")\n",
    "X = X*P"
   ]
  },
  {
   "cell_type": "code",
   "execution_count": 27,
   "id": "8b1a3c14",
   "metadata": {},
   "outputs": [
    {
     "data": {
      "text/plain": [
       "3×3 Matrix{Float64}:\n",
       " 8.58443      -1.77636e-15  6.10623e-16\n",
       " 1.38778e-15   2.19488      3.33067e-16\n",
       " 4.30211e-15  -6.66134e-16  1.22069"
      ]
     },
     "execution_count": 27,
     "metadata": {},
     "output_type": "execute_result"
    }
   ],
   "source": [
    "Λ = inv(X)*A*X"
   ]
  },
  {
   "cell_type": "code",
   "execution_count": 39,
   "id": "94244c97",
   "metadata": {},
   "outputs": [
    {
     "name": "stdout",
     "output_type": "stream",
     "text": [
      "Exact answer: 8.58442834033049\n",
      "Initial guess: 9\n",
      "Iteration: 1 | eig-value: 8.646502835538753 | Shift:0.35349716446124724\n",
      "Iteration: 2 | eig-value: 8.590104539539519 | Shift:0.409895460460481\n",
      "Iteration: 3 | eig-value: 8.584783244047472 | Shift:0.41521675595252816\n",
      "Iteration: 4 | eig-value: 8.584450128022667 | Shift:0.4155498719773334\n",
      "Iteration: 5 | eig-value: 8.58442967576567 | Shift:0.4155703242343307\n",
      "Iteration: 6 | eig-value: 8.584428422140288 | Shift:0.415571577859712\n",
      "Iteration: 7 | eig-value: 8.584428345340188 | Shift:0.4155716546598125\n",
      "Iteration: 8 | eig-value: 8.584428340637155 | Shift:0.4155716593628451\n",
      "Iteration: 9 | eig-value: 8.58442834034926 | Shift:0.4155716596507393\n",
      "Iteration: 10 | eig-value: 8.584428340331641 | Shift:0.41557165966835896\n",
      "Iteration: 11 | eig-value: 8.584428340330561 | Shift:0.415571659669439\n",
      "Iteration: 12 | eig-value: 8.584428340330495 | Shift:0.4155716596695047\n",
      "Iteration: 13 | eig-value: 8.584428340330492 | Shift:0.41557165966950826\n",
      "Iteration: 14 | eig-value: 8.584428340330494 | Shift:0.4155716596695065\n",
      "Iteration: 15 | eig-value: 8.584428340330494 | Shift:0.4155716596695065\n"
     ]
    },
    {
     "data": {
      "text/plain": [
       "\"Eigen-vector\""
      ]
     },
     "metadata": {},
     "output_type": "display_data"
    },
    {
     "data": {
      "text/plain": [
       "3-element Vector{Float64}:\n",
       " -0.10988742520774158\n",
       " -0.9826756686582475\n",
       "  0.14924236666670504"
      ]
     },
     "metadata": {},
     "output_type": "display_data"
    }
   ],
   "source": [
    "qk = [1;1;1]\n",
    "qk /= norm(qk)\n",
    "\n",
    "μ0 = Λ[1,1]\n",
    "μ =  9\n",
    "# Our initial approximation of an eigenvalue of interest\n",
    "\n",
    "println(\"Exact answer: \", μ0)\n",
    "println(\"Initial guess: \", μ)\n",
    "\n",
    "for k=1:15\n",
    "    zk = (A - μ * I) \\ qk\n",
    "    qk = zk/norm(zk)       # Normalize e-vector\n",
    "    ev = dot(qk, A * qk)   # Eigen-value approximation\n",
    "    s = μ - ev\n",
    "    println(\"Iteration: \",k,\" | eig-value: \", ev, \" | Shift:\", s)\n",
    "end\n",
    "display(\"Eigen-vector\")\n",
    "display(qk)"
   ]
  },
  {
   "cell_type": "code",
   "execution_count": 40,
   "id": "96c76575",
   "metadata": {},
   "outputs": [
    {
     "data": {
      "text/plain": [
       "3-element Vector{Float64}:\n",
       "  0.109887425207742\n",
       "  0.9826756686582475\n",
       " -0.14924236666670512"
      ]
     },
     "execution_count": 40,
     "metadata": {},
     "output_type": "execute_result"
    }
   ],
   "source": [
    "X[:,1]"
   ]
  },
  {
   "cell_type": "code",
   "execution_count": null,
   "id": "cfe1683a",
   "metadata": {},
   "outputs": [],
   "source": []
  }
 ],
 "metadata": {
  "kernelspec": {
   "display_name": "Julia 1.10.0",
   "language": "julia",
   "name": "julia-1.10"
  },
  "language_info": {
   "file_extension": ".jl",
   "mimetype": "application/julia",
   "name": "julia",
   "version": "1.10.0"
  }
 },
 "nbformat": 4,
 "nbformat_minor": 5
}
