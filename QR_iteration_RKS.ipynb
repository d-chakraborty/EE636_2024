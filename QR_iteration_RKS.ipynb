{
 "cells": [
  {
   "cell_type": "code",
   "execution_count": 1,
   "id": "8ae72784",
   "metadata": {},
   "outputs": [],
   "source": [
    "using Printf\n",
    "using Random\n",
    "using LinearAlgebra\n",
    "rng = MersenneTwister(18);"
   ]
  },
  {
   "cell_type": "code",
   "execution_count": 2,
   "id": "bc736dfc",
   "metadata": {},
   "outputs": [
    {
     "data": {
      "text/plain": [
       "\"diagonal matrix\""
      ]
     },
     "metadata": {},
     "output_type": "display_data"
    },
    {
     "data": {
      "text/plain": [
       "4×4 Matrix{Float64}:\n",
       " 1.0  0.0       0.0       0.0\n",
       " 0.0  0.714286  0.0       0.0\n",
       " 0.0  0.0       0.510204  0.0\n",
       " 0.0  0.0       0.0       0.0364431"
      ]
     },
     "metadata": {},
     "output_type": "display_data"
    },
    {
     "data": {
      "text/plain": [
       "4×4 Matrix{Float64}:\n",
       " 0.797232   0.0628466   0.113058     0.0813655\n",
       " 0.0628466  0.522501    0.204426     0.371594\n",
       " 0.113058   0.204426    0.553681    -0.00601555\n",
       " 0.0813655  0.371594   -0.00601555   0.387518"
      ]
     },
     "execution_count": 2,
     "metadata": {},
     "output_type": "execute_result"
    }
   ],
   "source": [
    "# Size of matrix\n",
    "n = 4\n",
    "Q0 = rand(rng, n, n)\n",
    "Λ = diagm(0 => Float64[1.4^(-i) for i=0:n-1])\n",
    "\n",
    "F = qr(copy(Q0)); Q = F.Q\n",
    "Λ[n,n] = 1e-1 * Λ[n,n]\n",
    "display(\"diagonal matrix\")\n",
    "display(Λ)\n",
    "A = Q * Λ / Q"
   ]
  },
  {
   "cell_type": "code",
   "execution_count": 3,
   "id": "47346cf7",
   "metadata": {},
   "outputs": [
    {
     "data": {
      "text/plain": [
       "\"k\""
      ]
     },
     "metadata": {},
     "output_type": "display_data"
    },
    {
     "data": {
      "text/plain": [
       "1"
      ]
     },
     "metadata": {},
     "output_type": "display_data"
    },
    {
     "data": {
      "text/plain": [
       "\"Tk\""
      ]
     },
     "metadata": {},
     "output_type": "display_data"
    },
    {
     "data": {
      "text/plain": [
       "4×4 Matrix{Float64}:\n",
       "  0.85326      0.139857   0.0485746  -0.00516774\n",
       "  0.139857     0.852765   0.0316727  -0.0279366\n",
       "  0.0485746    0.0316727  0.51661     0.019598\n",
       " -0.00516774  -0.0279366  0.019598    0.0382987"
      ]
     },
     "metadata": {},
     "output_type": "display_data"
    },
    {
     "data": {
      "text/plain": [
       "\"k\""
      ]
     },
     "metadata": {},
     "output_type": "display_data"
    },
    {
     "data": {
      "text/plain": [
       "2"
      ]
     },
     "metadata": {},
     "output_type": "display_data"
    },
    {
     "data": {
      "text/plain": [
       "\"Tk\""
      ]
     },
     "metadata": {},
     "output_type": "display_data"
    },
    {
     "data": {
      "text/plain": [
       "4×4 Matrix{Float64}:\n",
       " 0.902709     0.134349     0.0286245    0.000217804\n",
       " 0.134349     0.809487     0.00936865   0.00117056\n",
       " 0.0286245    0.00936865   0.512287    -0.00150498\n",
       " 0.000217804  0.00117056  -0.00150498   0.0364498"
      ]
     },
     "metadata": {},
     "output_type": "display_data"
    },
    {
     "data": {
      "text/plain": [
       "\"k\""
      ]
     },
     "metadata": {},
     "output_type": "display_data"
    },
    {
     "data": {
      "text/plain": [
       "3"
      ]
     },
     "metadata": {},
     "output_type": "display_data"
    },
    {
     "data": {
      "text/plain": [
       "\"Tk\""
      ]
     },
     "metadata": {},
     "output_type": "display_data"
    },
    {
     "data": {
      "text/plain": [
       "4×4 Matrix{Float64}:\n",
       "  0.941253     0.115086     0.0160218    -8.69293e-6\n",
       "  0.115086     0.772389     0.000954527  -5.18208e-5\n",
       "  0.0160218    0.000954527  0.510847      0.000108699\n",
       " -8.69293e-6  -5.18208e-5   0.000108699   0.0364432"
      ]
     },
     "metadata": {},
     "output_type": "display_data"
    },
    {
     "data": {
      "text/plain": [
       "\"k\""
      ]
     },
     "metadata": {},
     "output_type": "display_data"
    },
    {
     "data": {
      "text/plain": [
       "4"
      ]
     },
     "metadata": {},
     "output_type": "display_data"
    },
    {
     "data": {
      "text/plain": [
       "\"Tk\""
      ]
     },
     "metadata": {},
     "output_type": "display_data"
    },
    {
     "data": {
      "text/plain": [
       "4×4 Matrix{Float64}:\n",
       " 0.966905     0.091294     0.00862412   3.34035e-7\n",
       " 0.091294     0.747163    -0.00173533   2.41664e-6\n",
       " 0.00862412  -0.00173533   0.510422    -7.76291e-6\n",
       " 3.34035e-7   2.41664e-6  -7.76291e-6   0.0364431"
      ]
     },
     "metadata": {},
     "output_type": "display_data"
    },
    {
     "data": {
      "text/plain": [
       "\"k\""
      ]
     },
     "metadata": {},
     "output_type": "display_data"
    },
    {
     "data": {
      "text/plain": [
       "5"
      ]
     },
     "metadata": {},
     "output_type": "display_data"
    },
    {
     "data": {
      "text/plain": [
       "\"Tk\""
      ]
     },
     "metadata": {},
     "output_type": "display_data"
    },
    {
     "data": {
      "text/plain": [
       "4×4 Matrix{Float64}:\n",
       "  0.982163     0.0690721    0.00453129  -1.25337e-8\n",
       "  0.0690721    0.73204     -0.0021972   -1.17031e-7\n",
       "  0.00453129  -0.0021972    0.510286     5.5361e-7\n",
       " -1.25337e-8  -1.17031e-7   5.5361e-7    0.0364431"
      ]
     },
     "metadata": {},
     "output_type": "display_data"
    },
    {
     "data": {
      "text/plain": [
       "\"k\""
      ]
     },
     "metadata": {},
     "output_type": "display_data"
    },
    {
     "data": {
      "text/plain": [
       "6"
      ]
     },
     "metadata": {},
     "output_type": "display_data"
    },
    {
     "data": {
      "text/plain": [
       "\"Tk\""
      ]
     },
     "metadata": {},
     "output_type": "display_data"
    },
    {
     "data": {
      "text/plain": [
       "4×4 Matrix{Float64}:\n",
       " 0.99063       0.0508679    0.00234824   4.63912e-10\n",
       " 0.0508679     0.723622    -0.00193478   5.80263e-9\n",
       " 0.00234824   -0.00193478   0.510238    -3.94957e-8\n",
       " 4.63912e-10   5.80263e-9  -3.94957e-8   0.0364431"
      ]
     },
     "metadata": {},
     "output_type": "display_data"
    },
    {
     "data": {
      "text/plain": [
       "\"k\""
      ]
     },
     "metadata": {},
     "output_type": "display_data"
    },
    {
     "data": {
      "text/plain": [
       "7"
      ]
     },
     "metadata": {},
     "output_type": "display_data"
    },
    {
     "data": {
      "text/plain": [
       "\"Tk\""
      ]
     },
     "metadata": {},
     "output_type": "display_data"
    },
    {
     "data": {
      "text/plain": [
       "4×4 Matrix{Float64}:\n",
       "  0.995146      0.0369174     0.00120787  -1.70439e-11\n",
       "  0.0369174     0.719125     -0.0015184   -2.91596e-10\n",
       "  0.00120787   -0.0015184     0.51022      2.81909e-9\n",
       " -1.70438e-11  -2.91596e-10   2.81909e-9   0.0364431"
      ]
     },
     "metadata": {},
     "output_type": "display_data"
    },
    {
     "data": {
      "text/plain": [
       "\"k\""
      ]
     },
     "metadata": {},
     "output_type": "display_data"
    },
    {
     "data": {
      "text/plain": [
       "8"
      ]
     },
     "metadata": {},
     "output_type": "display_data"
    },
    {
     "data": {
      "text/plain": [
       "\"Tk\""
      ]
     },
     "metadata": {},
     "output_type": "display_data"
    },
    {
     "data": {
      "text/plain": [
       "4×4 Matrix{Float64}:\n",
       " 0.997504      0.0265871     0.000618849   6.23813e-13\n",
       " 0.0265871     0.716775     -0.00113492    1.47603e-11\n",
       " 0.000618849  -0.00113492    0.510212     -2.01284e-10\n",
       " 6.23731e-13   1.47603e-11  -2.01284e-10   0.0364431"
      ]
     },
     "metadata": {},
     "output_type": "display_data"
    },
    {
     "data": {
      "text/plain": [
       "\"k\""
      ]
     },
     "metadata": {},
     "output_type": "display_data"
    },
    {
     "data": {
      "text/plain": [
       "9"
      ]
     },
     "metadata": {},
     "output_type": "display_data"
    },
    {
     "data": {
      "text/plain": [
       "\"Tk\""
      ]
     },
     "metadata": {},
     "output_type": "display_data"
    },
    {
     "data": {
      "text/plain": [
       "4×4 Matrix{Float64}:\n",
       "  0.998721      0.019071      0.00031642   -2.28611e-14\n",
       "  0.019071      0.715561     -0.000829124  -7.5e-13\n",
       "  0.00031642   -0.000829124   0.510208      1.43744e-11\n",
       " -2.27795e-14  -7.50018e-13   1.43745e-11   0.0364431"
      ]
     },
     "metadata": {},
     "output_type": "display_data"
    },
    {
     "data": {
      "text/plain": [
       "\"k\""
      ]
     },
     "metadata": {},
     "output_type": "display_data"
    },
    {
     "data": {
      "text/plain": [
       "10"
      ]
     },
     "metadata": {},
     "output_type": "display_data"
    },
    {
     "data": {
      "text/plain": [
       "\"Tk\""
      ]
     },
     "metadata": {},
     "output_type": "display_data"
    },
    {
     "data": {
      "text/plain": [
       "4×4 Matrix{Float64}:\n",
       " 0.999346      0.0136516     0.000161617   9.12289e-16\n",
       " 0.0136516     0.714938     -0.000598984   3.81672e-14\n",
       " 0.000161617  -0.000598984   0.510206     -1.0266e-12\n",
       " 8.31069e-16   3.81864e-14  -1.02664e-12   0.0364431"
      ]
     },
     "metadata": {},
     "output_type": "display_data"
    },
    {
     "name": "stdout",
     "output_type": "stream",
     "text": [
      "Tk    [0.9993461945080899, 0.7149376841353045, 0.5102059172749733, 0.03644314868804665]\n",
      "Exact [1.0, 0.7142857142857143, 0.5102040816326531, 0.036443148688046656]\n"
     ]
    }
   ],
   "source": [
    "Tk = copy(A)\n",
    "for k=1:10\n",
    "    F = qr(Tk); Uk = F.Q; Rk = F.R;\n",
    "    Tk = Rk * Uk\n",
    "    display(\"k\")\n",
    "    display(k)\n",
    "    display(\"Tk\")\n",
    "    display(Tk)\n",
    "end\n",
    "\n",
    "# Print approx. and exact evalues\n",
    "n_prt = n\n",
    "Tkdiag = diag(Tk)\n",
    "exact = diag(Λ)\n",
    "println(\"Tk    \",Tkdiag[1:n_prt])\n",
    "println(\"Exact \",exact[1:n_prt])\n"
   ]
  },
  {
   "cell_type": "code",
   "execution_count": 5,
   "id": "abb841a2",
   "metadata": {},
   "outputs": [
    {
     "data": {
      "text/plain": [
       "Eigen{Float64, Float64, Matrix{Float64}, Vector{Float64}}\n",
       "values:\n",
       "4-element Vector{Float64}:\n",
       " 0.036443148688046656\n",
       " 0.510204081632653\n",
       " 0.7142857142857144\n",
       " 1.0000000000000002\n",
       "vectors:\n",
       "4×4 Matrix{Float64}:\n",
       "  0.063274   0.197988    0.793086   -0.572548\n",
       "  0.648422   0.0885987  -0.489732   -0.576074\n",
       " -0.278311  -0.87023    -0.0516346  -0.403208\n",
       " -0.705753   0.442324   -0.358484   -0.421605"
      ]
     },
     "execution_count": 5,
     "metadata": {},
     "output_type": "execute_result"
    }
   ],
   "source": [
    "eigen(A)"
   ]
  },
  {
   "cell_type": "code",
   "execution_count": null,
   "id": "dc0ca8c5",
   "metadata": {},
   "outputs": [],
   "source": []
  }
 ],
 "metadata": {
  "kernelspec": {
   "display_name": "Julia 1.10.0",
   "language": "julia",
   "name": "julia-1.10"
  },
  "language_info": {
   "file_extension": ".jl",
   "mimetype": "application/julia",
   "name": "julia",
   "version": "1.10.0"
  }
 },
 "nbformat": 4,
 "nbformat_minor": 5
}
