{
 "cells": [
  {
   "cell_type": "code",
   "execution_count": 1,
   "id": "ebfae984",
   "metadata": {},
   "outputs": [],
   "source": [
    "using LinearAlgebra\n",
    "using Random\n",
    "rng = MersenneTwister()\n",
    "Random.seed!(rng, 2018)\n",
    ";"
   ]
  },
  {
   "cell_type": "markdown",
   "id": "4d22084c",
   "metadata": {},
   "source": [
    "Example 1.4.18 from Book 'Fundamentals of Matrix Computations' 3rd edition by David Watkins"
   ]
  },
  {
   "cell_type": "code",
   "execution_count": 2,
   "id": "9ac9ad54",
   "metadata": {},
   "outputs": [
    {
     "data": {
      "text/plain": [
       "4×4 Matrix{Float64}:\n",
       "  4.0  -2.0   4.0   2.0\n",
       " -2.0  10.0  -2.0  -7.0\n",
       "  4.0  -2.0   8.0   4.0\n",
       "  2.0  -7.0   4.0   7.0"
      ]
     },
     "metadata": {},
     "output_type": "display_data"
    }
   ],
   "source": [
    "A = [4 -2 4 2;-2 10 -2 -7;4 -2 8 4;2 -7 4 7]\n",
    "A = float(A)\n",
    "A0 = copy(A);\n",
    "B = copy(A)\n",
    "display(A)"
   ]
  },
  {
   "cell_type": "markdown",
   "id": "23a548ce",
   "metadata": {},
   "source": [
    "Choleskey factorization"
   ]
  },
  {
   "cell_type": "code",
   "execution_count": 3,
   "id": "5f479b07",
   "metadata": {},
   "outputs": [
    {
     "data": {
      "text/plain": [
       "potrf! (generic function with 1 method)"
      ]
     },
     "execution_count": 3,
     "metadata": {},
     "output_type": "execute_result"
    }
   ],
   "source": [
    "function potrf!(A)\n",
    "    n = size(A,1)\n",
    "    for j=1:n\n",
    "        display(j)\n",
    "        for k=1:j-1, i=j:n\n",
    "            A[i,j] -= A[i,k] * A[j,k]\n",
    "        end\n",
    "        ajj = sqrt(A[j,j])\n",
    "        for i=j:n\n",
    "            A[i,j] /= ajj\n",
    "        end\n",
    "        display(\"matrix A\")\n",
    "        display(A)\n",
    "    end\n",
    "end"
   ]
  },
  {
   "cell_type": "code",
   "execution_count": 4,
   "id": "59637c92",
   "metadata": {
    "scrolled": true
   },
   "outputs": [
    {
     "data": {
      "text/plain": [
       "1"
      ]
     },
     "metadata": {},
     "output_type": "display_data"
    },
    {
     "data": {
      "text/plain": [
       "\"matrix A\""
      ]
     },
     "metadata": {},
     "output_type": "display_data"
    },
    {
     "data": {
      "text/plain": [
       "4×4 Matrix{Float64}:\n",
       "  2.0  -2.0   4.0   2.0\n",
       " -1.0  10.0  -2.0  -7.0\n",
       "  2.0  -2.0   8.0   4.0\n",
       "  1.0  -7.0   4.0   7.0"
      ]
     },
     "metadata": {},
     "output_type": "display_data"
    },
    {
     "data": {
      "text/plain": [
       "2"
      ]
     },
     "metadata": {},
     "output_type": "display_data"
    },
    {
     "data": {
      "text/plain": [
       "\"matrix A\""
      ]
     },
     "metadata": {},
     "output_type": "display_data"
    },
    {
     "data": {
      "text/plain": [
       "4×4 Matrix{Float64}:\n",
       "  2.0  -2.0   4.0   2.0\n",
       " -1.0   3.0  -2.0  -7.0\n",
       "  2.0   0.0   8.0   4.0\n",
       "  1.0  -2.0   4.0   7.0"
      ]
     },
     "metadata": {},
     "output_type": "display_data"
    },
    {
     "data": {
      "text/plain": [
       "3"
      ]
     },
     "metadata": {},
     "output_type": "display_data"
    },
    {
     "data": {
      "text/plain": [
       "\"matrix A\""
      ]
     },
     "metadata": {},
     "output_type": "display_data"
    },
    {
     "data": {
      "text/plain": [
       "4×4 Matrix{Float64}:\n",
       "  2.0  -2.0   4.0   2.0\n",
       " -1.0   3.0  -2.0  -7.0\n",
       "  2.0   0.0   2.0   4.0\n",
       "  1.0  -2.0   1.0   7.0"
      ]
     },
     "metadata": {},
     "output_type": "display_data"
    },
    {
     "data": {
      "text/plain": [
       "4"
      ]
     },
     "metadata": {},
     "output_type": "display_data"
    },
    {
     "data": {
      "text/plain": [
       "\"matrix A\""
      ]
     },
     "metadata": {},
     "output_type": "display_data"
    },
    {
     "data": {
      "text/plain": [
       "4×4 Matrix{Float64}:\n",
       "  2.0  -2.0   4.0   2.0\n",
       " -1.0   3.0  -2.0  -7.0\n",
       "  2.0   0.0   2.0   4.0\n",
       "  1.0  -2.0   1.0   1.0"
      ]
     },
     "metadata": {},
     "output_type": "display_data"
    }
   ],
   "source": [
    "potrf!(A)"
   ]
  },
  {
   "cell_type": "code",
   "execution_count": 5,
   "id": "16ff6637",
   "metadata": {},
   "outputs": [
    {
     "data": {
      "text/plain": [
       "4×4 Matrix{Float64}:\n",
       "  2.0   0.0  0.0  0.0\n",
       " -1.0   3.0  0.0  0.0\n",
       "  2.0   0.0  2.0  0.0\n",
       "  1.0  -2.0  1.0  1.0"
      ]
     },
     "execution_count": 5,
     "metadata": {},
     "output_type": "execute_result"
    }
   ],
   "source": [
    "G = tril(A)"
   ]
  },
  {
   "cell_type": "code",
   "execution_count": 6,
   "id": "95695ccf",
   "metadata": {},
   "outputs": [
    {
     "data": {
      "text/plain": [
       "4×4 Diagonal{Float64, Vector{Float64}}:\n",
       " 2.0   ⋅    ⋅    ⋅ \n",
       "  ⋅   3.0   ⋅    ⋅ \n",
       "  ⋅    ⋅   2.0   ⋅ \n",
       "  ⋅    ⋅    ⋅   1.0"
      ]
     },
     "execution_count": 6,
     "metadata": {},
     "output_type": "execute_result"
    }
   ],
   "source": [
    "sqrt_D = Diagonal(G)"
   ]
  },
  {
   "cell_type": "code",
   "execution_count": 7,
   "id": "cdaf9f36",
   "metadata": {},
   "outputs": [
    {
     "data": {
      "text/plain": [
       "4×4 Matrix{Float64}:\n",
       "  1.0   0.0       0.0  0.0\n",
       " -0.5   1.0       0.0  0.0\n",
       "  1.0   0.0       1.0  0.0\n",
       "  0.5  -0.666667  0.5  1.0"
      ]
     },
     "execution_count": 7,
     "metadata": {},
     "output_type": "execute_result"
    }
   ],
   "source": [
    "L = G*inv(sqrt_D)"
   ]
  },
  {
   "cell_type": "code",
   "execution_count": 8,
   "id": "fd6cce9c",
   "metadata": {},
   "outputs": [
    {
     "data": {
      "text/plain": [
       "true"
      ]
     },
     "execution_count": 8,
     "metadata": {},
     "output_type": "execute_result"
    }
   ],
   "source": [
    "D = sqrt_D*sqrt_D\n",
    "L * D * L' == A0 #checking A = L* D * L'"
   ]
  },
  {
   "cell_type": "code",
   "execution_count": 9,
   "id": "fcd8bd18",
   "metadata": {},
   "outputs": [
    {
     "data": {
      "text/plain": [
       "true"
      ]
     },
     "execution_count": 9,
     "metadata": {},
     "output_type": "execute_result"
    }
   ],
   "source": [
    "G*G' == A0 "
   ]
  }
 ],
 "metadata": {
  "@webio": {
   "lastCommId": null,
   "lastKernelId": null
  },
  "kernelspec": {
   "display_name": "Julia 1.10.0",
   "language": "julia",
   "name": "julia-1.10"
  },
  "language_info": {
   "file_extension": ".jl",
   "mimetype": "application/julia",
   "name": "julia",
   "version": "1.10.0"
  }
 },
 "nbformat": 4,
 "nbformat_minor": 5
}
