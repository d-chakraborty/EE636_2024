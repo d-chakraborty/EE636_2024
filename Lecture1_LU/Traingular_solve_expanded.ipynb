{
 "cells": [
  {
   "cell_type": "code",
   "execution_count": 4,
   "metadata": {},
   "outputs": [],
   "source": [
    "using LinearAlgebra\n",
    "using Random\n",
    "rng = MersenneTwister();"
   ]
  },
  {
   "cell_type": "code",
   "execution_count": 14,
   "metadata": {},
   "outputs": [
    {
     "data": {
      "text/plain": [
       "\"L,x_true =\""
      ]
     },
     "metadata": {},
     "output_type": "display_data"
    },
    {
     "data": {
      "text/plain": [
       "4×4 Matrix{Float64}:\n",
       " 6.0  0.0  0.0  0.0\n",
       " 9.0  9.0  0.0  0.0\n",
       " 3.0  8.0  9.0  0.0\n",
       " 6.0  4.0  1.0  7.0"
      ]
     },
     "metadata": {},
     "output_type": "display_data"
    },
    {
     "data": {
      "text/plain": [
       "4-element Vector{Int64}:\n",
       " 1\n",
       " 2\n",
       " 7\n",
       " 6"
      ]
     },
     "metadata": {},
     "output_type": "display_data"
    },
    {
     "data": {
      "text/plain": [
       "\"b=\""
      ]
     },
     "metadata": {},
     "output_type": "display_data"
    },
    {
     "data": {
      "text/plain": [
       "4-element Vector{Float64}:\n",
       "  6.0\n",
       " 27.0\n",
       " 82.0\n",
       " 63.0"
      ]
     },
     "metadata": {},
     "output_type": "display_data"
    },
    {
     "name": "stdout",
     "output_type": "stream",
     "text": [
      "n = 4\n"
     ]
    }
   ],
   "source": [
    "Random.seed!(rng, 2018)\n",
    "\n",
    "# Size of the matrix\n",
    "n = 4;\n",
    "\n",
    "# Initialization of matrix A\n",
    "@show n\n",
    "L = zeros(Float64,n,n)\n",
    "x_true=rand(rng,1:9,n)\n",
    "for i=1:n\n",
    "    L[i,1:i] = rand(rng, 1:9, i)\n",
    "    \n",
    "end\n",
    "#L[3, [1,3,4]] = [1,0,1]\n",
    "#L[4,[3,4]] = [1,0]\n",
    "display(\"L,x_true =\")\n",
    "display(L)\n",
    "display(x)\n",
    "b = L * x_true\n",
    "display(\"b=\")\n",
    "display(b)\n"
   ]
  },
  {
   "cell_type": "code",
   "execution_count": 16,
   "metadata": {},
   "outputs": [
    {
     "data": {
      "text/plain": [
       "1×2 Matrix{Float64}:\n",
       " 1.0  1.0"
      ]
     },
     "metadata": {},
     "output_type": "display_data"
    },
    {
     "data": {
      "text/plain": [
       "1×2 Matrix{Float64}:\n",
       " 2.0  2.0"
      ]
     },
     "metadata": {},
     "output_type": "display_data"
    },
    {
     "data": {
      "text/plain": [
       "1×2 Matrix{Float64}:\n",
       " 3.0  7.0"
      ]
     },
     "metadata": {},
     "output_type": "display_data"
    },
    {
     "data": {
      "text/plain": [
       "1×2 Matrix{Float64}:\n",
       " 4.0  6.0"
      ]
     },
     "metadata": {},
     "output_type": "display_data"
    },
    {
     "data": {
      "text/plain": [
       "4-element Vector{Float64}:\n",
       " 1.0\n",
       " 2.0\n",
       " 7.0\n",
       " 6.0"
      ]
     },
     "metadata": {},
     "output_type": "display_data"
    }
   ],
   "source": [
    "n = length(b)\n",
    "x = Vector{Float64}(undef,n)\n",
    "for i=1:n\n",
    "    z = 0.0\n",
    "    for j = 1:i-1\n",
    "        z += L[i,j] * x[j]\n",
    "    end\n",
    "    x[i] = (b[i] - z) / L[i,i]\n",
    "    display([i x[i]])\n",
    "end\n",
    "display(x)"
   ]
  },
  {
   "cell_type": "code",
   "execution_count": 17,
   "metadata": {},
   "outputs": [
    {
     "data": {
      "text/plain": [
       "1×4 adjoint(::Vector{Float64}) with eltype Float64:\n",
       " 1.0  18.0  79.0  57.0"
      ]
     },
     "metadata": {},
     "output_type": "display_data"
    },
    {
     "data": {
      "text/plain": [
       "1×4 adjoint(::Vector{Float64}) with eltype Float64:\n",
       " 1.0  2.0  63.0  49.0"
      ]
     },
     "metadata": {},
     "output_type": "display_data"
    },
    {
     "data": {
      "text/plain": [
       "1×4 adjoint(::Vector{Float64}) with eltype Float64:\n",
       " 1.0  2.0  7.0  42.0"
      ]
     },
     "metadata": {},
     "output_type": "display_data"
    },
    {
     "data": {
      "text/plain": [
       "1×4 adjoint(::Vector{Float64}) with eltype Float64:\n",
       " 1.0  2.0  7.0  6.0"
      ]
     },
     "metadata": {},
     "output_type": "display_data"
    }
   ],
   "source": [
    "n = length(b)\n",
    "    x = copy(b)\n",
    "    for j = 1:n\n",
    "        x[j] = x[j] / L[j,j]\n",
    "        for i = j+1:n\n",
    "            x[i] -= L[i,j] * x[j]\n",
    "            # This is fast because the row index is the inner loop\n",
    "        end\n",
    "        display(x')\n",
    "    end\n",
    "    "
   ]
  }
 ],
 "metadata": {
  "kernelspec": {
   "display_name": "Julia 1.9.4",
   "language": "julia",
   "name": "julia-1.9"
  },
  "language_info": {
   "file_extension": ".jl",
   "mimetype": "application/julia",
   "name": "julia",
   "version": "1.9.4"
  }
 },
 "nbformat": 4,
 "nbformat_minor": 2
}
