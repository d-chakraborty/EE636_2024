{
 "cells": [
  {
   "cell_type": "markdown",
   "metadata": {},
   "source": [
    "Solution of Lower Triangular System - column access is faster than row access - check for performance on 4000x4000 matrices"
   ]
  },
  {
   "cell_type": "code",
   "execution_count": 2,
   "metadata": {},
   "outputs": [
    {
     "name": "stdout",
     "output_type": "stream",
     "text": [
      "  0.062470 seconds (2 allocations: 31.297 KiB)\n",
      "  0.015802 seconds (2 allocations: 31.297 KiB)\n"
     ]
    }
   ],
   "source": [
    "# Initialize the random number generator\n",
    "using Random\n",
    "rng = MersenneTwister(2018);\n",
    "\n",
    "# Size of the matrix\n",
    "n = 4000;\n",
    "# Lower triangular matrix\n",
    "L = zeros(Float64,n,n)\n",
    "# Filling the matrix with random integer entries\n",
    "for j=1:n # Column j\n",
    "    L[j,j] = 1 # Should be non-zero\n",
    "    L[j+1:n,j] = rand(rng, -2:2, n-j) \n",
    "end\n",
    "#L[1:6,1:6]\n",
    "# Initializing the right-hand side\n",
    "xe = rand(rng, 0:9, n) # This will be our solution\n",
    "b = L * xe\n",
    "#b'\n",
    "\n",
    "# Load our triangular solvers\n",
    "include(\"trtrs.jl\")\n",
    "\n",
    "x = trtrsRow(L, b)\n",
    "# Let's check the result\n",
    "@assert x == xe\n",
    "\n",
    "x = trtrs(L, b)\n",
    "@assert x == xe\n",
    "\n",
    "@time x = trtrsRow(L, b) # Takes about 4x longer!\n",
    "@time x = trtrs(L, b)\n",
    ";\n"
   ]
  }
 ],
 "metadata": {
  "kernelspec": {
   "display_name": "Julia 1.9.4",
   "language": "julia",
   "name": "julia-1.9"
  },
  "language_info": {
   "file_extension": ".jl",
   "mimetype": "application/julia",
   "name": "julia",
   "version": "1.9.4"
  }
 },
 "nbformat": 4,
 "nbformat_minor": 2
}
