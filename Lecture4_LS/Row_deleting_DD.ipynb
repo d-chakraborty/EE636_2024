{
 "cells": [
  {
   "cell_type": "code",
   "execution_count": 1,
   "id": "6ff3fa90",
   "metadata": {},
   "outputs": [],
   "source": [
    "using Random\n",
    "using LinearAlgebra\n",
    "rng = MersenneTwister(2018)\n",
    "import LinearAlgebra.dot\n",
    "import LinearAlgebra.norm\n",
    "import LinearAlgebra.triu\n",
    "import LinearAlgebra.diag\n",
    "using Printf"
   ]
  },
  {
   "cell_type": "code",
   "execution_count": 2,
   "id": "62d83087",
   "metadata": {},
   "outputs": [
    {
     "data": {
      "text/plain": [
       "4×3 Matrix{Float64}:\n",
       "  2.0  -1.0   4.0\n",
       "  3.0   4.0  -2.0\n",
       "  1.0   4.0   2.0\n",
       " -4.0  -1.0   3.0"
      ]
     },
     "execution_count": 2,
     "metadata": {},
     "output_type": "execute_result"
    }
   ],
   "source": [
    "A = [2 -1 4; 3 4 -2; 1 4 2; -4 -1 3]\n",
    "A = float(A)\n",
    "A0 = copy(A)\n",
    "B0 = copy(A)\n",
    "C0 = copy(A)"
   ]
  },
  {
   "cell_type": "code",
   "execution_count": 3,
   "id": "adc054db",
   "metadata": {},
   "outputs": [
    {
     "data": {
      "text/plain": [
       "house (generic function with 1 method)"
      ]
     },
     "execution_count": 3,
     "metadata": {},
     "output_type": "execute_result"
    }
   ],
   "source": [
    "function house(x)\n",
    "    \"\"\"Computes the Householder transformation for input vector x\"\"\"\n",
    "    sigma = dot(x[2:end],x[2:end])\n",
    "    v = copy(x)\n",
    "\n",
    "    if sigma == 0\n",
    "        beta = 0\n",
    "        return beta, v\n",
    "    end\n",
    "\n",
    "    sq = sqrt(x[1]^2 + sigma)\n",
    "    if x[1] > 0\n",
    "        v[1] += sq\n",
    "    else\n",
    "        v[1] -= sq\n",
    "    end\n",
    "\n",
    "    beta = 2.0 / (v[1]^2 + sigma)\n",
    "\n",
    "    return beta, v\n",
    "end\n"
   ]
  },
  {
   "cell_type": "code",
   "execution_count": 4,
   "id": "4b297d05",
   "metadata": {
    "scrolled": false
   },
   "outputs": [
    {
     "data": {
      "text/plain": [
       "\"R\""
      ]
     },
     "metadata": {},
     "output_type": "display_data"
    },
    {
     "data": {
      "text/plain": [
       "4×3 Matrix{Float64}:\n",
       " -5.47723  -3.28634   1.46059\n",
       "  0.0      -4.81664   0.45675\n",
       "  0.0       0.0      -5.53697\n",
       "  0.0       0.0       0.0"
      ]
     },
     "metadata": {},
     "output_type": "display_data"
    },
    {
     "data": {
      "text/plain": [
       "\"Q\""
      ]
     },
     "metadata": {},
     "output_type": "display_data"
    },
    {
     "data": {
      "text/plain": [
       "4×4 Matrix{Float64}:\n",
       " -0.365148   0.45675   -0.781061   0.219065\n",
       " -0.547723  -0.45675    0.179047   0.677733\n",
       " -0.182574  -0.705887  -0.467599  -0.499742\n",
       "  0.730297  -0.290659  -0.373145   0.492896"
      ]
     },
     "metadata": {},
     "output_type": "display_data"
    }
   ],
   "source": [
    "##Householder transformation\n",
    "    m = size(A,1)\n",
    "    n = size(A,2)\n",
    "    vA = zeros(n)\n",
    "    E = Matrix{Float64}(I, m, m)\n",
    "    kend = (m > n ? n : m-1)\n",
    "    #display(kend)\n",
    "   Q = copy(E)\n",
    "    for k=1:kend\n",
    "        beta, v = house(A[k:end,k])\n",
    "    G = Matrix{Float64}(I, m-k+1, m-k+1) - beta*v*v'\n",
    "\n",
    "    P = copy(E)\n",
    "    P = float(P)\n",
    "    P[k:end, k:end] = G\n",
    " \n",
    "    Q = Q*P\n",
    "    \n",
    "    #v = v/v(1)\n",
    "        for j=k:n\n",
    "            # vA = beta * v^T * A\n",
    "            vA[j] = 0.0\n",
    "            for i=k:m\n",
    "                vA[j] += v[i-k+1] * A[i,j]\n",
    "            end\n",
    "            vA[j] *= beta\n",
    "        end\n",
    "        # A - beta v (v^T A)\n",
    "        for j=k:n, i=k:m\n",
    "            A[i,j] -= v[i-k+1] * vA[j]\n",
    "        end\n",
    "    v = v/v[1]\n",
    "        A[k+1:end,k] = v[2:end]\n",
    "        # Saving v in the lower triangular part of A.\n",
    "        # This was not done here but one can always\n",
    "        # divide v by v[1] such that v[1] = 1 is always true.\n",
    "        # In that case, v[1] does not need to be stored.\n",
    "    end\n",
    "    R = triu(A)\n",
    "    display(\"R\")\n",
    "    display(R)\n",
    "    display(\"Q\")\n",
    "    display(Q)"
   ]
  },
  {
   "cell_type": "code",
   "execution_count": 5,
   "id": "bb0c6ceb",
   "metadata": {},
   "outputs": [
    {
     "data": {
      "text/plain": [
       "givens (generic function with 1 method)"
      ]
     },
     "execution_count": 5,
     "metadata": {},
     "output_type": "execute_result"
    }
   ],
   "source": [
    "function givens(a, b)\n",
    "    if b == 0\n",
    "        c = 1\n",
    "        s = 0\n",
    "    else\n",
    "        if abs(b) > abs(a)\n",
    "            tau = -a/b\n",
    "            s = 1.0/sqrt(1.0+tau*tau)\n",
    "            c = s*tau\n",
    "        else\n",
    "            tau = -b/a\n",
    "            c = 1.0/sqrt(1.0+tau*tau)\n",
    "            s = c*tau\n",
    "        end\n",
    "    end\n",
    "    return (c, s)\n",
    "end"
   ]
  },
  {
   "cell_type": "code",
   "execution_count": 6,
   "id": "396fe22e",
   "metadata": {},
   "outputs": [
    {
     "data": {
      "text/plain": [
       "4-element Vector{Float64}:\n",
       " -0.3651483716701107\n",
       "  0.45675013919557\n",
       " -0.7810611209854971\n",
       "  0.21906506407086604"
      ]
     },
     "execution_count": 6,
     "metadata": {},
     "output_type": "execute_result"
    }
   ],
   "source": [
    "q=Q[1,:]"
   ]
  },
  {
   "cell_type": "code",
   "execution_count": 7,
   "id": "1b707153",
   "metadata": {},
   "outputs": [
    {
     "data": {
      "text/plain": [
       "\"q\""
      ]
     },
     "metadata": {},
     "output_type": "display_data"
    },
    {
     "data": {
      "text/plain": [
       "4-element Vector{Float64}:\n",
       " -0.9999999999999996\n",
       "  5.551115123125783e-17\n",
       "  5.551115123125783e-17\n",
       " -2.7755575615628914e-17"
      ]
     },
     "metadata": {},
     "output_type": "display_data"
    },
    {
     "data": {
      "text/plain": [
       "\"G\""
      ]
     },
     "metadata": {},
     "output_type": "display_data"
    },
    {
     "data": {
      "text/plain": [
       "4×4 Matrix{Float64}:\n",
       " 0.365148  -0.45675    0.781061  -0.219065\n",
       " 0.930949   0.179152  -0.306357   0.0859244\n",
       " 0.0        0.871369   0.4724    -0.132494\n",
       " 0.0        0.0        0.270051   0.962846"
      ]
     },
     "metadata": {},
     "output_type": "display_data"
    }
   ],
   "source": [
    "n = size(q,1)\n",
    "G = Matrix(1.0I, n, n)\n",
    "# for k= (n-1):1\n",
    "k=n-1\n",
    "while (k>=1)\n",
    "#     display(k)\n",
    "    c, s = givens(q[k], q[k+1])\n",
    "    T = Matrix(1.0I, n, n) # Identity matrix of Float64 type\n",
    "    T[k,k] = T[k+1, k+1] = c; T[k,k+1]= -s\n",
    "    T[k+1,k] = s; \n",
    "    G = T*G\n",
    "#     display(\"T\")\n",
    "#     display(T)\n",
    "    # Apply the Givens rotation to row k and k+1\n",
    "    q[k], q[k+1] = ( c * q[k] - s * q[k+1], s * q[k] + c * q[k+1] )\n",
    "#     display(q)\n",
    "    k=k-1\n",
    "#     display(\"G\")\n",
    "#     display(G)\n",
    "end\n",
    "    display(\"q\")\n",
    "    display(q)\n",
    "    display(\"G\")\n",
    "    display(G)"
   ]
  },
  {
   "cell_type": "code",
   "execution_count": 8,
   "id": "89d771ab",
   "metadata": {},
   "outputs": [
    {
     "data": {
      "text/plain": [
       "4×4 Matrix{Float64}:\n",
       " 0.365148  -0.45675    0.781061  -0.219065\n",
       " 0.930949   0.179152  -0.306357   0.0859244\n",
       " 0.0        0.871369   0.4724    -0.132494\n",
       " 0.0        0.0        0.270051   0.962846"
      ]
     },
     "execution_count": 8,
     "metadata": {},
     "output_type": "execute_result"
    }
   ],
   "source": [
    "G #Givens rotarors"
   ]
  },
  {
   "cell_type": "code",
   "execution_count": 9,
   "id": "f3bf8a1e",
   "metadata": {},
   "outputs": [
    {
     "data": {
      "text/plain": [
       "4×3 Matrix{Float64}:\n",
       " -2.0       1.0      -4.0\n",
       " -5.09902  -3.92232   3.13786\n",
       "  0.0      -4.19707  -2.21767\n",
       "  0.0       0.0      -1.49526"
      ]
     },
     "execution_count": 9,
     "metadata": {},
     "output_type": "execute_result"
    }
   ],
   "source": [
    "H = G*R #Upper Hessenberg"
   ]
  },
  {
   "cell_type": "code",
   "execution_count": 10,
   "id": "d492f5e2",
   "metadata": {},
   "outputs": [
    {
     "data": {
      "text/plain": [
       "3×3 Matrix{Float64}:\n",
       " -5.09902  -3.92232   3.13786\n",
       "  0.0      -4.19707  -2.21767\n",
       "  0.0       0.0      -1.49526"
      ]
     },
     "execution_count": 10,
     "metadata": {},
     "output_type": "execute_result"
    }
   ],
   "source": [
    "R1 = H[[2,3,4],:] #Upper triangular R1 removing the first row of H"
   ]
  },
  {
   "cell_type": "code",
   "execution_count": 11,
   "id": "97cd1742",
   "metadata": {},
   "outputs": [
    {
     "data": {
      "text/plain": [
       "4×4 Matrix{Float64}:\n",
       " -1.0           9.26494e-17  -2.07915e-18  -2.4153e-17\n",
       "  2.72721e-17  -0.588348     -0.403212      0.700904\n",
       "  2.19326e-16  -0.196116     -0.769768     -0.60745\n",
       "  2.66774e-16   0.784465     -0.494851      0.373815"
      ]
     },
     "execution_count": 11,
     "metadata": {},
     "output_type": "execute_result"
    }
   ],
   "source": [
    "Q2 = Q*G'"
   ]
  },
  {
   "cell_type": "code",
   "execution_count": 12,
   "id": "d0dbf43f",
   "metadata": {},
   "outputs": [
    {
     "data": {
      "text/plain": [
       "3×3 Matrix{Float64}:\n",
       " -0.588348  -0.403212   0.700904\n",
       " -0.196116  -0.769768  -0.60745\n",
       "  0.784465  -0.494851   0.373815"
      ]
     },
     "execution_count": 12,
     "metadata": {},
     "output_type": "execute_result"
    }
   ],
   "source": [
    "Q1 = Q2[[2,3,4],[2,3,4]]"
   ]
  },
  {
   "cell_type": "code",
   "execution_count": 13,
   "id": "0287b3a4",
   "metadata": {},
   "outputs": [
    {
     "data": {
      "text/plain": [
       "3×3 Matrix{Float64}:\n",
       "  3.0   4.0  -2.0\n",
       "  1.0   4.0   2.0\n",
       " -4.0  -1.0   3.0"
      ]
     },
     "execution_count": 13,
     "metadata": {},
     "output_type": "execute_result"
    }
   ],
   "source": [
    "A1 = Q1*R1 #after deleting first row of A"
   ]
  },
  {
   "cell_type": "code",
   "execution_count": 14,
   "id": "37c243c1",
   "metadata": {},
   "outputs": [
    {
     "data": {
      "text/plain": [
       "4×3 Matrix{Float64}:\n",
       "  2.0  -1.0   4.0\n",
       "  3.0   4.0  -2.0\n",
       "  1.0   4.0   2.0\n",
       " -4.0  -1.0   3.0"
      ]
     },
     "execution_count": 14,
     "metadata": {},
     "output_type": "execute_result"
    }
   ],
   "source": [
    "B0 #given matrix A"
   ]
  },
  {
   "cell_type": "code",
   "execution_count": null,
   "id": "822737f8",
   "metadata": {},
   "outputs": [],
   "source": []
  }
 ],
 "metadata": {
  "@webio": {
   "lastCommId": null,
   "lastKernelId": null
  },
  "kernelspec": {
   "display_name": "Julia 1.10.0",
   "language": "julia",
   "name": "julia-1.10"
  },
  "language_info": {
   "file_extension": ".jl",
   "mimetype": "application/julia",
   "name": "julia",
   "version": "1.10.0"
  }
 },
 "nbformat": 4,
 "nbformat_minor": 5
}
